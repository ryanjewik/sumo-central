{
 "cells": [
  {
   "cell_type": "code",
   "execution_count": 1,
   "id": "4de30427",
   "metadata": {},
   "outputs": [],
   "source": [
    "from pyspark.sql import SparkSession, functions as F, Window\n",
    "from pyspark.sql.functions import *\n",
    "from pyspark.sql.types import *\n",
    "import sklearn\n",
    "import xgboost.sklearn\n",
    "from xgboost.spark import SparkXGBClassifier"
   ]
  },
  {
   "cell_type": "code",
   "execution_count": null,
   "id": "a0b2898a",
   "metadata": {},
   "outputs": [],
   "source": [
    "import os, pathlib, shutil, sys\n",
    "os.environ[\"HADOOP_HOME\"] = r\"C:\\hadoop\"\n",
    "os.environ[\"PATH\"]       = r\"C:\\hadoop\\bin;\" + os.environ[\"PATH\"]\n",
    "os.environ[\"AWS_PROFILE\"] = \"ryanj\"\n",
    "os.environ[\"AWS_REGION\"]  = \"us-west-2\"\n",
    "os.environ[\"HADOOP_HOME\"] = r\"C:\\hadoop\"\n",
    "os.environ[\"PATH\"] = rf'{os.environ[\"HADOOP_HOME\"]}\\bin;' + os.environ[\"PATH\"]\n",
    "os.environ[\"AWS_ACCESS_KEY_ID\"] = \"\"\n",
    "os.environ[\"AWS_SECRET_ACCESS_KEY\"] = \"\"\n",
    "os.environ[\"PYSPARK_SUBMIT_ARGS\"] = (\n",
    "    \"--packages org.apache.hadoop:hadoop-aws:3.3.4 \"\n",
    "    \"--conf spark.hadoop.fs.s3a.impl=org.apache.hadoop.fs.s3a.S3AFileSystem \"\n",
    "    \"--conf spark.hadoop.fs.s3a.aws.region=us-west-2 \"\n",
    "    \"--conf spark.hadoop.fs.s3a.aws.credentials.provider=com.amazonaws.auth.DefaultAWSCredentialsProviderChain \"\n",
    "    \"--conf spark.hadoop.io.native.lib.available=false \"\n",
    "    \"--conf spark.hadoop.fs.s3a.fast.upload=true \"\n",
    "    \"--conf spark.hadoop.fs.s3a.fast.upload.buffer=bytebuffer \"\n",
    "    \"pyspark-shell\"\n",
    ")"
   ]
  },
  {
   "cell_type": "code",
   "execution_count": 3,
   "id": "cca6ff7e",
   "metadata": {},
   "outputs": [
    {
     "name": "stderr",
     "output_type": "stream",
     "text": [
      "25/09/30 14:01:11 WARN Utils: Your hostname, DESKTOP-H8JETTE resolves to a loopback address: 127.0.1.1; using 172.31.29.112 instead (on interface eth0)\n",
      "25/09/30 14:01:11 WARN Utils: Set SPARK_LOCAL_IP if you need to bind to another address\n"
     ]
    },
    {
     "name": "stdout",
     "output_type": "stream",
     "text": [
      ":: loading settings :: url = jar:file:/usr/local/lib/python3.10/dist-packages/pyspark/jars/ivy-2.5.1.jar!/org/apache/ivy/core/settings/ivysettings.xml\n"
     ]
    },
    {
     "name": "stderr",
     "output_type": "stream",
     "text": [
      "Ivy Default Cache set to: /root/.ivy2/cache\n",
      "The jars for the packages stored in: /root/.ivy2/jars\n",
      "org.apache.hadoop#hadoop-aws added as a dependency\n",
      ":: resolving dependencies :: org.apache.spark#spark-submit-parent-1b31433c-c2c5-4b68-a93c-e6498002dd3d;1.0\n",
      "\tconfs: [default]\n",
      "\tfound org.apache.hadoop#hadoop-aws;3.3.4 in central\n",
      "\tfound com.amazonaws#aws-java-sdk-bundle;1.12.262 in central\n",
      "\tfound org.wildfly.openssl#wildfly-openssl;1.0.7.Final in central\n",
      ":: resolution report :: resolve 152ms :: artifacts dl 6ms\n",
      "\t:: modules in use:\n",
      "\tcom.amazonaws#aws-java-sdk-bundle;1.12.262 from central in [default]\n",
      "\torg.apache.hadoop#hadoop-aws;3.3.4 from central in [default]\n",
      "\torg.wildfly.openssl#wildfly-openssl;1.0.7.Final from central in [default]\n",
      "\t---------------------------------------------------------------------\n",
      "\t|                  |            modules            ||   artifacts   |\n",
      "\t|       conf       | number| search|dwnlded|evicted|| number|dwnlded|\n",
      "\t---------------------------------------------------------------------\n",
      "\t|      default     |   3   |   0   |   0   |   0   ||   3   |   0   |\n",
      "\t---------------------------------------------------------------------\n",
      ":: retrieving :: org.apache.spark#spark-submit-parent-1b31433c-c2c5-4b68-a93c-e6498002dd3d\n",
      "\tconfs: [default]\n",
      "\t0 artifacts copied, 3 already retrieved (0kB/5ms)\n",
      "25/09/30 14:01:13 WARN NativeCodeLoader: Unable to load native-hadoop library for your platform... using builtin-java classes where applicable\n",
      "Setting default log level to \"WARN\".\n",
      "To adjust logging level use sc.setLogLevel(newLevel). For SparkR, use setLogLevel(newLevel).\n"
     ]
    }
   ],
   "source": [
    "spark = (SparkSession.builder\n",
    "         .appName(\"sumo-s3a\")\n",
    "         .config(\n",
    "            \"spark.jars.packages\",\n",
    "            \"org.xgboost:xgboost4j_2.12:2.0.3,\"\n",
    "            \"org.xgboost:xgboost4j-spark_2.12:2.0.3,\"\n",
    "            \"org.apache.hadoop:hadoop-aws:3.3.4,\"\n",
    "            \"com.amazonaws:aws-java-sdk-bundle:1.12.262\"\n",
    "         )\n",
    "         # make sure S3A is wired up; you can keep these if they helped earlier\n",
    "         .config(\"spark.hadoop.fs.s3a.impl\", \"org.apache.hadoop.fs.s3a.S3AFileSystem\")\n",
    "         .config(\"spark.hadoop.fs.s3a.aws.credentials.provider\", \"com.amazonaws.auth.profile.ProfileCredentialsProvider\")\n",
    "         .config(\"spark.hadoop.fs.s3a.aws.region\", \"us-west-2\")\n",
    "         .config(\"spark.driver.memory\", \"4g\")\n",
    "         .config(\"spark.executor.memory\", \"4g\")\n",
    "         .config(\"spark.pyspark.python\", sys.executable)          # workers use venv python\n",
    "         .config(\"spark.pyspark.driver.python\", sys.executable)   # driver uses venv python\n",
    "         .config(\"spark.network.timeout\", \"600s\")\n",
    "         .config(\"spark.executor.heartbeatInterval\", \"60s\")\n",
    "         .config(\"spark.sql.execution.barrier.enabled\", \"true\")\n",
    "         \n",
    "         .getOrCreate())"
   ]
  },
  {
   "cell_type": "code",
   "execution_count": 4,
   "id": "6163570a",
   "metadata": {},
   "outputs": [
    {
     "name": "stdout",
     "output_type": "stream",
     "text": [
      "Vector(spark://172.31.29.112:45691/jars/org.apache.hadoop_hadoop-aws-3.3.4.jar, spark://172.31.29.112:45691/jars/com.amazonaws_aws-java-sdk-bundle-1.12.262.jar, spark://172.31.29.112:45691/jars/org.wildfly.openssl_wildfly-openssl-1.0.7.Final.jar)\n"
     ]
    }
   ],
   "source": [
    "print(spark.sparkContext._jsc.sc().listJars())\n"
   ]
  },
  {
   "cell_type": "code",
   "execution_count": 5,
   "id": "334da550",
   "metadata": {},
   "outputs": [
    {
     "name": "stdout",
     "output_type": "stream",
     "text": [
      "S3A impl: org.apache.hadoop.fs.s3a.S3AFileSystem\n"
     ]
    }
   ],
   "source": [
    "hc = spark.sparkContext._jsc.hadoopConfiguration()\n",
    "print(\"S3A impl:\", hc.get(\"fs.s3a.impl\")) "
   ]
  },
  {
   "cell_type": "code",
   "execution_count": 6,
   "id": "85b39845",
   "metadata": {},
   "outputs": [],
   "source": [
    "# make a writable local temp dir\n",
    "spark_local = r\"C:\\tmp\\spark\"\n",
    "pathlib.Path(spark_local).mkdir(parents=True, exist_ok=True)"
   ]
  },
  {
   "cell_type": "code",
   "execution_count": 7,
   "id": "cdc35f23",
   "metadata": {},
   "outputs": [
    {
     "name": "stdout",
     "output_type": "stream",
     "text": [
      "Spark: 3.5.2\n",
      "Hadoop: 3.3.4\n"
     ]
    }
   ],
   "source": [
    "print(\"Spark:\", spark.version)\n",
    "print(\"Hadoop:\", spark.sparkContext._jvm.org.apache.hadoop.util.VersionInfo.getVersion())"
   ]
  },
  {
   "cell_type": "code",
   "execution_count": 8,
   "id": "29b07e50",
   "metadata": {},
   "outputs": [],
   "source": [
    "spark.conf.set(\"spark.hadoop.fs.s3a.connection.establish.timeout\", \"30000\")   # 30s\n",
    "spark.conf.set(\"spark.hadoop.fs.s3a.threads.keepalivetime\",        \"60000\")   # 60s\n",
    "spark.conf.set(\"spark.hadoop.fs.s3a.connection.ttl\",              \"300000\")   # 5m\n",
    "spark.conf.set(\"spark.hadoop.fs.s3a.retry.interval\",                 \"500\")   # 500ms\n",
    "spark.conf.set(\"spark.hadoop.fs.s3a.retry.throttle.interval\",        \"100\")   # 100ms"
   ]
  },
  {
   "cell_type": "code",
   "execution_count": 9,
   "id": "ea81d742",
   "metadata": {},
   "outputs": [
    {
     "name": "stdout",
     "output_type": "stream",
     "text": [
      "keepalive: 60000\n"
     ]
    }
   ],
   "source": [
    "# convert human-friendly durations to plain integers (milliseconds)\n",
    "hconf = spark.sparkContext._jsc.hadoopConfiguration()\n",
    "\n",
    "fixes = {\n",
    "    \"fs.s3a.connection.establish.timeout\": \"30000\",    # 30s\n",
    "    \"fs.s3a.threads.keepalivetime\": \"60000\",           # 60s\n",
    "    \"fs.s3a.retry.interval\": \"500\",                    # 500ms\n",
    "    \"fs.s3a.retry.throttle.interval\": \"100\",           # 100ms\n",
    "    \"fs.s3a.connection.ttl\": \"300000\",                 # 5m\n",
    "    \"fs.s3a.assumed.role.session.duration\": \"1800000\"  # 30m\n",
    "}\n",
    "for k, v in fixes.items():\n",
    "    hconf.set(k, v)\n",
    "\n",
    "# (optional) double-check one\n",
    "print(\"keepalive:\", hconf.get(\"fs.s3a.threads.keepalivetime\"))\n"
   ]
  },
  {
   "cell_type": "code",
   "execution_count": 10,
   "id": "5136993d",
   "metadata": {},
   "outputs": [
    {
     "name": "stdout",
     "output_type": "stream",
     "text": [
      "Offenders before fix:\n",
      "  fs.s3a.s3guard.consistency.retry.interval = 2s\n",
      "  fs.s3a.s3guard.ddb.background.sleep = 25ms\n",
      "  fs.s3a.s3guard.ddb.throttle.retry.interval = 100ms\n",
      "  fs.s3a.metadatastore.metadata.ttl = 15m\n",
      "  hadoop.security.groups.shell.command.timeout = 0s\n",
      "  hadoop.service.shutdown.timeout = 30s\n",
      "  fs.s3a.multipart.threshold = 128M\n",
      "  yarn.resourcemanager.delegation-token-renewer.thread-retry-interval = 60s\n",
      "  fs.s3a.block.size = 32M\n",
      "  fs.s3a.multipart.size = 64M\n",
      "  fs.azure.sas.expiry.period = 90d\n",
      "  yarn.resourcemanager.delegation-token-renewer.thread-timeout = 60s\n",
      "\n",
      "Normalized to milliseconds:\n",
      "  fs.s3a.s3guard.consistency.retry.interval: 2s -> 2000\n",
      "  fs.s3a.s3guard.ddb.background.sleep: 25ms -> 25\n",
      "  fs.s3a.s3guard.ddb.throttle.retry.interval: 100ms -> 100\n",
      "  fs.s3a.metadatastore.metadata.ttl: 15m -> 900000\n",
      "  hadoop.security.groups.shell.command.timeout: 0s -> 0\n",
      "  hadoop.service.shutdown.timeout: 30s -> 30000\n",
      "  fs.s3a.multipart.threshold: 128M -> 7680000\n",
      "  yarn.resourcemanager.delegation-token-renewer.thread-retry-interval: 60s -> 60000\n",
      "  fs.s3a.block.size: 32M -> 1920000\n",
      "  fs.s3a.multipart.size: 64M -> 3840000\n",
      "  fs.azure.sas.expiry.period: 90d -> 7776000000\n",
      "  yarn.resourcemanager.delegation-token-renewer.thread-timeout: 60s -> 60000\n",
      "\n",
      "Remaining with units (should be empty): []\n"
     ]
    }
   ],
   "source": [
    "import re\n",
    "\n",
    "hconf = spark.sparkContext._jsc.hadoopConfiguration()\n",
    "\n",
    "# report any time-looking values with units\n",
    "offenders = []\n",
    "it = hconf.iterator()\n",
    "pairs = []\n",
    "while it.hasNext():\n",
    "    e = it.next()\n",
    "    pairs.append((e.getKey(), e.getValue()))\n",
    "\n",
    "r_time = re.compile(r\"^\\s*\\d+\\s*(ms|s|m|h|d)\\s*$\", re.I)\n",
    "\n",
    "for k, v in pairs:\n",
    "    if r_time.match(str(v)):\n",
    "        offenders.append((k, v))\n",
    "\n",
    "print(\"Offenders before fix:\")\n",
    "for k, v in offenders:\n",
    "    print(f\"  {k} = {v}\")\n",
    "\n",
    "# convert unit-suffixed durations to milliseconds\n",
    "UNIT_MS = {\"ms\":1, \"s\":1000, \"m\":60_000, \"h\":3_600_000, \"d\":86_400_000}\n",
    "\n",
    "def to_ms_str(val):\n",
    "    m = re.fullmatch(r\"\\s*(\\d+)\\s*(ms|s|m|h|d)\\s*\", str(val).lower())\n",
    "    if not m: \n",
    "        return None\n",
    "    n = int(m.group(1)); u = m.group(2)\n",
    "    return str(n * UNIT_MS[u])\n",
    "\n",
    "changed = []\n",
    "for k, v in pairs:\n",
    "    ms = to_ms_str(v)\n",
    "    if ms and ms != v:\n",
    "        hconf.set(k, ms)\n",
    "        changed.append((k, v, ms))\n",
    "\n",
    "print(\"\\nNormalized to milliseconds:\")\n",
    "for k, old, new in changed:\n",
    "    print(f\"  {k}: {old} -> {new}\")\n",
    "\n",
    "# show any stragglers still using units\n",
    "left = []\n",
    "it = hconf.iterator()\n",
    "while it.hasNext():\n",
    "    e = it.next()\n",
    "    if r_time.match(str(e.getValue())):\n",
    "        left.append((e.getKey(), e.getValue()))\n",
    "print(\"\\nRemaining with units (should be empty):\", left)\n"
   ]
  },
  {
   "cell_type": "code",
   "execution_count": 11,
   "id": "adcb0faf",
   "metadata": {},
   "outputs": [],
   "source": [
    "spark.conf.set(\"spark.sql.files.ignoreCorruptFiles\", \"true\")  # avoids choking on stray files"
   ]
  },
  {
   "cell_type": "markdown",
   "id": "3ae3a4fc",
   "metadata": {},
   "source": [
    "# bronze reads and silver writes"
   ]
  },
  {
   "cell_type": "code",
   "execution_count": 10,
   "id": "215e87da",
   "metadata": {},
   "outputs": [],
   "source": [
    "\n",
    "\n",
    "df = (spark.read\n",
    "      .option(\"multiLine\", \"true\")                # set to \"false\" if you have JSON Lines\n",
    "      .option(\"mode\", \"PERMISSIVE\")               # or \"FAILFAST\"\n",
    "      .option(\"recursiveFileLookup\", \"true\")\n",
    "      .option(\"pathGlobFilter\", \"*.json\")         # only JSON files\n",
    "      .json(\"s3a://ryans-sumo-bucket/sumo-api-calls/rikishi_matches/\"))\n"
   ]
  },
  {
   "cell_type": "code",
   "execution_count": 11,
   "id": "d25aa43d",
   "metadata": {
    "collapsed": true,
    "jupyter": {
     "outputs_hidden": true
    }
   },
   "outputs": [
    {
     "name": "stdout",
     "output_type": "stream",
     "text": [
      "root\n",
      " |-- limit: long (nullable = true)\n",
      " |-- records: array (nullable = true)\n",
      " |    |-- element: struct (containsNull = true)\n",
      " |    |    |-- bashoId: string (nullable = true)\n",
      " |    |    |-- day: long (nullable = true)\n",
      " |    |    |-- division: string (nullable = true)\n",
      " |    |    |-- eastId: long (nullable = true)\n",
      " |    |    |-- eastRank: string (nullable = true)\n",
      " |    |    |-- eastShikona: string (nullable = true)\n",
      " |    |    |-- kimarite: string (nullable = true)\n",
      " |    |    |-- matchNo: long (nullable = true)\n",
      " |    |    |-- westId: long (nullable = true)\n",
      " |    |    |-- westRank: string (nullable = true)\n",
      " |    |    |-- westShikona: string (nullable = true)\n",
      " |    |    |-- winnerEn: string (nullable = true)\n",
      " |    |    |-- winnerId: long (nullable = true)\n",
      " |    |    |-- winnerJp: string (nullable = true)\n",
      " |-- skip: long (nullable = true)\n",
      " |-- total: long (nullable = true)\n",
      "\n",
      "+-------+---+--------+------+------------------+-----------+-----------+-------+------+------------------+-----------+-----------+--------+--------+\n",
      "|bashoId|day|division|eastId|eastRank          |eastShikona|kimarite   |matchNo|westId|westRank          |westShikona|winnerEn   |winnerId|winnerJp|\n",
      "+-------+---+--------+------+------------------+-----------+-----------+-------+------+------------------+-----------+-----------+--------+--------+\n",
      "|201507 |15 |Makuuchi|43    |Maegashira 1 East |Tochinoshin|yorikiri   |13     |3835  |Maegashira 11 West|Kyokutenho |Tochinoshin|43      |        |\n",
      "|201507 |14 |Makuuchi|3247  |Maegashira 4 East |Aminishiki |yorikiri   |9      |3835  |Maegashira 11 West|Kyokutenho |Aminishiki |3247    |        |\n",
      "|201507 |13 |Makuuchi|3835  |Maegashira 11 West|Kyokutenho |yorikiri   |7      |3222  |Maegashira 6 West |Gagamaru   |Gagamaru   |3222    |        |\n",
      "|201507 |12 |Makuuchi|3399  |Maegashira 9 East |Sadanofuji |yorikiri   |4      |3835  |Maegashira 11 West|Kyokutenho |Sadanofuji |3399    |        |\n",
      "|201507 |11 |Makuuchi|3255  |Maegashira 16 East|Takanoiwa  |yorikiri   |4      |3835  |Maegashira 11 West|Kyokutenho |Takanoiwa  |3255    |        |\n",
      "|201507 |10 |Makuuchi|3352  |Maegashira 10 East|Kitataiki  |yorikiri   |5      |3835  |Maegashira 11 West|Kyokutenho |Kyokutenho |3835    |        |\n",
      "|201507 |9  |Makuuchi|3835  |Maegashira 11 West|Kyokutenho |yorikiri   |8      |3204  |Maegashira 7 West |Toyonoshima|Toyonoshima|3204    |        |\n",
      "|201507 |8  |Makuuchi|60    |Maegashira 13 East|Hidenoumi  |uwatenage  |4      |3835  |Maegashira 11 West|Kyokutenho |Kyokutenho |3835    |        |\n",
      "|201507 |7  |Makuuchi|3272  |Maegashira 15 West|Satoyama   |yorikiri   |5      |3835  |Maegashira 11 West|Kyokutenho |Satoyama   |3272    |        |\n",
      "|201507 |6  |Makuuchi|3221  |Maegashira 15 East|Seiro      |yorikiri   |6      |3835  |Maegashira 11 West|Kyokutenho |Seiro      |3221    |        |\n",
      "|201507 |5  |Makuuchi|3140  |Maegashira 14 East|Toyohibiki |sukuinage  |5      |3835  |Maegashira 11 West|Kyokutenho |Kyokutenho |3835    |        |\n",
      "|201507 |4  |Makuuchi|637   |Maegashira 13 West|Chiyotairyu|yorikiri   |6      |3835  |Maegashira 11 West|Kyokutenho |Chiyotairyu|637     |        |\n",
      "|201507 |3  |Makuuchi|4126  |Maegashira 11 East|Tokitenku  |yorikiri   |6      |3835  |Maegashira 11 West|Kyokutenho |Tokitenku  |4126    |        |\n",
      "|201507 |2  |Makuuchi|3158  |Maegashira 12 West|Kotoyuki   |oshidashi  |5      |3835  |Maegashira 11 West|Kyokutenho |Kotoyuki   |3158    |        |\n",
      "|201507 |1  |Makuuchi|17    |Maegashira 12 East|Endo       |yorikiri   |5      |3835  |Maegashira 11 West|Kyokutenho |Endo       |17      |        |\n",
      "|201505 |15 |Makuuchi|3835  |Maegashira 14 West|Kyokutenho |yorikiri   |4      |17    |Maegashira 9 West |Endo       |Endo       |17      |        |\n",
      "|201505 |14 |Makuuchi|3835  |Maegashira 14 West|Kyokutenho |katasukashi|6      |3399  |Maegashira 7 West |Sadanofuji |Kyokutenho |3835    |        |\n",
      "|201505 |13 |Makuuchi|3222  |Maegashira 6 East |Gagamaru   |katasukashi|8      |3835  |Maegashira 14 West|Kyokutenho |Kyokutenho |3835    |        |\n",
      "|201505 |12 |Makuuchi|3248  |Maegashira 14 East|Yoshikaze  |tsukiotoshi|1      |3835  |Maegashira 14 West|Kyokutenho |Yoshikaze  |3248    |        |\n",
      "|201505 |11 |Makuuchi|3246  |Maegashira 12 East|Arawashi   |yorikiri   |2      |3835  |Maegashira 14 West|Kyokutenho |Kyokutenho |3835    |        |\n",
      "+-------+---+--------+------+------------------+-----------+-----------+-------+------+------------------+-----------+-----------+--------+--------+\n",
      "only showing top 20 rows\n",
      "root\n",
      " |-- bashoId: string (nullable = true)\n",
      " |-- day: long (nullable = true)\n",
      " |-- division: string (nullable = true)\n",
      " |-- eastId: long (nullable = true)\n",
      " |-- eastRank: string (nullable = true)\n",
      " |-- eastShikona: string (nullable = true)\n",
      " |-- kimarite: string (nullable = true)\n",
      " |-- matchNo: long (nullable = true)\n",
      " |-- westId: long (nullable = true)\n",
      " |-- westRank: string (nullable = true)\n",
      " |-- westShikona: string (nullable = true)\n",
      " |-- winnerEn: string (nullable = true)\n",
      " |-- winnerId: long (nullable = true)\n",
      " |-- winnerJp: string (nullable = true)\n",
      "\n"
     ]
    }
   ],
   "source": [
    "\n",
    "# After your JSON read\n",
    "df.printSchema()\n",
    "# You'll likely see: root\n",
    "#  |-- 0: array (nullable = true)\n",
    "#  |    |-- element: struct (contains your fields)\n",
    "\n",
    "rows = df.select(explode(col(\"records\")).alias(\"match\"))\n",
    "flat = rows.select(\"match.*\")   # expand struct into columns\n",
    "flat.show(20, truncate=False)\n",
    "flat.printSchema()"
   ]
  },
  {
   "cell_type": "markdown",
   "id": "19bfe81e",
   "metadata": {},
   "source": [
    "convert to parquet"
   ]
  },
  {
   "cell_type": "code",
   "execution_count": 12,
   "id": "4d7d0086",
   "metadata": {},
   "outputs": [],
   "source": [
    "silver = (flat\n",
    "          .dropDuplicates())          # typical dedupe key"
   ]
  },
  {
   "cell_type": "code",
   "execution_count": 13,
   "id": "13a8886a",
   "metadata": {},
   "outputs": [],
   "source": [
    "silver = (silver\n",
    "         .withColumn(\"year\", F.col(\"bashoId\").cast(\"string\").substr(1,4))\n",
    "          .withColumn(\"month\", F.col(\"bashoId\").cast(\"string\").substr(5,2))\n",
    "          .withColumn(\"match_date\",\n",
    "                     F.to_date(\n",
    "                         F.concat_ws(\"-\", F.col(\"year\"), F.col(\"month\"), F.lpad(F.col(\"day\"), 2, \"0\")),\n",
    "                             \"yyyy-MM-dd\"\n",
    "                         )\n",
    "                     )\n",
    "          .withColumn(\n",
    "              \"match_id\",\n",
    "              F.concat_ws(\"\", F.date_format(F.col(\"match_date\"), \"yyyyMMdd\"), F.col(\"matchNo\").cast(\"string\")).cast(\"long\")\n",
    "          )\n",
    "          .drop(\"year\", \"month\")\n",
    "         )"
   ]
  },
  {
   "cell_type": "code",
   "execution_count": 14,
   "id": "8fc4331d",
   "metadata": {
    "collapsed": true,
    "jupyter": {
     "outputs_hidden": true
    }
   },
   "outputs": [
    {
     "name": "stdout",
     "output_type": "stream",
     "text": [
      "+-------+---+--------+------+------------------+-----------+-----------+-------+------+------------------+-----------+-----------+--------+--------+----------+----------+\n",
      "|bashoId|day|division|eastId|          eastRank|eastShikona|   kimarite|matchNo|westId|          westRank|westShikona|   winnerEn|winnerId|winnerJp|match_date|  match_id|\n",
      "+-------+---+--------+------+------------------+-----------+-----------+-------+------+------------------+-----------+-----------+--------+--------+----------+----------+\n",
      "| 201501|  1|Makuuchi|  3835| Maegashira 7 East| Kyokutenho|   yorikiri|     10|   670| Maegashira 7 West| Chiyootori| Kyokutenho|    3835|        |2015-01-01|2015010110|\n",
      "| 201407| 15|Makuuchi|  3835|Maegashira 12 East| Kyokutenho|   yorikiri|      2|  4126|Maegashira 15 West|  Tokitenku|  Tokitenku|    4126|        |2014-07-15| 201407152|\n",
      "| 201309| 10|Makuuchi|  4177|Maegashira 13 West|    Homasho|   yorikiri|     10|  3835| Maegashira 6 West| Kyokutenho|    Homasho|    4177|        |2013-09-10|2013091010|\n",
      "| 201211|  2|Makuuchi|  3835| Maegashira 6 East| Kyokutenho|   yorikiri|     10|  3222| Maegashira 7 East|   Gagamaru| Kyokutenho|    3835|        |2012-11-02|2012110210|\n",
      "| 201005| 10|Makuuchi|  3352| Maegashira 4 East|  Kitataiki|  oshidashi|     10|  3835| Maegashira 7 West| Kyokutenho|  Kitataiki|    3352|        |2010-05-10|2010051010|\n",
      "| 200907| 10|Makuuchi|  3835|   Komusubi 1 East| Kyokutenho|  uwatenage|     15|  3195| Maegashira 2 East|  Tochiozan| Kyokutenho|    3835|        |2009-07-10|2009071015|\n",
      "| 200709|  1|Makuuchi|  3648|Maegashira 13 East|       Ryuo|   yorikiri|      5|  3835|Maegashira 12 West| Kyokutenho| Kyokutenho|    3835|        |2007-09-01| 200709015|\n",
      "| 200611|  1|Makuuchi|  3835| Maegashira 6 East| Kyokutenho|shitatenage|     11|  3847| Maegashira 5 West|Tochinonada|Tochinonada|    3847|        |2006-11-01|2006110111|\n",
      "| 200609| 14|Makuuchi|  3835| Maegashira 4 West| Kyokutenho|katasukashi|     15|  4126| Maegashira 2 West|  Tokitenku|  Tokitenku|    4126|        |2006-09-14|2006091415|\n",
      "| 200411| 10|Makuuchi|  3851|   Sekiwake 1 East| Wakanosato|   yorikiri|     16|  3835| Maegashira 3 West| Kyokutenho| Wakanosato|    3851|        |2004-11-10|2004111016|\n",
      "+-------+---+--------+------+------------------+-----------+-----------+-------+------+------------------+-----------+-----------+--------+--------+----------+----------+\n",
      "only showing top 10 rows\n"
     ]
    }
   ],
   "source": [
    "silver.show(10)"
   ]
  },
  {
   "cell_type": "code",
   "execution_count": 15,
   "id": "e024d01c",
   "metadata": {},
   "outputs": [
    {
     "name": "stdout",
     "output_type": "stream",
     "text": [
      "io.native.lib.available = false\n",
      "fs.s3a.fast.upload = true\n",
      "fs.s3a.fast.upload.buffer = bytebuffer\n"
     ]
    }
   ],
   "source": [
    "# optional sanity checks:\n",
    "hc = spark.sparkContext._jsc.hadoopConfiguration()\n",
    "print(\"io.native.lib.available =\", hc.get(\"io.native.lib.available\"))\n",
    "print(\"fs.s3a.fast.upload =\", hc.get(\"fs.s3a.fast.upload\"))\n",
    "print(\"fs.s3a.fast.upload.buffer =\", hc.get(\"fs.s3a.fast.upload.buffer\"))"
   ]
  },
  {
   "cell_type": "code",
   "execution_count": 16,
   "id": "15710f2b",
   "metadata": {
    "scrolled": true
   },
   "outputs": [],
   "source": [
    "(silver.write\n",
    " .mode(\"overwrite\")\n",
    " .option(\"compression\", \"snappy\")\n",
    " .partitionBy(\"bashoId\")                        # or by year/month/day\n",
    " .parquet(\"s3a://ryans-sumo-bucket/silver/rikishi_matches/\"))"
   ]
  },
  {
   "cell_type": "code",
   "execution_count": 28,
   "id": "d264f556",
   "metadata": {},
   "outputs": [],
   "source": [
    "df = (spark.read\n",
    "      .option(\"multiLine\", \"true\")                # set to \"false\" if you have JSON Lines\n",
    "      .option(\"mode\", \"PERMISSIVE\")               # or \"FAILFAST\"\n",
    "      .option(\"recursiveFileLookup\", \"true\")\n",
    "      .option(\"pathGlobFilter\", \"*.json\")         # only JSON files\n",
    "      .json(\"s3a://ryans-sumo-bucket/sumo-api-calls/rikishis/\"))"
   ]
  },
  {
   "cell_type": "code",
   "execution_count": 30,
   "id": "6bf199db",
   "metadata": {},
   "outputs": [
    {
     "name": "stdout",
     "output_type": "stream",
     "text": [
      "+--------------------+-----------------+------+------+-----------+----+--------------------+-----+--------------------+----------------------+--------------------+--------+------+\n",
      "|           birthDate|      currentRank| debut|height|       heya|  id|               intai|nskId|           shikonaEn|             shikonaJp|            shusshin|sumodbId|weight|\n",
      "+--------------------+-----------------+------+------+-----------+----+--------------------+-----+--------------------+----------------------+--------------------+--------+------+\n",
      "|1975-08-22T00:00:00Z|             NULL|199103| 187.5|   Kasugano|3739|2011-01-01T00:00:00Z|    0|Kasuganishiki Tak...|                  NULL|Chiba-ken, Isumi-...|     107| 146.3|\n",
      "|2000-10-21T00:00:00Z|   Jonidan 3 East|201903| 176.0|Shikoroyama| 279|2025-03-26T00:00:00Z| 3959|           Kawabuchi|        川渕(かわぶち)|Ishikawa-ken, Kan...|   12568| 118.0|\n",
      "|1977-04-15T00:00:00Z| Jonidan 100 West|199601| 170.3|  Isegahama| 460|2025-05-28T00:00:00Z| 1407|          Satonofuji|  聡ノ富士(さとのふじ)|Gunma-ken, Kitagu...|     383| 109.0|\n",
      "|1999-08-17T00:00:00Z|Makushita 44 West|201503| 180.0|       Kise|  90|                NULL| 3617|           Higonoumi|  肥後ノ海(ひごのうみ)|Kumamoto-ken, Kik...|   12227| 139.0|\n",
      "|1993-06-03T00:00:00Z| Sandanme 76 West|200903| 180.0|  Dewanoumi| 358|                NULL| 3189|            Oginosho|小城ノ正(おぎのしょう)|Osaka-fu, Ikeda-s...|   11767| 125.0|\n",
      "|1984-05-04T00:00:00Z| Sandanme 57 East|200301| 182.5|  Sakaigawa| 203|                NULL| 2522|         Katsunofuji|  克乃富士(かつのふじ)|Aomori-ken, Nishi...|    2836| 138.0|\n",
      "|1996-09-11T00:00:00Z|   Jonidan 5 West|201511| 180.0|Musashigawa| 341|2025-03-26T00:00:00Z| 3662|           Goshimaru|    剛士丸(ごうしまる)|Kanagawa-ken, Miu...|   12271| 112.0|\n",
      "|2001-05-11T00:00:00Z|  Jonidan 79 West|201703| 179.0|  Asakayama| 475|2025-05-28T00:00:00Z| 3802|             Kaitoma|    魁當真(かいとうま)|Kanagawa-ken, Yok...|   12411| 135.0|\n",
      "|1995-10-19T00:00:00Z|   Jonidan 9 East|201801| 172.0|    Kokonoe| 344|2025-03-26T00:00:00Z| 3848|         Chiyohokkai|千代北海(ちよほっかい)|Hokkaido, Sapporo...|   12457| 127.0|\n",
      "|1994-06-09T00:00:00Z| Sandanme 57 East|201301| 180.0|   Ikazuchi| 259|2025-03-26T00:00:00Z| 3432|            Saidaiji|    西大司(さいだいじ)|Okayama-ken, Okay...|   12041| 182.0|\n",
      "+--------------------+-----------------+------+------+-----------+----+--------------------+-----+--------------------+----------------------+--------------------+--------+------+\n",
      "only showing top 10 rows\n"
     ]
    }
   ],
   "source": [
    "df.show(10)"
   ]
  },
  {
   "cell_type": "code",
   "execution_count": 31,
   "id": "71c67a44",
   "metadata": {},
   "outputs": [],
   "source": [
    "(df.write\n",
    " .mode(\"overwrite\")\n",
    " .option(\"compression\", \"snappy\")\n",
    " .parquet(\"s3a://ryans-sumo-bucket/silver/rikishis/\"))"
   ]
  },
  {
   "cell_type": "code",
   "execution_count": 32,
   "id": "c42e7c15",
   "metadata": {},
   "outputs": [],
   "source": [
    "df = (spark.read\n",
    "      .option(\"multiLine\", \"true\")                # set to \"false\" if you have JSON Lines\n",
    "      .option(\"mode\", \"PERMISSIVE\")               # or \"FAILFAST\"\n",
    "      .option(\"recursiveFileLookup\", \"true\")\n",
    "      .option(\"pathGlobFilter\", \"*.json\")         # only JSON files\n",
    "      .json(\"s3a://ryans-sumo-bucket/sumo-api-calls/rikishi_stats/\"))\n",
    "\n",
    "df = df.withColumn(\n",
    "    \"rikishi_id\",\n",
    "    F.regexp_extract(F.input_file_name(), r\"rikishi_(\\d+)\\.json\", 1)\n",
    ")\n",
    "\n",
    "(df.write\n",
    " .mode(\"overwrite\")\n",
    " .option(\"compression\", \"snappy\")\n",
    " .parquet(\"s3a://ryans-sumo-bucket/silver/rikishi_stats/\"))"
   ]
  },
  {
   "cell_type": "code",
   "execution_count": 33,
   "id": "38ab3068",
   "metadata": {},
   "outputs": [],
   "source": [
    "df = (spark.read\n",
    "      .option(\"multiLine\", \"true\")                # set to \"false\" if you have JSON Lines\n",
    "      .option(\"mode\", \"PERMISSIVE\")               # or \"FAILFAST\"\n",
    "      .option(\"recursiveFileLookup\", \"true\")\n",
    "      .option(\"pathGlobFilter\", \"*.json\")         # only JSON files\n",
    "      .json(\"s3a://ryans-sumo-bucket/sumo-api-calls/basho/\"))\n",
    "(df.write\n",
    " .mode(\"overwrite\")\n",
    " .option(\"compression\", \"snappy\")\n",
    " .partitionBy(\"location\")\n",
    " .parquet(\"s3a://ryans-sumo-bucket/silver/bashos/\"))"
   ]
  },
  {
   "cell_type": "markdown",
   "id": "cdce13f0",
   "metadata": {},
   "source": [
    "# silvers have been written"
   ]
  },
  {
   "cell_type": "code",
   "execution_count": 11,
   "id": "cebd6c98",
   "metadata": {},
   "outputs": [],
   "source": [
    "df = (spark.read\n",
    "      .option(\"multiLine\", \"true\")                # set to \"false\" if you have JSON Lines\n",
    "      .option(\"mode\", \"PERMISSIVE\")               # or \"FAILFAST\"\n",
    "      .option(\"recursiveFileLookup\", \"true\")\n",
    "      .option(\"pathGlobFilter\", \"*.parquet\")         # only JSON files\n",
    "      .parquet(\"s3a://ryans-sumo-bucket/silver/rikishi_matches/\"))"
   ]
  },
  {
   "cell_type": "code",
   "execution_count": 12,
   "id": "ffeef6af",
   "metadata": {},
   "outputs": [
    {
     "name": "stdout",
     "output_type": "stream",
     "text": [
      "+---+---------+------+------------------+--------------+-----------+-------+------+------------------+-----------+-----------+--------+--------+----------+----------+\n",
      "|day| division|eastId|          eastRank|   eastShikona|   kimarite|matchNo|westId|          westRank|westShikona|   winnerEn|winnerId|winnerJp|match_date|  match_id|\n",
      "+---+---------+------+------------------+--------------+-----------+-------+------+------------------+-----------+-----------+--------+--------+----------+----------+\n",
      "|  8| Makuuchi|   794| Maegashira 3 East|         Terao|   yorikiri|     14|  4071|   Sekiwake 1 West|       Kaio|       Kaio|    4071|        |1996-05-08|1996050814|\n",
      "|  4|Makushita|  3827| Makushita 17 East|   Chiyotenzan|shitatenage|     24|  3837| Makushita 15 East| Kitazakura|Chiyotenzan|    3827|        |1996-05-04|1996050424|\n",
      "|  3|    Juryo|  3835|      Juryo 7 West|    Kyokutenho|   yorikiri|     12|  5078|      Juryo 1 West|Tokitsunada| Kyokutenho|    3835|        |1996-05-03|1996050312|\n",
      "|  9| Makuuchi|  3833| Maegashira 2 East|    Akinoshima|  uwatenage|     11|  3857| Maegashira 1 West|  Tosanoumi| Akinoshima|    3833|        |1996-05-09|1996050911|\n",
      "| 13| Sandanme|   644|  Sandanme 44 West|Tatsuyamaguchi|   yorikiri|     19|  5187|  Sandanme 41 West|Chiyonokuni|Chiyonokuni|    5187|        |1996-05-13|1996051319|\n",
      "| 14| Makuuchi|  4071|   Sekiwake 1 West|          Kaio|   yorikiri|     19|  3853|      Ozeki 1 West| Takanonami| Takanonami|    3853|        |1996-05-14|1996051419|\n",
      "| 15|Makushita|  3851| Makushita 30 West|        Kogawa|   yorikiri|     12|  3657| Makushita 25 West|  Takanosho|  Takanosho|    3657|        |1996-05-15|1996051512|\n",
      "|  7| Makuuchi|  5370| Maegashira 5 West|         Kenko|  oshidashi|     11|  3857| Maegashira 1 West|  Tosanoumi|  Tosanoumi|    3857|        |1996-05-07|1996050711|\n",
      "| 11| Makuuchi|  1560|Maegashira 10 East|     Mitoizumi|   yorikiri|      4|  4889|Maegashira 15 East| Shikishima| Shikishima|    4889|        |1996-05-11| 199605114|\n",
      "|  1|Makushita|  3860| Makushita 31 East|    Tokitsuumi|shitatenage|     15|  3851| Makushita 30 West|     Kogawa| Tokitsuumi|    3860|        |1996-05-01|1996050115|\n",
      "+---+---------+------+------------------+--------------+-----------+-------+------+------------------+-----------+-----------+--------+--------+----------+----------+\n",
      "only showing top 10 rows\n"
     ]
    }
   ],
   "source": [
    "df.show(10)"
   ]
  },
  {
   "cell_type": "code",
   "execution_count": 13,
   "id": "21d7c414",
   "metadata": {},
   "outputs": [
    {
     "data": {
      "text/plain": [
       "738480"
      ]
     },
     "execution_count": 13,
     "metadata": {},
     "output_type": "execute_result"
    }
   ],
   "source": [
    "df.count()"
   ]
  },
  {
   "cell_type": "code",
   "execution_count": 104,
   "id": "0b61853c",
   "metadata": {},
   "outputs": [],
   "source": [
    "matches = (df\n",
    "      .withColumn(\n",
    "        \"westWin\",\n",
    "        F.when(F.col(\"winnerId\") == F.col(\"westId\"), F.lit(1)).otherwise(F.lit(0))\n",
    "        )\n",
    "     )"
   ]
  },
  {
   "cell_type": "code",
   "execution_count": 15,
   "id": "1f44f4de",
   "metadata": {},
   "outputs": [],
   "source": [
    "rikishis = (spark.read\n",
    "      .option(\"multiLine\", \"true\")                # set to \"false\" if you have JSON Lines\n",
    "      .option(\"mode\", \"PERMISSIVE\")               # or \"FAILFAST\"\n",
    "      .option(\"recursiveFileLookup\", \"true\")\n",
    "      .option(\"pathGlobFilter\", \"*.parquet\")         # only JSON files\n",
    "      .parquet(\"s3a://ryans-sumo-bucket/silver/rikishis/\"))\n",
    "\n",
    "rikishi_stats = (spark.read\n",
    "      .option(\"multiLine\", \"true\")                # set to \"false\" if you have JSON Lines\n",
    "      .option(\"mode\", \"PERMISSIVE\")               # or \"FAILFAST\"\n",
    "      .option(\"recursiveFileLookup\", \"true\")\n",
    "      .option(\"pathGlobFilter\", \"*.parquet\")         # only JSON files\n",
    "      .parquet(\"s3a://ryans-sumo-bucket/silver/rikishi_stats/\"))\n",
    "\n",
    "\n",
    "bashos = (spark.read\n",
    "      .option(\"multiLine\", \"true\")                # set to \"false\" if you have JSON Lines\n",
    "      .option(\"mode\", \"PERMISSIVE\")               # or \"FAILFAST\"\n",
    "      .option(\"recursiveFileLookup\", \"true\")\n",
    "      .option(\"pathGlobFilter\", \"*.parquet\")         # only JSON files\n",
    "      .parquet(\"s3a://ryans-sumo-bucket/silver/bashos/\"))"
   ]
  },
  {
   "cell_type": "code",
   "execution_count": 16,
   "id": "68a8b39b",
   "metadata": {},
   "outputs": [
    {
     "name": "stdout",
     "output_type": "stream",
     "text": [
      "+---+---------+------+------------------+--------------+-----------+-------+------+------------------+-----------+-----------+--------+--------+----------+----------+-------+\n",
      "|day| division|eastId|          eastRank|   eastShikona|   kimarite|matchNo|westId|          westRank|westShikona|   winnerEn|winnerId|winnerJp|match_date|  match_id|westWin|\n",
      "+---+---------+------+------------------+--------------+-----------+-------+------+------------------+-----------+-----------+--------+--------+----------+----------+-------+\n",
      "|  8| Makuuchi|   794| Maegashira 3 East|         Terao|   yorikiri|     14|  4071|   Sekiwake 1 West|       Kaio|       Kaio|    4071|        |1996-05-08|1996050814|      1|\n",
      "|  4|Makushita|  3827| Makushita 17 East|   Chiyotenzan|shitatenage|     24|  3837| Makushita 15 East| Kitazakura|Chiyotenzan|    3827|        |1996-05-04|1996050424|      0|\n",
      "|  3|    Juryo|  3835|      Juryo 7 West|    Kyokutenho|   yorikiri|     12|  5078|      Juryo 1 West|Tokitsunada| Kyokutenho|    3835|        |1996-05-03|1996050312|      0|\n",
      "|  9| Makuuchi|  3833| Maegashira 2 East|    Akinoshima|  uwatenage|     11|  3857| Maegashira 1 West|  Tosanoumi| Akinoshima|    3833|        |1996-05-09|1996050911|      0|\n",
      "| 13| Sandanme|   644|  Sandanme 44 West|Tatsuyamaguchi|   yorikiri|     19|  5187|  Sandanme 41 West|Chiyonokuni|Chiyonokuni|    5187|        |1996-05-13|1996051319|      1|\n",
      "| 14| Makuuchi|  4071|   Sekiwake 1 West|          Kaio|   yorikiri|     19|  3853|      Ozeki 1 West| Takanonami| Takanonami|    3853|        |1996-05-14|1996051419|      1|\n",
      "| 15|Makushita|  3851| Makushita 30 West|        Kogawa|   yorikiri|     12|  3657| Makushita 25 West|  Takanosho|  Takanosho|    3657|        |1996-05-15|1996051512|      1|\n",
      "|  7| Makuuchi|  5370| Maegashira 5 West|         Kenko|  oshidashi|     11|  3857| Maegashira 1 West|  Tosanoumi|  Tosanoumi|    3857|        |1996-05-07|1996050711|      1|\n",
      "| 11| Makuuchi|  1560|Maegashira 10 East|     Mitoizumi|   yorikiri|      4|  4889|Maegashira 15 East| Shikishima| Shikishima|    4889|        |1996-05-11| 199605114|      1|\n",
      "|  1|Makushita|  3860| Makushita 31 East|    Tokitsuumi|shitatenage|     15|  3851| Makushita 30 West|     Kogawa| Tokitsuumi|    3860|        |1996-05-01|1996050115|      0|\n",
      "+---+---------+------+------------------+--------------+-----------+-------+------+------------------+-----------+-----------+--------+--------+----------+----------+-------+\n",
      "only showing top 10 rows\n"
     ]
    }
   ],
   "source": [
    "matches.show(10)"
   ]
  },
  {
   "cell_type": "code",
   "execution_count": 17,
   "id": "41e4b5f9",
   "metadata": {},
   "outputs": [
    {
     "name": "stdout",
     "output_type": "stream",
     "text": [
      "+--------------------+-----------------+------+------+-----------+----+--------------------+-----+--------------------+----------------------+--------------------+--------+------+\n",
      "|           birthDate|      currentRank| debut|height|       heya|  id|               intai|nskId|           shikonaEn|             shikonaJp|            shusshin|sumodbId|weight|\n",
      "+--------------------+-----------------+------+------+-----------+----+--------------------+-----+--------------------+----------------------+--------------------+--------+------+\n",
      "|1975-08-22T00:00:00Z|             NULL|199103| 187.5|   Kasugano|3739|2011-01-01T00:00:00Z|    0|Kasuganishiki Tak...|                  NULL|Chiba-ken, Isumi-...|     107| 146.3|\n",
      "|2000-10-21T00:00:00Z|   Jonidan 3 East|201903| 176.0|Shikoroyama| 279|2025-03-26T00:00:00Z| 3959|           Kawabuchi|        川渕(かわぶち)|Ishikawa-ken, Kan...|   12568| 118.0|\n",
      "|1977-04-15T00:00:00Z| Jonidan 100 West|199601| 170.3|  Isegahama| 460|2025-05-28T00:00:00Z| 1407|          Satonofuji|  聡ノ富士(さとのふじ)|Gunma-ken, Kitagu...|     383| 109.0|\n",
      "|1999-08-17T00:00:00Z|Makushita 44 West|201503| 180.0|       Kise|  90|                NULL| 3617|           Higonoumi|  肥後ノ海(ひごのうみ)|Kumamoto-ken, Kik...|   12227| 139.0|\n",
      "|1993-06-03T00:00:00Z| Sandanme 76 West|200903| 180.0|  Dewanoumi| 358|                NULL| 3189|            Oginosho|小城ノ正(おぎのしょう)|Osaka-fu, Ikeda-s...|   11767| 125.0|\n",
      "|1984-05-04T00:00:00Z| Sandanme 57 East|200301| 182.5|  Sakaigawa| 203|                NULL| 2522|         Katsunofuji|  克乃富士(かつのふじ)|Aomori-ken, Nishi...|    2836| 138.0|\n",
      "|1996-09-11T00:00:00Z|   Jonidan 5 West|201511| 180.0|Musashigawa| 341|2025-03-26T00:00:00Z| 3662|           Goshimaru|    剛士丸(ごうしまる)|Kanagawa-ken, Miu...|   12271| 112.0|\n",
      "|2001-05-11T00:00:00Z|  Jonidan 79 West|201703| 179.0|  Asakayama| 475|2025-05-28T00:00:00Z| 3802|             Kaitoma|    魁當真(かいとうま)|Kanagawa-ken, Yok...|   12411| 135.0|\n",
      "|1995-10-19T00:00:00Z|   Jonidan 9 East|201801| 172.0|    Kokonoe| 344|2025-03-26T00:00:00Z| 3848|         Chiyohokkai|千代北海(ちよほっかい)|Hokkaido, Sapporo...|   12457| 127.0|\n",
      "|1994-06-09T00:00:00Z| Sandanme 57 East|201301| 180.0|   Ikazuchi| 259|2025-03-26T00:00:00Z| 3432|            Saidaiji|    西大司(さいだいじ)|Okayama-ken, Okay...|   12041| 182.0|\n",
      "+--------------------+-----------------+------+------+-----------+----+--------------------+-----+--------------------+----------------------+--------------------+--------+------+\n",
      "only showing top 10 rows\n"
     ]
    }
   ],
   "source": [
    "rikishis.show(10)"
   ]
  },
  {
   "cell_type": "code",
   "execution_count": 20,
   "id": "5b08df41",
   "metadata": {},
   "outputs": [
    {
     "name": "stdout",
     "output_type": "stream",
     "text": [
      "root\n",
      " |-- date: string (nullable = true)\n",
      " |-- endDate: string (nullable = true)\n",
      " |-- specialPrizes: array (nullable = true)\n",
      " |    |-- element: struct (containsNull = true)\n",
      " |    |    |-- rikishiId: long (nullable = true)\n",
      " |    |    |-- shikonaEn: string (nullable = true)\n",
      " |    |    |-- shikonaJp: string (nullable = true)\n",
      " |    |    |-- type: string (nullable = true)\n",
      " |-- startDate: string (nullable = true)\n",
      " |-- yusho: array (nullable = true)\n",
      " |    |-- element: struct (containsNull = true)\n",
      " |    |    |-- rikishiId: long (nullable = true)\n",
      " |    |    |-- shikonaEn: string (nullable = true)\n",
      " |    |    |-- shikonaJp: string (nullable = true)\n",
      " |    |    |-- type: string (nullable = true)\n",
      "\n"
     ]
    }
   ],
   "source": [
    "bashos.printSchema()"
   ]
  },
  {
   "cell_type": "code",
   "execution_count": 21,
   "id": "45d22263",
   "metadata": {},
   "outputs": [],
   "source": [
    "# Rename `date` → `bashoId`, and keep start/end date\n",
    "base = bashos.select(\n",
    "    col(\"date\").alias(\"bashoId\"),\n",
    "    col(\"startDate\"),\n",
    "    col(\"endDate\")\n",
    ")\n",
    "\n",
    "yusho_flat = (\n",
    "    bashos.withColumn(\"y\", explode(col(\"yusho\")))\n",
    "      .select(\n",
    "          col(\"date\").alias(\"bashoId\"),\n",
    "          col(\"y.type\").alias(\"yusho_type\"),\n",
    "          col(\"y.rikishiId\").alias(\"rikishiId\")\n",
    "      )\n",
    ")\n",
    "\n",
    "# Pivot so each yusho_type becomes its own column\n",
    "yusho_pivot = (\n",
    "    yusho_flat.groupBy(\"bashoId\")\n",
    "              .pivot(\"yusho_type\")\n",
    "              .agg(collect_list(\"rikishiId\"))\n",
    "              .withColumnRenamed(\"Makuuchi\", \"Makuuchi_yusho\")\n",
    "              .withColumnRenamed(\"Juryo\", \"Juryo_yusho\")\n",
    ")\n",
    "prizes_flat = (\n",
    "    bashos.withColumn(\"p\", explode(col(\"specialPrizes\")))\n",
    "      .select(\n",
    "          col(\"date\").alias(\"bashoId\"),\n",
    "          col(\"p.type\").alias(\"prize_type\"),\n",
    "          col(\"p.rikishiId\").alias(\"rikishiId\")\n",
    "      )\n",
    ")\n",
    "\n",
    "\n",
    "prizes_pivot = (\n",
    "    prizes_flat.groupBy(\"bashoId\")\n",
    "               .pivot(\"prize_type\")\n",
    "               .agg(collect_list(\"rikishiId\"))   # array of rikishiIds\n",
    "               .withColumnRenamed(\"Shukun-sho\", \"Shukun_sho\")\n",
    "               .withColumnRenamed(\"Kanto-sho\", \"Kanto_sho\")\n",
    "               .withColumnRenamed(\"Gino-sho\", \"Gino_sho\")\n",
    ")\n",
    "result = (base\n",
    "          .join(yusho_pivot, on=\"bashoId\", how=\"left\")\n",
    "          .join(prizes_pivot, on=\"bashoId\", how=\"left\"))"
   ]
  },
  {
   "cell_type": "code",
   "execution_count": 22,
   "id": "c183fbc2",
   "metadata": {},
   "outputs": [
    {
     "name": "stdout",
     "output_type": "stream",
     "text": [
      "+-------+--------------------+--------------------+-------+---------+-----------+---------+--------------+--------+------------+-------------+------------+\n",
      "|bashoId|           startDate|             endDate|Jonidan|Jonokuchi|Juryo_yusho|Makushita|Makuuchi_yusho|Sandanme|    Gino_sho|    Kanto_sho|  Shukun_sho|\n",
      "+-------+--------------------+--------------------+-------+---------+-----------+---------+--------------+--------+------------+-------------+------------+\n",
      "| 202501|2025-01-12T00:00:00Z|2025-01-26T00:00:00Z|  [106]|    [159]|       [86]|     [91]|          [19]|  [8869]|        [41]|      [7, 50]|          []|\n",
      "| 202305|2023-05-14T00:00:00Z|2023-05-28T00:00:00Z|  [609]|   [8862]|       [56]|    [110]|          [45]|   [219]|     [13, 7]|           []|        [38]|\n",
      "| 201801|2018-01-14T00:00:00Z|2018-01-28T00:00:00Z|  [336]|     [81]|       [36]|     [12]|          [43]|    [69]|        [43]|     [15, 22]|        [43]|\n",
      "| 201705|2017-05-14T00:00:00Z|2017-05-28T00:00:00Z|  [354]|     [62]|       [16]|   [3330]|        [3081]|    [12]|  [3248, 44]|         [10]|        [26]|\n",
      "| 201805|2018-05-13T00:00:00Z|2018-05-27T00:00:00Z|   [19]|    [233]|       [10]|      [7]|        [3181]|  [3114]|        [43]|[377, 43, 51]|       [673]|\n",
      "| 201701|2017-01-08T00:00:00Z|2017-01-22T00:00:00Z|   [40]|   [3172]|        [9]|      [2]|        [3285]|  [3130]|  [26, 3223]|         [44]|      [3255]|\n",
      "| 199201|1992-01-12T00:00:00Z|1992-01-26T00:00:00Z| [5186]|   [4617]|     [5145]|   [4889]|        [4789]|  [5457]|[4789, 4997]| [4913, 4789]|[4913, 4789]|\n",
      "| 201709|2017-09-10T00:00:00Z|2017-09-24T00:00:00Z|  [144]|    [334]|       [22]|    [627]|        [3363]|    [62]|      [3248]|      [10, 2]|         [1]|\n",
      "| 202009|2020-09-13T00:00:00Z|2020-09-27T00:00:00Z|   [53]|   [3144]|       [51]|    [150]|          [33]|    [93]|          []|     [21, 33]|        [33]|\n",
      "| 199805|1998-05-10T00:00:00Z|1998-05-24T00:00:00Z| [5139]|   [3725]|     [3745]|   [3669]|        [4997]|  [3911]|      [3833]| [3851, 3852]|[3830, 4912]|\n",
      "+-------+--------------------+--------------------+-------+---------+-----------+---------+--------------+--------+------------+-------------+------------+\n",
      "only showing top 10 rows\n"
     ]
    }
   ],
   "source": [
    "result.show(10)"
   ]
  },
  {
   "cell_type": "code",
   "execution_count": 23,
   "id": "61db014e",
   "metadata": {},
   "outputs": [
    {
     "name": "stdout",
     "output_type": "stream",
     "text": [
      "root\n",
      " |-- bashoId: string (nullable = true)\n",
      " |-- startDate: string (nullable = true)\n",
      " |-- endDate: string (nullable = true)\n",
      " |-- Jonidan: array (nullable = true)\n",
      " |    |-- element: long (containsNull = false)\n",
      " |-- Jonokuchi: array (nullable = true)\n",
      " |    |-- element: long (containsNull = false)\n",
      " |-- Juryo_yusho: array (nullable = true)\n",
      " |    |-- element: long (containsNull = false)\n",
      " |-- Makushita: array (nullable = true)\n",
      " |    |-- element: long (containsNull = false)\n",
      " |-- Makuuchi_yusho: array (nullable = true)\n",
      " |    |-- element: long (containsNull = false)\n",
      " |-- Sandanme: array (nullable = true)\n",
      " |    |-- element: long (containsNull = false)\n",
      " |-- Gino_sho: array (nullable = true)\n",
      " |    |-- element: long (containsNull = false)\n",
      " |-- Kanto_sho: array (nullable = true)\n",
      " |    |-- element: long (containsNull = false)\n",
      " |-- Shukun_sho: array (nullable = true)\n",
      " |    |-- element: long (containsNull = false)\n",
      "\n"
     ]
    }
   ],
   "source": [
    "result.printSchema()"
   ]
  },
  {
   "cell_type": "code",
   "execution_count": 24,
   "id": "c15969f0",
   "metadata": {},
   "outputs": [
    {
     "name": "stdout",
     "output_type": "stream",
     "text": [
      "root\n",
      " |-- absenceByDivision: struct (nullable = true)\n",
      " |    |-- Jonidan: long (nullable = true)\n",
      " |    |-- Jonokuchi: long (nullable = true)\n",
      " |    |-- Juryo: long (nullable = true)\n",
      " |    |-- Makushita: long (nullable = true)\n",
      " |    |-- Makuuchi: long (nullable = true)\n",
      " |    |-- Sandanme: long (nullable = true)\n",
      " |-- basho: long (nullable = true)\n",
      " |-- bashoByDivision: struct (nullable = true)\n",
      " |    |-- Jonidan: long (nullable = true)\n",
      " |    |-- Jonokuchi: long (nullable = true)\n",
      " |    |-- Juryo: long (nullable = true)\n",
      " |    |-- Makushita: long (nullable = true)\n",
      " |    |-- Makuuchi: long (nullable = true)\n",
      " |    |-- Sandanme: long (nullable = true)\n",
      " |-- lossByDivision: struct (nullable = true)\n",
      " |    |-- Jonidan: long (nullable = true)\n",
      " |    |-- Jonokuchi: long (nullable = true)\n",
      " |    |-- Juryo: long (nullable = true)\n",
      " |    |-- Makushita: long (nullable = true)\n",
      " |    |-- Makuuchi: long (nullable = true)\n",
      " |    |-- Sandanme: long (nullable = true)\n",
      " |-- sansho: struct (nullable = true)\n",
      " |    |-- Gino-sho: long (nullable = true)\n",
      " |    |-- Kanto-sho: long (nullable = true)\n",
      " |    |-- Shukun-sho: long (nullable = true)\n",
      " |-- totalAbsences: long (nullable = true)\n",
      " |-- totalByDivision: struct (nullable = true)\n",
      " |    |-- Jonidan: long (nullable = true)\n",
      " |    |-- Jonokuchi: long (nullable = true)\n",
      " |    |-- Juryo: long (nullable = true)\n",
      " |    |-- Makushita: long (nullable = true)\n",
      " |    |-- Makuuchi: long (nullable = true)\n",
      " |    |-- Sandanme: long (nullable = true)\n",
      " |-- totalLosses: long (nullable = true)\n",
      " |-- totalMatches: long (nullable = true)\n",
      " |-- totalWins: long (nullable = true)\n",
      " |-- winsByDivision: struct (nullable = true)\n",
      " |    |-- Jonidan: long (nullable = true)\n",
      " |    |-- Jonokuchi: long (nullable = true)\n",
      " |    |-- Juryo: long (nullable = true)\n",
      " |    |-- Makushita: long (nullable = true)\n",
      " |    |-- Makuuchi: long (nullable = true)\n",
      " |    |-- Sandanme: long (nullable = true)\n",
      " |-- yusho: long (nullable = true)\n",
      " |-- yushoByDivision: struct (nullable = true)\n",
      " |    |-- Jonidan: long (nullable = true)\n",
      " |    |-- Jonokuchi: long (nullable = true)\n",
      " |    |-- Juryo: long (nullable = true)\n",
      " |    |-- Makushita: long (nullable = true)\n",
      " |    |-- Makuuchi: long (nullable = true)\n",
      " |    |-- Sandanme: long (nullable = true)\n",
      " |-- rikishi_id: string (nullable = true)\n",
      "\n"
     ]
    }
   ],
   "source": [
    "rikishi_stats.printSchema()"
   ]
  },
  {
   "cell_type": "code",
   "execution_count": 25,
   "id": "32f09fb2",
   "metadata": {},
   "outputs": [],
   "source": [
    "rikishi_stats = rikishi_stats.select(\n",
    "    col(\"rikishi_id\"),\n",
    "    col(\"yusho\"),\n",
    "    col(\"yushoByDivision.Makuuchi\").alias(\"makuuchi_yusho\"),\n",
    "    col(\"totalWins\"),\n",
    "    col(\"totalLosses\"),\n",
    "    col(\"totalMatches\"),\n",
    "    col(\"winsByDivision.Makuuchi\").alias(\"makuuchiWins\"),\n",
    "    col(\"basho\"),\n",
    "    col(\"bashoByDivision.Makuuchi\").alias(\"Makuuchi_basho\"),\n",
    "    col(\"sansho.Gino-sho\").alias(\"Gino_sho\"),\n",
    "    col(\"sansho.Kanto-sho\").alias(\"Kanto_sho\"),\n",
    "    col(\"sansho.Shukun-sho\").alias(\"Shukun_sho\")\n",
    ")"
   ]
  },
  {
   "cell_type": "code",
   "execution_count": 26,
   "id": "ebc1f027",
   "metadata": {},
   "outputs": [
    {
     "name": "stdout",
     "output_type": "stream",
     "text": [
      "+----------+-----+--------------+---------+-----------+------------+------------+-----+--------------+--------+---------+----------+\n",
      "|rikishi_id|yusho|makuuchi_yusho|totalWins|totalLosses|totalMatches|makuuchiWins|basho|Makuuchi_basho|Gino_sho|Kanto_sho|Shukun_sho|\n",
      "+----------+-----+--------------+---------+-----------+------------+------------+-----+--------------+--------+---------+----------+\n",
      "|        35|    3|          NULL|      753|        765|        1518|         405|  132|            58|    NULL|        3|      NULL|\n",
      "|        44|    1|          NULL|      787|        593|        1380|         627|  120|            84|       3|        6|         4|\n",
      "|      5306|    4|          NULL|      457|        433|         890|         164|  100|            26|    NULL|        1|      NULL|\n",
      "|        16|    2|          NULL|      635|        648|        1283|         289|  114|            43|    NULL|        1|         1|\n",
      "|       794|    2|          NULL|      858|        937|        1795|         626|  139|            93|       1|        3|         3|\n",
      "|       956|    1|             1|      754|        696|        1450|         518|  126|            71|       4|        1|         3|\n",
      "|      3925|    4|          NULL|      683|        671|        1354|          97|  132|            17|    NULL|        1|      NULL|\n",
      "|      3830|    2|          NULL|      605|        585|        1190|         299|  101|            47|       2|        1|         1|\n",
      "|        13|    3|          NULL|      457|        354|         811|         185|   81|            22|       1|     NULL|         1|\n",
      "|        27|    3|          NULL|      424|        368|         792|         360|   60|            49|       2|        1|      NULL|\n",
      "+----------+-----+--------------+---------+-----------+------------+------------+-----+--------------+--------+---------+----------+\n",
      "only showing top 10 rows\n"
     ]
    }
   ],
   "source": [
    "rikishi_stats.show(10)"
   ]
  },
  {
   "cell_type": "code",
   "execution_count": 105,
   "id": "0c42553f",
   "metadata": {},
   "outputs": [],
   "source": [
    "main = matches"
   ]
  },
  {
   "cell_type": "code",
   "execution_count": 31,
   "id": "0f642e7a",
   "metadata": {},
   "outputs": [],
   "source": [
    "rikishis = (rikishis\n",
    "       .join(rikishi_stats, rikishis.id == rikishi_stats.rikishi_id, how = \"left\"))"
   ]
  },
  {
   "cell_type": "code",
   "execution_count": 32,
   "id": "c121f64a",
   "metadata": {},
   "outputs": [
    {
     "name": "stdout",
     "output_type": "stream",
     "text": [
      "+--------------------+-----------------+------+------+-----------+----+--------------------+-----+--------------------+----------------------+--------------------+--------+------+----------+-----+--------------+---------+-----------+------------+------------+-----+--------------+--------+---------+----------+\n",
      "|           birthDate|      currentRank| debut|height|       heya|  id|               intai|nskId|           shikonaEn|             shikonaJp|            shusshin|sumodbId|weight|rikishi_id|yusho|makuuchi_yusho|totalWins|totalLosses|totalMatches|makuuchiWins|basho|Makuuchi_basho|Gino_sho|Kanto_sho|Shukun_sho|\n",
      "+--------------------+-----------------+------+------+-----------+----+--------------------+-----+--------------------+----------------------+--------------------+--------+------+----------+-----+--------------+---------+-----------+------------+------------+-----+--------------+--------+---------+----------+\n",
      "|1975-08-22T00:00:00Z|             NULL|199103| 187.5|   Kasugano|3739|2011-01-01T00:00:00Z|    0|Kasuganishiki Tak...|                  NULL|Chiba-ken, Isumi-...|     107| 146.3|      3739|    0|          NULL|      611|        581|        1192|         107|  119|            20|    NULL|     NULL|      NULL|\n",
      "|2000-10-21T00:00:00Z|   Jonidan 3 East|201903| 176.0|Shikoroyama| 279|2025-03-26T00:00:00Z| 3959|           Kawabuchi|        川渕(かわぶち)|Ishikawa-ken, Kan...|   12568| 118.0|       279|    1|          NULL|      118|        114|         232|        NULL|   35|          NULL|    NULL|     NULL|      NULL|\n",
      "|1977-04-15T00:00:00Z| Jonidan 100 West|199601| 170.3|  Isegahama| 460|2025-05-28T00:00:00Z| 1407|          Satonofuji|  聡ノ富士(さとのふじ)|Gunma-ken, Kitagu...|     383| 109.0|       460|    0|          NULL|      570|        627|        1197|        NULL|  174|          NULL|    NULL|     NULL|      NULL|\n",
      "|1999-08-17T00:00:00Z|Makushita 44 West|201503| 180.0|       Kise|  90|                NULL| 3617|           Higonoumi|  肥後ノ海(ひごのうみ)|Kumamoto-ken, Kik...|   12227| 139.0|        90|    1|          NULL|      207|        148|         355|        NULL|   61|          NULL|    NULL|     NULL|      NULL|\n",
      "|1993-06-03T00:00:00Z| Sandanme 76 West|200903| 180.0|  Dewanoumi| 358|                NULL| 3189|            Oginosho|小城ノ正(おぎのしょう)|Osaka-fu, Ikeda-s...|   11767| 125.0|       358|    1|          NULL|      331|        335|         666|        NULL|   96|          NULL|    NULL|     NULL|      NULL|\n",
      "|1984-05-04T00:00:00Z| Sandanme 57 East|200301| 182.5|  Sakaigawa| 203|                NULL| 2522|         Katsunofuji|  克乃富士(かつのふじ)|Aomori-ken, Nishi...|    2836| 138.0|       203|    0|          NULL|      465|        420|         885|        NULL|  133|          NULL|    NULL|     NULL|      NULL|\n",
      "|1996-09-11T00:00:00Z|   Jonidan 5 West|201511| 180.0|Musashigawa| 341|2025-03-26T00:00:00Z| 3662|           Goshimaru|    剛士丸(ごうしまる)|Kanagawa-ken, Miu...|   12271| 112.0|       341|    0|          NULL|      192|        177|         369|        NULL|   55|          NULL|    NULL|     NULL|      NULL|\n",
      "|2001-05-11T00:00:00Z|  Jonidan 79 West|201703| 179.0|  Asakayama| 475|2025-05-28T00:00:00Z| 3802|             Kaitoma|    魁當真(かいとうま)|Kanagawa-ken, Yok...|   12411| 135.0|       475|    0|          NULL|      150|        149|         299|        NULL|   47|          NULL|    NULL|     NULL|      NULL|\n",
      "|1995-10-19T00:00:00Z|   Jonidan 9 East|201801| 172.0|    Kokonoe| 344|2025-03-26T00:00:00Z| 3848|         Chiyohokkai|千代北海(ちよほっかい)|Hokkaido, Sapporo...|   12457| 127.0|       344|    0|          NULL|      141|        146|         287|        NULL|   42|          NULL|    NULL|     NULL|      NULL|\n",
      "|1994-06-09T00:00:00Z| Sandanme 57 East|201301| 180.0|   Ikazuchi| 259|2025-03-26T00:00:00Z| 3432|            Saidaiji|    西大司(さいだいじ)|Okayama-ken, Okay...|   12041| 182.0|       259|    0|          NULL|      252|        240|         492|        NULL|   72|          NULL|    NULL|     NULL|      NULL|\n",
      "+--------------------+-----------------+------+------+-----------+----+--------------------+-----+--------------------+----------------------+--------------------+--------+------+----------+-----+--------------+---------+-----------+------------+------------+-----+--------------+--------+---------+----------+\n",
      "only showing top 10 rows\n"
     ]
    }
   ],
   "source": [
    "rikishis.show(10)"
   ]
  },
  {
   "cell_type": "code",
   "execution_count": 36,
   "id": "7b7eaf20",
   "metadata": {},
   "outputs": [
    {
     "name": "stdout",
     "output_type": "stream",
     "text": [
      "root\n",
      " |-- birthDate: string (nullable = true)\n",
      " |-- currentRank: string (nullable = true)\n",
      " |-- debut: string (nullable = true)\n",
      " |-- height: double (nullable = true)\n",
      " |-- id: long (nullable = true)\n",
      " |-- intai: string (nullable = true)\n",
      " |-- weight: double (nullable = true)\n",
      " |-- rikishi_id: string (nullable = true)\n",
      " |-- yusho: long (nullable = true)\n",
      " |-- makuuchi_yusho: long (nullable = true)\n",
      " |-- totalWins: long (nullable = true)\n",
      " |-- totalLosses: long (nullable = true)\n",
      " |-- totalMatches: long (nullable = true)\n",
      " |-- makuuchiWins: long (nullable = true)\n",
      " |-- basho: long (nullable = true)\n",
      " |-- Makuuchi_basho: long (nullable = true)\n",
      " |-- Gino_sho: long (nullable = true)\n",
      " |-- Kanto_sho: long (nullable = true)\n",
      " |-- Shukun_sho: long (nullable = true)\n",
      "\n"
     ]
    }
   ],
   "source": [
    "rikishis.printSchema()"
   ]
  },
  {
   "cell_type": "code",
   "execution_count": 35,
   "id": "fafa4a27",
   "metadata": {},
   "outputs": [],
   "source": [
    "rikishis = (rikishis\n",
    "           .drop(\"shikonaEn\")\n",
    "            .drop(\"shikonaJp\")\n",
    "            .drop(\"sumodbId\")\n",
    "            .drop(\"nskId\")\n",
    "            .drop(\"shusshin\")\n",
    "            .drop(\"heya\")\n",
    "           )"
   ]
  },
  {
   "cell_type": "code",
   "execution_count": 146,
   "id": "9d5ab4ed",
   "metadata": {},
   "outputs": [
    {
     "name": "stdout",
     "output_type": "stream",
     "text": [
      "root\n",
      " |-- day: long (nullable = true)\n",
      " |-- division: string (nullable = true)\n",
      " |-- eastId: long (nullable = true)\n",
      " |-- eastRank: string (nullable = true)\n",
      " |-- eastShikona: string (nullable = true)\n",
      " |-- kimarite: string (nullable = true)\n",
      " |-- matchNo: long (nullable = true)\n",
      " |-- westId: long (nullable = true)\n",
      " |-- westRank: string (nullable = true)\n",
      " |-- westShikona: string (nullable = true)\n",
      " |-- winnerEn: string (nullable = true)\n",
      " |-- winnerId: long (nullable = true)\n",
      " |-- winnerJp: string (nullable = true)\n",
      " |-- match_date: date (nullable = true)\n",
      " |-- match_id: long (nullable = true)\n",
      " |-- westWin: integer (nullable = false)\n",
      " |-- west_birthDate: string (nullable = true)\n",
      " |-- west_currentRank: string (nullable = true)\n",
      " |-- west_debut: string (nullable = true)\n",
      " |-- west_height: double (nullable = true)\n",
      " |-- west_id: long (nullable = true)\n",
      " |-- west_intai: string (nullable = true)\n",
      " |-- west_weight: double (nullable = true)\n",
      " |-- west_rikishi_id: string (nullable = true)\n",
      " |-- west_yusho: long (nullable = true)\n",
      " |-- west_makuuchi_yusho: long (nullable = true)\n",
      " |-- west_totalWins: long (nullable = true)\n",
      " |-- west_totalLosses: long (nullable = true)\n",
      " |-- west_totalMatches: long (nullable = true)\n",
      " |-- west_makuuchiWins: long (nullable = true)\n",
      " |-- west_basho: long (nullable = true)\n",
      " |-- west_Makuuchi_basho: long (nullable = true)\n",
      " |-- west_Gino_sho: long (nullable = true)\n",
      " |-- west_Kanto_sho: long (nullable = true)\n",
      " |-- west_Shukun_sho: long (nullable = true)\n",
      " |-- east_birthDate: string (nullable = true)\n",
      " |-- east_currentRank: string (nullable = true)\n",
      " |-- east_debut: string (nullable = true)\n",
      " |-- east_height: double (nullable = true)\n",
      " |-- east_id: long (nullable = true)\n",
      " |-- east_intai: string (nullable = true)\n",
      " |-- east_weight: double (nullable = true)\n",
      " |-- east_rikishi_id: string (nullable = true)\n",
      " |-- east_yusho: long (nullable = true)\n",
      " |-- east_makuuchi_yusho: long (nullable = true)\n",
      " |-- east_totalWins: long (nullable = true)\n",
      " |-- east_totalLosses: long (nullable = true)\n",
      " |-- east_totalMatches: long (nullable = true)\n",
      " |-- east_makuuchiWins: long (nullable = true)\n",
      " |-- east_basho: long (nullable = true)\n",
      " |-- east_Makuuchi_basho: long (nullable = true)\n",
      " |-- east_Gino_sho: long (nullable = true)\n",
      " |-- east_Kanto_sho: long (nullable = true)\n",
      " |-- east_Shukun_sho: long (nullable = true)\n",
      "\n"
     ]
    }
   ],
   "source": [
    "def add_prefix(df, prefix):\n",
    "    return df.select([F.col(c).alias(f\"{prefix}_{c}\") for c in df.columns])\n",
    "\n",
    "# Add prefixes\n",
    "west = add_prefix(rikishis, \"west\")\n",
    "east = add_prefix(rikishis, \"east\")\n",
    "\n",
    "# Join with prefixed columns\n",
    "main = (\n",
    "    matches\n",
    "    .join(west, matches.westId == west.west_id, \"left\")\n",
    "    .join(east, matches.eastId == east.east_id, \"left\")\n",
    ")\n",
    "main.printSchema()"
   ]
  },
  {
   "cell_type": "code",
   "execution_count": 43,
   "id": "59dae93d",
   "metadata": {},
   "outputs": [],
   "source": [
    "ranks = (spark.read\n",
    "      .option(\"multiLine\", \"true\")                # set to \"false\" if you have JSON Lines\n",
    "      .option(\"mode\", \"PERMISSIVE\")               # or \"FAILFAST\"\n",
    "      .option(\"recursiveFileLookup\", \"true\")\n",
    "      .option(\"pathGlobFilter\", \"*.json\")         # only JSON files\n",
    "      .json(\"s3a://ryans-sumo-bucket/sumo-api-calls/rikishi_ranks/\"))"
   ]
  },
  {
   "cell_type": "code",
   "execution_count": 63,
   "id": "018da059",
   "metadata": {},
   "outputs": [],
   "source": [
    "# explode records and flatten struct fields\n",
    "rows = ranks.select(explode(col(\"records\")).alias(\"rank\"))\n",
    "flat = rows.select(\"rank.*\")   # expand struct into columns\n",
    "ranks = (flat.select(\"rank\", \"rankValue\").dropDuplicates())"
   ]
  },
  {
   "cell_type": "code",
   "execution_count": null,
   "id": "edede037",
   "metadata": {},
   "outputs": [],
   "source": [
    "\n",
    "# Filter out empty ranks\n",
    "filtered = ranks.filter(F.col(\"rank\") != \"\")\n",
    "\n",
    "# Add a flag: east = 0 (better), west = 1 (worse)\n",
    "with_side = filtered.withColumn(\n",
    "    \"side_flag\",\n",
    "    F.when(F.col(\"rank\").like(\"%East\"), F.lit(0))\n",
    "     .when(F.col(\"rank\").like(\"%West\"), F.lit(1))\n",
    "     .otherwise(F.lit(2))  # fallback if no side is present\n",
    ")\n",
    "\n",
    "# Window: order by rankValue asc, then side_flag asc\n",
    "w = Window.orderBy(\"rankValue\", \"side_flag\")\n",
    "\n",
    "# Assign sequential ordering\n",
    "ordered_ranks = (\n",
    "    with_side\n",
    "    .withColumn(\"order\", F.row_number().over(w))\n",
    "    .select(\"rank\", \"rankValue\", \"order\")\n",
    ")\n"
   ]
  },
  {
   "cell_type": "code",
   "execution_count": 65,
   "id": "8b89a856",
   "metadata": {},
   "outputs": [
    {
     "name": "stdout",
     "output_type": "stream",
     "text": [
      "+-----------------+---------+-----+\n",
      "|             rank|rankValue|order|\n",
      "+-----------------+---------+-----+\n",
      "|  Yokozuna 1 East|      101|    1|\n",
      "|  Yokozuna 1 West|      101|    2|\n",
      "|  Yokozuna 2 East|      102|    3|\n",
      "|  Yokozuna 2 West|      102|    4|\n",
      "|     Ozeki 1 East|      201|    5|\n",
      "|     Ozeki 1 West|      201|    6|\n",
      "|     Ozeki 2 East|      202|    7|\n",
      "|     Ozeki 2 West|      202|    8|\n",
      "|     Ozeki 3 East|      203|    9|\n",
      "|     Ozeki 3 West|      203|   10|\n",
      "|  Sekiwake 1 East|      301|   11|\n",
      "|  Sekiwake 1 West|      301|   12|\n",
      "|  Sekiwake 2 East|      302|   13|\n",
      "|  Sekiwake 2 West|      302|   14|\n",
      "|  Sekiwake 3 East|      303|   15|\n",
      "|  Komusubi 1 East|      401|   16|\n",
      "|  Komusubi 1 West|      401|   17|\n",
      "|  Komusubi 2 East|      402|   18|\n",
      "|  Komusubi 2 West|      402|   19|\n",
      "|Maegashira 1 East|      501|   20|\n",
      "+-----------------+---------+-----+\n",
      "only showing top 20 rows\n"
     ]
    }
   ],
   "source": [
    "ordered_ranks.show(20)"
   ]
  },
  {
   "cell_type": "code",
   "execution_count": 147,
   "id": "482bb016",
   "metadata": {},
   "outputs": [],
   "source": [
    "# Add prefixes\n",
    "west = add_prefix(ordered_ranks, \"west\")\n",
    "east = add_prefix(ordered_ranks, \"east\")\n",
    "\n",
    "main = (main\n",
    "       .join(west, main.westRank == west.west_rank, \"left\")\n",
    "       .join(east, main.eastRank == east.east_rank, \"left\")\n",
    "       )"
   ]
  },
  {
   "cell_type": "code",
   "execution_count": 148,
   "id": "2968894c",
   "metadata": {},
   "outputs": [],
   "source": [
    "# 1️⃣ Create new parsed date columns safely\n",
    "main = main.withColumn(\n",
    "    \"east_birthdate_parsed\",\n",
    "    F.to_date(F.regexp_replace(F.col(\"east_birthdate\"), \"T.*Z\", \"\"), \"yyyy-MM-dd\")\n",
    ").withColumn(\n",
    "    \"west_birthdate_parsed\",\n",
    "    F.to_date(F.regexp_replace(F.col(\"west_birthdate\"), \"T.*Z\", \"\"), \"yyyy-MM-dd\")\n",
    ").withColumn(\n",
    "    \"match_date_parsed\",\n",
    "    F.to_date(F.col(\"match_date\"), \"yyyy-MM-dd\")\n",
    ")\n",
    "\n",
    "# 2️⃣ Drop original ISO 8601 string columns to avoid automatic timestamp parsing\n",
    "main = main.drop(\"east_birthdate\", \"west_birthdate\", \"match_date\")\n",
    "\n",
    "# 3️⃣ Calculate ages based on parsed dates\n",
    "main = main.withColumn(\n",
    "    \"east_age\",\n",
    "    F.floor(F.months_between(F.col(\"match_date_parsed\"), F.col(\"east_birthdate_parsed\")) / 12)\n",
    ").withColumn(\n",
    "    \"west_age\",\n",
    "    F.floor(F.months_between(F.col(\"match_date_parsed\"), F.col(\"west_birthdate_parsed\")) / 12)\n",
    ")\n",
    "\n",
    "# ✅ Optional: rename parsed match date to original name if needed\n",
    "main = main.withColumnRenamed(\"match_date_parsed\", \"match_date\")"
   ]
  },
  {
   "cell_type": "code",
   "execution_count": 149,
   "id": "72b9efc4",
   "metadata": {},
   "outputs": [],
   "source": [
    "# 1️⃣ Normalize debut strings: handle YYYYMM format\n",
    "main = main.withColumn(\n",
    "    \"east_debut_clean\",\n",
    "    F.when(F.length(\"east_debut\") == 6,\n",
    "           F.concat_ws(\"-\", F.col(\"east_debut\").substr(1,4), F.col(\"east_debut\").substr(5,2), F.lit(\"01\"))\n",
    "          ).otherwise(F.col(\"east_debut\"))\n",
    ").withColumn(\n",
    "    \"west_debut_clean\",\n",
    "    F.when(F.length(\"west_debut\") == 6,\n",
    "           F.concat_ws(\"-\", F.col(\"west_debut\").substr(1,4), F.col(\"west_debut\").substr(5,2), F.lit(\"01\"))\n",
    "          ).otherwise(F.col(\"west_debut\"))\n",
    ")\n",
    "\n",
    "# 2️⃣ Strip ISO 8601 T/Z if present and parse to date\n",
    "main = main.withColumn(\n",
    "    \"east_debut_parsed\",\n",
    "    F.to_date(F.regexp_replace(\"east_debut_clean\", \"T.*Z\", \"\"), \"yyyy-MM-dd\")\n",
    ").withColumn(\n",
    "    \"west_debut_parsed\",\n",
    "    F.to_date(F.regexp_replace(\"west_debut_clean\", \"T.*Z\", \"\"), \"yyyy-MM-dd\")\n",
    ")\n",
    "\n",
    "# 3️⃣ Calculate years active\n",
    "main = main.withColumn(\n",
    "    \"east_years_active\",\n",
    "    F.floor(F.months_between(\"match_date\", \"east_debut_parsed\") / 12)\n",
    ").withColumn(\n",
    "    \"west_years_active\",\n",
    "    F.floor(F.months_between(\"match_date\", \"west_debut_parsed\") / 12)\n",
    ")"
   ]
  },
  {
   "cell_type": "code",
   "execution_count": 150,
   "id": "ecf62af6",
   "metadata": {},
   "outputs": [],
   "source": [
    "(ordered_ranks.write\n",
    " .mode(\"overwrite\")\n",
    " .option(\"compression\", \"snappy\")\n",
    " .parquet(\"s3a://ryans-sumo-bucket/gold/ordered_ranks/\"))"
   ]
  },
  {
   "cell_type": "code",
   "execution_count": 151,
   "id": "37ccb785",
   "metadata": {},
   "outputs": [],
   "source": [
    "(main.write\n",
    " .mode(\"overwrite\")\n",
    " .option(\"compression\", \"snappy\")\n",
    " .parquet(\"s3a://ryans-sumo-bucket/gold/ml_training/\"))"
   ]
  },
  {
   "cell_type": "code",
   "execution_count": 46,
   "id": "d2a4011c",
   "metadata": {},
   "outputs": [
    {
     "name": "stdout",
     "output_type": "stream",
     "text": [
      "+-------+-----------+-----------+----------+-------------------+--------------+----------------+-----------------+-----------------+----------+-------------------+-------------+--------------+---------------+-----------+-----------+----------+-------------------+--------------+----------------+-----------------+-----------------+----------+-------------------+-------------+--------------+---------------+----------+----------+----------+--------+--------+-----------------+-----------------+\n",
      "|westWin|west_height|west_weight|west_yusho|west_makuuchi_yusho|west_totalWins|west_totalLosses|west_totalMatches|west_makuuchiWins|west_basho|west_Makuuchi_basho|west_Gino_sho|west_Kanto_sho|west_Shukun_sho|east_height|east_weight|east_yusho|east_makuuchi_yusho|east_totalWins|east_totalLosses|east_totalMatches|east_makuuchiWins|east_basho|east_Makuuchi_basho|east_Gino_sho|east_Kanto_sho|east_Shukun_sho|west_order|east_order|match_date|east_age|west_age|east_years_active|west_years_active|\n",
      "+-------+-----------+-----------+----------+-------------------+--------------+----------------+-----------------+-----------------+----------+-------------------+-------------+--------------+---------------+-----------+-----------+----------+-------------------+--------------+----------------+-----------------+-----------------+----------+-------------------+-------------+--------------+---------------+----------+----------+----------+--------+--------+-----------------+-----------------+\n",
      "|      0|      174.5|      133.5|         2|                  0|           141|             122|              263|                0|        44|                  0|            0|             0|              0|      170.0|      166.5|         0|                  0|           216|             234|              450|                0|        65|                  0|            0|             0|              0|       994|       997|1994-07-01|      20|      18|                1|                0|\n",
      "|      1|      174.5|      133.5|         2|                  0|           141|             122|              263|                0|        44|                  0|            0|             0|              0|      177.5|       72.0|         0|                  0|            37|              47|               84|                0|        14|                  0|            0|             0|              0|       788|       797|1994-05-08|      18|      18|                0|                0|\n",
      "|      1|      174.5|      133.5|         2|                  0|           141|             122|              263|                0|        44|                  0|            0|             0|              0|      181.0|       95.5|         0|                  0|            23|              19|               42|                0|         8|                  0|            0|             0|              0|       788|       794|1994-05-06|      19|      18|                0|                0|\n",
      "|      0|      173.5|      105.0|         0|                  0|            98|             105|              203|                0|        30|                  0|            0|             0|              0|      176.0|      117.0|         0|                  0|           209|             232|              441|                0|        64|                  0|            0|             0|              0|       630|       620|1997-05-14|      25|      21|                9|                4|\n",
      "|      1|      173.5|      105.0|         0|                  0|            98|             105|              203|                0|        30|                  0|            0|             0|              0|      175.5|      184.0|         1|                  0|           547|             573|             1120|                0|       165|                  0|            0|             0|              0|       630|       629|1997-05-03|      18|      21|                2|                4|\n",
      "|      0|      185.0|      169.0|         2|                  0|           200|             139|              339|                0|        58|                  0|            0|             0|              0|      180.4|      126.0|         1|                  0|           363|             372|              735|                0|       106|                  0|            0|             0|              0|       243|       241|1997-05-03|      25|      26|               10|                9|\n",
      "|      1|      174.5|      133.5|         2|                  0|           141|             122|              263|                0|        44|                  0|            0|             0|              0|      178.0|      118.0|         0|                  0|           202|             215|              417|                0|        60|                  0|            0|             0|              0|       513|       520|1997-05-09|      20|      21|                5|                3|\n",
      "|      1|      173.5|      105.0|         0|                  0|            98|             105|              203|                0|        30|                  0|            0|             0|              0|      182.0|      146.7|         1|                  0|           177|             140|              317|                0|        54|                  0|            0|             0|              0|       630|       628|1997-05-08|      17|      21|                2|                4|\n",
      "|      0|      185.0|      169.0|         2|                  0|           200|             139|              339|                0|        58|                  0|            0|             0|              0|      188.0|      133.5|         0|                  0|           360|             340|              700|                0|       101|                  0|            0|             0|              0|       225|       223|1995-05-04|      23|      24|                8|                7|\n",
      "|      0|      174.5|      133.5|         2|                  0|           141|             122|              263|                0|        44|                  0|            0|             0|              0|      182.0|      110.0|         0|                  0|           227|             214|              441|                0|        67|                  0|            0|             0|              0|       977|       965|1995-05-08|      24|      19|                6|                1|\n",
      "+-------+-----------+-----------+----------+-------------------+--------------+----------------+-----------------+-----------------+----------+-------------------+-------------+--------------+---------------+-----------+-----------+----------+-------------------+--------------+----------------+-----------------+-----------------+----------+-------------------+-------------+--------------+---------------+----------+----------+----------+--------+--------+-----------------+-----------------+\n",
      "only showing top 10 rows\n"
     ]
    }
   ],
   "source": [
    "main.show(10)"
   ]
  },
  {
   "cell_type": "code",
   "execution_count": 28,
   "id": "122880da",
   "metadata": {
    "collapsed": true,
    "jupyter": {
     "outputs_hidden": true
    }
   },
   "outputs": [
    {
     "name": "stdout",
     "output_type": "stream",
     "text": [
      "root\n",
      " |-- day: long (nullable = true)\n",
      " |-- division: string (nullable = true)\n",
      " |-- eastId: long (nullable = true)\n",
      " |-- eastRank: string (nullable = true)\n",
      " |-- eastShikona: string (nullable = true)\n",
      " |-- kimarite: string (nullable = true)\n",
      " |-- matchNo: long (nullable = true)\n",
      " |-- westId: long (nullable = true)\n",
      " |-- westRank: string (nullable = true)\n",
      " |-- westShikona: string (nullable = true)\n",
      " |-- winnerEn: string (nullable = true)\n",
      " |-- winnerId: long (nullable = true)\n",
      " |-- winnerJp: string (nullable = true)\n",
      " |-- match_id: long (nullable = true)\n",
      " |-- westWin: integer (nullable = true)\n",
      " |-- west_currentRank: string (nullable = true)\n",
      " |-- west_debut: string (nullable = true)\n",
      " |-- west_height: double (nullable = true)\n",
      " |-- west_id: long (nullable = true)\n",
      " |-- west_intai: string (nullable = true)\n",
      " |-- west_weight: double (nullable = true)\n",
      " |-- west_rikishi_id: string (nullable = true)\n",
      " |-- west_yusho: long (nullable = true)\n",
      " |-- west_makuuchi_yusho: long (nullable = true)\n",
      " |-- west_totalWins: long (nullable = true)\n",
      " |-- west_totalLosses: long (nullable = true)\n",
      " |-- west_totalMatches: long (nullable = true)\n",
      " |-- west_makuuchiWins: long (nullable = true)\n",
      " |-- west_basho: long (nullable = true)\n",
      " |-- west_Makuuchi_basho: long (nullable = true)\n",
      " |-- west_Gino_sho: long (nullable = true)\n",
      " |-- west_Kanto_sho: long (nullable = true)\n",
      " |-- west_Shukun_sho: long (nullable = true)\n",
      " |-- east_currentRank: string (nullable = true)\n",
      " |-- east_debut: string (nullable = true)\n",
      " |-- east_height: double (nullable = true)\n",
      " |-- east_id: long (nullable = true)\n",
      " |-- east_intai: string (nullable = true)\n",
      " |-- east_weight: double (nullable = true)\n",
      " |-- east_rikishi_id: string (nullable = true)\n",
      " |-- east_yusho: long (nullable = true)\n",
      " |-- east_makuuchi_yusho: long (nullable = true)\n",
      " |-- east_totalWins: long (nullable = true)\n",
      " |-- east_totalLosses: long (nullable = true)\n",
      " |-- east_totalMatches: long (nullable = true)\n",
      " |-- east_makuuchiWins: long (nullable = true)\n",
      " |-- east_basho: long (nullable = true)\n",
      " |-- east_Makuuchi_basho: long (nullable = true)\n",
      " |-- east_Gino_sho: long (nullable = true)\n",
      " |-- east_Kanto_sho: long (nullable = true)\n",
      " |-- east_Shukun_sho: long (nullable = true)\n",
      " |-- west_rank: string (nullable = true)\n",
      " |-- west_rankValue: long (nullable = true)\n",
      " |-- west_order: integer (nullable = true)\n",
      " |-- east_rank: string (nullable = true)\n",
      " |-- east_rankValue: long (nullable = true)\n",
      " |-- east_order: integer (nullable = true)\n",
      " |-- east_birthdate_parsed: date (nullable = true)\n",
      " |-- west_birthdate_parsed: date (nullable = true)\n",
      " |-- match_date: date (nullable = true)\n",
      " |-- east_age: long (nullable = true)\n",
      " |-- west_age: long (nullable = true)\n",
      " |-- east_debut_clean: string (nullable = true)\n",
      " |-- west_debut_clean: string (nullable = true)\n",
      " |-- east_debut_parsed: date (nullable = true)\n",
      " |-- west_debut_parsed: date (nullable = true)\n",
      " |-- east_years_active: long (nullable = true)\n",
      " |-- west_years_active: long (nullable = true)\n",
      "\n"
     ]
    }
   ],
   "source": [
    "main.printSchema()"
   ]
  },
  {
   "cell_type": "markdown",
   "id": "10e414f8",
   "metadata": {},
   "source": [
    "EDA AND FEATURE ENGINEERING"
   ]
  },
  {
   "cell_type": "code",
   "execution_count": 192,
   "id": "5bf77597",
   "metadata": {},
   "outputs": [
    {
     "name": "stderr",
     "output_type": "stream",
     "text": [
      "2025-09-30 17:24:58,696 INFO XGBoost-PySpark: predict_udf Do the inference on the CPUs\n",
      "                                                                                ]"
     ]
    }
   ],
   "source": [
    "main = (spark.read              # set to \"false\" if you have JSON Lines\n",
    "      .option(\"mode\", \"PERMISSIVE\")               # or \"FAILFAST\"\n",
    "      .option(\"recursiveFileLookup\", \"true\")\n",
    "      .parquet(\"s3a://ryans-sumo-bucket/gold/ml_training/\"))"
   ]
  },
  {
   "cell_type": "code",
   "execution_count": 193,
   "id": "b743576b",
   "metadata": {},
   "outputs": [],
   "source": [
    "main = main.withColumn(\n",
    "    \"match_id\",\n",
    "    concat(\n",
    "        col(\"match_id\").cast(StringType()),\n",
    "        col(\"eastId\").cast(StringType()),\n",
    "        col(\"westId\").cast(StringType())\n",
    "    )\n",
    ")"
   ]
  },
  {
   "cell_type": "code",
   "execution_count": 194,
   "id": "fe4e5f47",
   "metadata": {},
   "outputs": [
    {
     "name": "stderr",
     "output_type": "stream",
     "text": [
      "2025-09-30 17:25:10,681 INFO XGBoost-PySpark: _train_booster Training on CPUs\n",
      "[Stage 7543:>                                                       (0 + 8) / 8]"
     ]
    }
   ],
   "source": [
    "# Add unique match_id for joining back later\n",
    "main = (\n",
    "    main\n",
    "    .withColumn(\"match_ts\", F.col(\"match_date\").cast(\"timestamp\"))\n",
    ")\n",
    "\n",
    "# get west_id rows\n",
    "west_rows = (\n",
    "    main\n",
    "    .select(\n",
    "        \"match_id\", \"match_ts\",\n",
    "        F.col(\"westId\").alias(\"rikishiId\"),\n",
    "        F.lit(\"west\").alias(\"side\"),\n",
    "        F.col(\"westWin\").cast(\"int\").alias(\"isWin\")\n",
    "    )\n",
    ")\n",
    "\n",
    "#get east_id rows\n",
    "east_rows = (\n",
    "    main\n",
    "    .select(\n",
    "        \"match_id\", \"match_ts\",\n",
    "        F.col(\"eastId\").alias(\"rikishiId\"),\n",
    "        F.lit(\"east\").alias(\"side\"),\n",
    "        (1 - F.col(\"westWin\").cast(\"int\")).alias(\"isWin\")\n",
    "    )\n",
    ")\n",
    "\n",
    "long_df = (\n",
    "    west_rows.unionByName(east_rows)\n",
    "    .withColumn(\"ts\", F.col(\"match_ts\").cast(\"long\"))\n",
    ")\n",
    "\n",
    "# Define rolling 6-month window (~183 days)\n",
    "six_months_sec = 183 * 24 * 3600\n",
    "# this defines a \"window\" of rows that we will run our rolling average calculation over so it doesn't run on the whole dataset\n",
    "w6 = Window.partitionBy(\"rikishiId\").orderBy(\"ts\").rangeBetween(-six_months_sec, 0)\n",
    "\n",
    "# Rolling win/loss %\n",
    "rolled_long = (\n",
    "    long_df\n",
    "    .withColumn(\"wins_6m\", F.sum(\"isWin\").over(w6))\n",
    "    .withColumn(\"games_6m\", F.count(F.lit(1)).over(w6))\n",
    "    #precision 2 using wins_6m and games_6m\n",
    "    .withColumn(\"rolling_winloss\", F.round(F.col(\"wins_6m\") / F.col(\"games_6m\"), 2))\n",
    ")\n",
    "\n",
    "# Pivot back to per match\n",
    "rolled_wide = (\n",
    "    rolled_long\n",
    "    .groupBy(\"match_id\")\n",
    "    .agg(\n",
    "        F.first(F.when(F.col(\"side\") == \"west\", F.col(\"rolling_winloss\")), ignorenulls=True)\n",
    "          .alias(\"rolling_winloss_west\"),\n",
    "        F.first(F.when(F.col(\"side\") == \"east\", F.col(\"rolling_winloss\")), ignorenulls=True)\n",
    "          .alias(\"rolling_winloss_east\")\n",
    "    )\n",
    ")\n",
    "\n",
    "# Merge back into main\n",
    "main = (\n",
    "    main\n",
    "    .join(rolled_wide, on=\"match_id\", how=\"left\")\n",
    "    .drop(\"match_id\", \"match_ts\")\n",
    ")"
   ]
  },
  {
   "cell_type": "code",
   "execution_count": 195,
   "id": "e404ab14",
   "metadata": {},
   "outputs": [
    {
     "name": "stderr",
     "output_type": "stream",
     "text": [
      "2025-09-30 17:25:10,905 INFO XGBoost-PySpark: _train_booster Training on CPUs\n"
     ]
    }
   ],
   "source": [
    "main = main.drop('winnerEn', 'winnerJp', 'division', 'day', 'matchNo', 'west_intai', 'east_intai', 'west_rankValue', 'east_rankValue', 'eastRank', 'westRank', 'eastShikona', 'westShikona', 'east_birthdate_parsed', 'west_birthdate_parsed', 'winnerId', 'west_id', 'east_id', 'west_debut', 'east_debut', 'west_debut_parsed', 'east_debut_parsed', 'east_debut_clean', 'west_debut_clean', 'west_rikishi_id', 'east_rikishi_id', 'west_currentRank', 'east_currentRank', 'west_rank', 'east_rank', 'match_date')"
   ]
  },
  {
   "cell_type": "code",
   "execution_count": 196,
   "id": "d4ce6e66",
   "metadata": {},
   "outputs": [
    {
     "name": "stderr",
     "output_type": "stream",
     "text": [
      "[17:25:11] Task 3 got rank 3tage 7545:> (0 + 8) / 8][Stage 7546:>(0 + 0) / 14]8]\n",
      "[17:25:11] Task 2 got rank 2[17:25:11] Task 4 got rank 4\n",
      "\n",
      "[17:25:11] Task 5 got rank 5\n",
      "[17:25:11] Task 6 got rank 6\n",
      "[17:25:11] Task 0 got rank 0\n",
      "[17:25:11] Task 1 got rank 1\n",
      "[17:25:11] Task 7 got rank 7\n",
      "[17:25:11] Task 4 got rank 4\n",
      "[17:25:11] Task 3 got rank 3\n",
      "[17:25:11] Task 2 got rank 2\n",
      "[17:25:11] Task 1 got rank 1\n",
      "[17:25:11] Task 0 got rank 0\n",
      "[17:25:11] Task 6 got rank 6\n",
      "[17:25:11] Task 7 got rank 7\n",
      "[17:25:11] Task 5 got rank 5\n",
      "2025-09-30 17:25:15,868 INFO XGBoost-PySpark: predict_udf Do the inference on the CPUs\n",
      "2025-09-30 17:25:20,797 INFO XGBoost-PySpark: predict_udf Do the inference on the CPUs\n",
      "                                                                                ]]"
     ]
    }
   ],
   "source": [
    "from pyspark.ml.feature import Imputer\n",
    "from pyspark.sql import functions as F, Window\n",
    "from pyspark.sql.types import NumericType\n",
    "import matplotlib.pyplot as plt\n",
    "import seaborn as sns\n",
    "import pandas as pd\n",
    "\n",
    "imputer = Imputer(inputCols = ['west_height', 'west_weight', 'west_age', 'east_height', 'east_weight', 'east_age'], \n",
    "                  outputCols = ['west_height', 'west_weight', 'west_age', 'east_height', 'east_weight', 'east_age']\n",
    "                 ).setStrategy(\"mean\")\n",
    "main = imputer.fit(main).transform(main)"
   ]
  },
  {
   "cell_type": "code",
   "execution_count": 197,
   "id": "f8369442-e120-4974-b166-b46462dd417c",
   "metadata": {},
   "outputs": [],
   "source": [
    "main = main.replace(\"\", \"NA\", subset=['kimarite'])"
   ]
  },
  {
   "cell_type": "code",
   "execution_count": 198,
   "id": "69f26477",
   "metadata": {},
   "outputs": [
    {
     "name": "stderr",
     "output_type": "stream",
     "text": [
      "2025-09-30 17:25:33,065 INFO XGBoost-PySpark: _train_booster Training on CPUs14]\n",
      "                                                                                "
     ]
    }
   ],
   "source": [
    "main = main.na.fill(value = main.select(max(col(\"west_order\"))).first()[0], subset=[\"west_order\", \"east_order\"])"
   ]
  },
  {
   "cell_type": "code",
   "execution_count": 199,
   "id": "4736758d",
   "metadata": {},
   "outputs": [],
   "source": [
    "# 2) Safe ratio helper (avoid division by 0)\n",
    "def safe_ratio(numer, denom, default=F.lit(None)):\n",
    "    return F.when(denom.isNull() | (denom == 0), default).otherwise(numer / denom)\n",
    "\n",
    "# 3) Core win-rate features for both sides\n",
    "main = (\n",
    "    main\n",
    "    .withColumn(\"west_winRate\", safe_ratio(F.col(\"west_totalWins\").cast(\"double\"), F.col(\"west_totalMatches\").cast(\"double\")))\n",
    "    .withColumn(\"east_winRate\", safe_ratio(F.col(\"east_totalWins\").cast(\"double\"), F.col(\"east_totalMatches\").cast(\"double\")))\n",
    "    .withColumn(\"west_makuuchiWinRate\", safe_ratio(F.col(\"west_makuuchiWins\").cast(\"double\"), F.col(\"west_Makuuchi_basho\").cast(\"double\")))\n",
    "    .withColumn(\"east_makuuchiWinRate\", safe_ratio(F.col(\"east_makuuchiWins\").cast(\"double\"), F.col(\"east_Makuuchi_basho\").cast(\"double\")))\n",
    ")"
   ]
  },
  {
   "cell_type": "code",
   "execution_count": 200,
   "id": "bec54d64-06a0-404d-8f38-545b5df3302c",
   "metadata": {},
   "outputs": [],
   "source": [
    "main = (main\n",
    "        .withColumn(\"height_difference\", F.col(\"west_height\") - F.col(\"east_height\"))\n",
    "        .withColumn(\"weight_difference\", F.col(\"west_weight\") - F.col(\"east_weight\"))\n",
    "       )"
   ]
  },
  {
   "cell_type": "code",
   "execution_count": 201,
   "id": "7069d472-1dd3-44dc-aeaa-7782c76728c3",
   "metadata": {},
   "outputs": [],
   "source": [
    "yotsu_list = [\n",
    "    \"yorikiri\",\"yoritaoshi\",\"uwatenage\",\"shitatenage\",\"uwatedashinage\",\n",
    "    \"shitatedashinage\",\"tsuridashi\",\"tsuriotoshi\",\"kimedashi\",\"kimetaoshi\",\n",
    "    \"sotogake\",\"uchigake\",\"kakenage\",\"kubinage\",\"kotenage\",\"tottari\",\n",
    "    \"uwatehineri\",\"shitatehineri\",\"kainahineri\",\"ashitori\",\"susoharai\",\n",
    "    \"susotori\"\n",
    "]\n",
    "\n",
    "oshi_list = [\n",
    "    \"oshidashi\",\"oshitaoshi\",\"tsukidashi\",\"tsukiotoshi\",\"tsukitaoshi\",\n",
    "    \"hatakikomi\",\"hikiotoshi\",\"abisetaoshi\",\"hikkake\",\"okuridashi\",\n",
    "    \"okuritaoshi\",\"okurihikiotoshi\"\n",
    "]"
   ]
  },
  {
   "cell_type": "code",
   "execution_count": 202,
   "id": "197088df-1dac-4a01-a688-144edd25018d",
   "metadata": {},
   "outputs": [
    {
     "name": "stderr",
     "output_type": "stream",
     "text": [
      "2025-09-30 17:25:33,944 INFO XGBoost-PySpark: _train_booster Training on CPUs\n",
      "[17:25:34] Task 4 got rank 4\n",
      "[17:25:34] Task 3 got rank 3\n",
      "[17:25:34] Task 5 got rank 5\n",
      "[17:25:34] Task 6 got rank 6\n",
      "[17:25:34] Task 0 got rank 0\n",
      "[17:25:34] Task 2 got rank 2[17:25:34] Task 7 got rank 7[17:25:34] Task 1 got rank 1\n",
      "\n",
      "\n"
     ]
    }
   ],
   "source": [
    "def cat_expr(k):\n",
    "    return (F.when(k.isin(yotsu_list), F.lit(\"yotsu\"))\n",
    "             .when(k.isin(oshi_list), F.lit(\"oshi\"))\n",
    "             .otherwise(F.lit(\"other\")))\n",
    "\n",
    "# 2) Winner-normalized rows; drop NA/unknown kimarite from specialization stats\n",
    "main_winners = (\n",
    "    main\n",
    "    .withColumn(\"winnerId\", F.when(F.col(\"westWin\") == 1, F.col(\"westId\")).otherwise(F.col(\"eastId\")))\n",
    "    .withColumn(\"kimarite_norm\",\n",
    "                F.when(F.col(\"kimarite\").isNull() | (F.col(\"kimarite\") == F.lit(\"NA\")), F.lit(None))\n",
    "                 .otherwise(F.col(\"kimarite\")))\n",
    "    .filter(F.col(\"kimarite_norm\").isNotNull())\n",
    "    .withColumn(\"category\", cat_expr(F.col(\"kimarite_norm\")))\n",
    ")\n",
    "\n",
    "# 3) Per-rikishi counts & proportions (pivot)\n",
    "counts = main_winners.groupBy(\"winnerId\",\"category\").count()\n",
    "pivot = (\n",
    "    counts.groupBy(\"winnerId\")\n",
    "          .pivot(\"category\", [\"oshi\",\"yotsu\",\"other\"])\n",
    "          .sum(\"count\")\n",
    "          .na.fill(0)\n",
    "          .withColumn(\"total\", F.col(\"oshi\")+F.col(\"yotsu\")+F.col(\"other\"))\n",
    "          .withColumn(\"oshi_pct\",  F.when(F.col(\"total\")>0, F.col(\"oshi\") / F.col(\"total\")).otherwise(F.lit(0.0)))\n",
    "          .withColumn(\"yotsu_pct\", F.when(F.col(\"total\")>0, F.col(\"yotsu\")/ F.col(\"total\")).otherwise(F.lit(0.0)))\n",
    "          .withColumn(\"other_pct\", F.when(F.col(\"total\")>0, F.col(\"other\")/ F.col(\"total\")).otherwise(F.lit(0.0)))\n",
    ")\n",
    "\n",
    "# 4) Kimarite diversity (Shannon entropy) in pure Spark:\n",
    "# entropy = -Σ p*ln(p); treat p<=0 as 0 contribution\n",
    "def entropy_expr(o, y, ot):\n",
    "    def term(p):  # ln is natural log\n",
    "        return F.when(p > 0, p * F.log(p)).otherwise(F.lit(0.0))\n",
    "    return -(term(o) + term(y) + term(ot))\n",
    "\n",
    "pivot = pivot.withColumn(\"kimarite_entropy\", entropy_expr(F.col(\"oshi_pct\"), F.col(\"yotsu_pct\"), F.col(\"other_pct\")))\n",
    "\n",
    "# 5) Specialist label (tune thresholds if you’d like)\n",
    "pivot = pivot.withColumn(\n",
    "    \"specialist\",\n",
    "    F.when(\n",
    "        (F.col(\"oshi_pct\") > F.col(\"yotsu_pct\")) & (F.col(\"oshi_pct\") > F.col(\"other_pct\")),\n",
    "        F.lit(\"oshi\")\n",
    "    ).when(\n",
    "        (F.col(\"yotsu_pct\") > F.col(\"oshi_pct\")) & (F.col(\"yotsu_pct\") > F.col(\"other_pct\")),\n",
    "        F.lit(\"yotsu\")\n",
    "    ).otherwise(F.lit(\"other\"))   # ties or 'other' majority fall here\n",
    ")\n",
    "\n",
    "rikishi_profile = pivot.select(\n",
    "    F.col(\"winnerId\").alias(\"rikishiId\"),\n",
    "    \"specialist\",\n",
    "    \"kimarite_entropy\",\n",
    ")\n",
    "\n",
    "# 6) Join back to main (west/east) and make binary flags\n",
    "main = (\n",
    "    main\n",
    "    .join(\n",
    "        rikishi_profile.withColumnRenamed(\"specialist\",\"west_specialist\")\n",
    "                       .withColumnRenamed(\"kimarite_entropy\",\"west_kimarite_entropy\"),\n",
    "        on=main.westId == F.col(\"rikishiId\"), how=\"left\"\n",
    "    ).drop(\"rikishiId\")\n",
    "    .join(\n",
    "        rikishi_profile.withColumnRenamed(\"specialist\",\"east_specialist\")\n",
    "                       .withColumnRenamed(\"kimarite_entropy\",\"east_kimarite_entropy\"),\n",
    "        on=main.eastId == F.col(\"rikishiId\"), how=\"left\"\n",
    "    ).drop(\"rikishiId\")\n",
    "    .withColumn(\"west_specialist_oshi\",  (F.col(\"west_specialist\")==\"oshi\").cast(\"int\"))\n",
    "    .withColumn(\"west_specialist_yotsu\", (F.col(\"west_specialist\")==\"yotsu\").cast(\"int\"))\n",
    "    .withColumn(\"west_specialist_other\", (F.col(\"west_specialist\")==\"other\").cast(\"int\"))\n",
    "    .withColumn(\"east_specialist_oshi\",  (F.col(\"east_specialist\")==\"oshi\").cast(\"int\"))\n",
    "    .withColumn(\"east_specialist_yotsu\", (F.col(\"east_specialist\")==\"yotsu\").cast(\"int\"))\n",
    "    .withColumn(\"east_specialist_other\", (F.col(\"east_specialist\")==\"other\").cast(\"int\"))\n",
    ")\n"
   ]
  },
  {
   "cell_type": "code",
   "execution_count": 203,
   "id": "0f140f05-f51d-4662-9d78-b749dcbe45d6",
   "metadata": {},
   "outputs": [
    {
     "name": "stderr",
     "output_type": "stream",
     "text": [
      "[17:25:35] Task 0 got rank 0[17:25:35] Task 2 got rank 2            (0 + 8) / 8]\n",
      "\n",
      "[17:25:35] Task 1 got rank 1\n",
      "[17:25:35] Task 5 got rank 5\n",
      "[17:25:35] Task 6 got rank 6\n",
      "[17:25:35] Task 4 got rank 4\n",
      "[17:25:35] Task 3 got rank 3\n",
      "[17:25:35] Task 7 got rank 7\n"
     ]
    }
   ],
   "source": [
    "west_view = (\n",
    "    main.select(\n",
    "        F.col(\"westId\").alias(\"rikishiId\"),\n",
    "        F.col(\"east_specialist\").alias(\"opponent_specialist\"),\n",
    "        F.when(F.col(\"westWin\") == 1, 1).otherwise(0).alias(\"win\")\n",
    "    )\n",
    ")\n",
    "\n",
    "east_view = (\n",
    "    main.select(\n",
    "        F.col(\"eastId\").alias(\"rikishiId\"),\n",
    "        F.col(\"west_specialist\").alias(\"opponent_specialist\"),\n",
    "        F.when(F.col(\"westWin\") == 0, 1).otherwise(0).alias(\"win\")\n",
    "    )\n",
    ")\n",
    "\n",
    "rikishi_vs = west_view.union(east_view)\n",
    "\n",
    "winrates = (\n",
    "    rikishi_vs.groupBy(\"rikishiId\", \"opponent_specialist\")\n",
    "              .agg(\n",
    "                  F.count(\"*\").alias(\"bouts\"),\n",
    "                  F.sum(\"win\").alias(\"wins\")\n",
    "              )\n",
    "              .withColumn(\"winrate\", F.when(F.col(\"bouts\") > 0, F.col(\"wins\")/F.col(\"bouts\")).otherwise(F.lit(None)))\n",
    ")\n",
    "\n",
    "# 2) Pivot so each rikishi has columns: oshi, yotsu, other (their winrate vs that class)\n",
    "winrates_pivot = (\n",
    "    winrates.groupBy(\"rikishiId\")\n",
    "            .pivot(\"opponent_specialist\", [\"oshi\",\"yotsu\",\"other\"])\n",
    "            .agg(F.first(\"winrate\"))\n",
    "    # don't fill with 0 by default—keep nulls when they have no history vs that class\n",
    ")\n",
    "\n",
    "# 3) Join back to every bout for WEST perspective\n",
    "west_wr = (\n",
    "    winrates_pivot\n",
    "      .withColumnRenamed(\"oshi\",  \"west_vs_oshi_winrate\")\n",
    "      .withColumnRenamed(\"yotsu\", \"west_vs_yotsu_winrate\")\n",
    "      .withColumnRenamed(\"other\", \"west_vs_other_winrate\")\n",
    ")\n",
    "\n",
    "with_west = (\n",
    "    main.join(west_wr, main.westId == west_wr.rikishiId, \"left\")\n",
    "            .drop(west_wr.rikishiId)\n",
    ")\n",
    "\n",
    "# 4) Join back to every bout for EAST perspective\n",
    "east_wr = (\n",
    "    winrates_pivot\n",
    "      .withColumnRenamed(\"oshi\",  \"east_vs_oshi_winrate\")\n",
    "      .withColumnRenamed(\"yotsu\", \"east_vs_yotsu_winrate\")\n",
    "      .withColumnRenamed(\"other\", \"east_vs_other_winrate\")\n",
    ")\n",
    "\n",
    "with_both = (\n",
    "    with_west.join(east_wr, with_west.eastId == east_wr.rikishiId, \"left\")\n",
    "             .drop(east_wr.rikishiId)\n",
    ")\n",
    "\n",
    "# 5) Convenience columns: per-row winrate vs *this bout’s opponent’s class*\n",
    "main = (\n",
    "    with_both\n",
    "    .withColumn(\n",
    "        \"west_winrate_vs_opponent_specialist\",\n",
    "        F.when(F.col(\"east_specialist\") == \"oshi\",  F.col(\"west_vs_oshi_winrate\"))\n",
    "         .when(F.col(\"east_specialist\") == \"yotsu\", F.col(\"west_vs_yotsu_winrate\"))\n",
    "         .when(F.col(\"east_specialist\") == \"other\", F.col(\"west_vs_other_winrate\"))\n",
    "         .otherwise(F.lit(None))\n",
    "    )\n",
    "    .withColumn(\n",
    "        \"east_winrate_vs_opponent_specialist\",\n",
    "        F.when(F.col(\"west_specialist\") == \"oshi\",  F.col(\"east_vs_oshi_winrate\"))\n",
    "         .when(F.col(\"west_specialist\") == \"yotsu\", F.col(\"east_vs_yotsu_winrate\"))\n",
    "         .when(F.col(\"west_specialist\") == \"other\", F.col(\"east_vs_other_winrate\"))\n",
    "         .otherwise(F.lit(None))\n",
    "    )\n",
    ")"
   ]
  },
  {
   "cell_type": "code",
   "execution_count": 204,
   "id": "abbf59a4",
   "metadata": {},
   "outputs": [],
   "source": [
    "main = main.na.fill(value=0)"
   ]
  },
  {
   "cell_type": "code",
   "execution_count": 205,
   "id": "c2bc7533",
   "metadata": {},
   "outputs": [],
   "source": [
    "main = main.drop('west_totalWins', 'west_totalMatches', 'west_totalLosses', 'east_totalWins', 'east_totalMatches', 'east_totalLosses', \n",
    "                 'west_basho', 'east_basho', 'west_age', 'east_age', \"east_Gino_sho\", \"east_Kanto_sho\", \"east_Shukun_sho\",\"west_Gino_sho\",\n",
    "                    \"west_Kanto_sho\", \"west_Shukun_sho\", \"west_makuuchi_yusho\",\n",
    "                 \"east_makuuchi_yusho\", \"west_height\", \"west_weight\", \"east_height\", \"east_weight\", \"kimarite\", \"eastId\", \"westId\", \"west_specialist\", \"east_specialist\",\n",
    "                 \"west_vs_oshi_winrate\", \"west_vs_yotsu_winrate\", \"west_vs_other_winrate\", \"east_vs_oshi_winrate\", \"east_vs_yotsu_winrate\", \"east_vs_other_winrate\",\n",
    "                )"
   ]
  },
  {
   "cell_type": "code",
   "execution_count": 177,
   "id": "d1f9923a-f3b8-4c93-8184-c97e9ddc8ac5",
   "metadata": {
    "collapsed": true,
    "jupyter": {
     "outputs_hidden": true
    },
    "scrolled": true
   },
   "outputs": [
    {
     "name": "stdout",
     "output_type": "stream",
     "text": [
      "root\n",
      " |-- westWin: integer (nullable = true)\n",
      " |-- west_yusho: long (nullable = true)\n",
      " |-- west_makuuchiWins: long (nullable = true)\n",
      " |-- west_Makuuchi_basho: long (nullable = true)\n",
      " |-- east_yusho: long (nullable = true)\n",
      " |-- east_makuuchiWins: long (nullable = true)\n",
      " |-- east_Makuuchi_basho: long (nullable = true)\n",
      " |-- west_order: integer (nullable = true)\n",
      " |-- east_order: integer (nullable = true)\n",
      " |-- east_years_active: long (nullable = true)\n",
      " |-- west_years_active: long (nullable = true)\n",
      " |-- rolling_winloss_west: double (nullable = false)\n",
      " |-- rolling_winloss_east: double (nullable = false)\n",
      " |-- west_winRate: double (nullable = false)\n",
      " |-- east_winRate: double (nullable = false)\n",
      " |-- west_makuuchiWinRate: double (nullable = false)\n",
      " |-- east_makuuchiWinRate: double (nullable = false)\n",
      " |-- west_kimarite_entropy: double (nullable = false)\n",
      " |-- east_kimarite_entropy: double (nullable = false)\n",
      " |-- west_winrate_vs_opponent_specialist: double (nullable = false)\n",
      " |-- east_winrate_vs_opponent_specialist: double (nullable = false)\n",
      "\n"
     ]
    }
   ],
   "source": [
    "main.printSchema()"
   ]
  },
  {
   "cell_type": "code",
   "execution_count": 152,
   "id": "0771f783",
   "metadata": {
    "collapsed": true,
    "jupyter": {
     "outputs_hidden": true
    }
   },
   "outputs": [
    {
     "name": "stderr",
     "output_type": "stream",
     "text": [
      "[Stage 275:===================================================>   (13 + 1) / 14]"
     ]
    },
    {
     "name": "stdout",
     "output_type": "stream",
     "text": [
      "+-------+----------+-----------------+-------------------+----------+-----------------+-------------------+----------+----------+-----------------+-----------------+--------------------+--------------------+------------+------------+--------------------+--------------------+-----------------+-----------------+---------------------+---------------------+--------------------+---------------------+---------------------+--------------------+---------------------+---------------------+-----------------------------------+-----------------------------------+\n",
      "|westWin|west_yusho|west_makuuchiWins|west_Makuuchi_basho|east_yusho|east_makuuchiWins|east_Makuuchi_basho|west_order|east_order|east_years_active|west_years_active|rolling_winloss_west|rolling_winloss_east|west_winRate|east_winRate|west_makuuchiWinRate|east_makuuchiWinRate|height_difference|weight_difference|west_kimarite_entropy|east_kimarite_entropy|west_specialist_oshi|west_specialist_yotsu|west_specialist_other|east_specialist_oshi|east_specialist_yotsu|east_specialist_other|west_winrate_vs_opponent_specialist|east_winrate_vs_opponent_specialist|\n",
      "+-------+----------+-----------------+-------------------+----------+-----------------+-------------------+----------+----------+-----------------+-----------------+--------------------+--------------------+------------+------------+--------------------+--------------------+-----------------+-----------------+---------------------+---------------------+--------------------+---------------------+---------------------+--------------------+---------------------+---------------------+-----------------------------------+-----------------------------------+\n",
      "|      0|         0|                0|                  0|         0|                0|                  0|         0|         0|                0|                0|                   0|                   0|           0|           0|                   0|                   0|                0|                0|                    0|                    0|                   0|                    0|                    0|                   0|                    0|                    0|                                  0|                                  0|\n",
      "+-------+----------+-----------------+-------------------+----------+-----------------+-------------------+----------+----------+-----------------+-----------------+--------------------+--------------------+------------+------------+--------------------+--------------------+-----------------+-----------------+---------------------+---------------------+--------------------+---------------------+---------------------+--------------------+---------------------+---------------------+-----------------------------------+-----------------------------------+\n",
      "\n"
     ]
    },
    {
     "name": "stderr",
     "output_type": "stream",
     "text": [
      "                                                                                "
     ]
    }
   ],
   "source": [
    "null_counts = main.select([\n",
    "    sum(col(c).isNull().cast(\"int\")).alias(c) \n",
    "    for c in main.columns\n",
    "])\n",
    "null_counts.show()"
   ]
  },
  {
   "cell_type": "code",
   "execution_count": 153,
   "id": "09869001-bdbf-4e68-9878-44be0f70e473",
   "metadata": {
    "collapsed": true,
    "jupyter": {
     "outputs_hidden": true
    },
    "scrolled": true
   },
   "outputs": [
    {
     "name": "stderr",
     "output_type": "stream",
     "text": [
      "[Stage 295:================================>                       (8 + 6) / 14]"
     ]
    },
    {
     "name": "stdout",
     "output_type": "stream",
     "text": [
      "+-------+----------+-----------------+-------------------+----------+-----------------+-------------------+----------+----------+-----------------+-----------------+--------------------+--------------------+------------------+-------------------+--------------------+--------------------+------------------+------------------+---------------------+---------------------+--------------------+---------------------+---------------------+--------------------+---------------------+---------------------+-----------------------------------+-----------------------------------+\n",
      "|westWin|west_yusho|west_makuuchiWins|west_Makuuchi_basho|east_yusho|east_makuuchiWins|east_Makuuchi_basho|west_order|east_order|east_years_active|west_years_active|rolling_winloss_west|rolling_winloss_east|      west_winRate|       east_winRate|west_makuuchiWinRate|east_makuuchiWinRate| height_difference| weight_difference|west_kimarite_entropy|east_kimarite_entropy|west_specialist_oshi|west_specialist_yotsu|west_specialist_other|east_specialist_oshi|east_specialist_yotsu|east_specialist_other|west_winrate_vs_opponent_specialist|east_winrate_vs_opponent_specialist|\n",
      "+-------+----------+-----------------+-------------------+----------+-----------------+-------------------+----------+----------+-----------------+-----------------+--------------------+--------------------+------------------+-------------------+--------------------+--------------------+------------------+------------------+---------------------+---------------------+--------------------+---------------------+---------------------+--------------------+---------------------+---------------------+-----------------------------------+-----------------------------------+\n",
      "|      0|         2|                0|                  0|         0|                0|                  0|       994|       997|                1|                0|                0.53|                 0.5|0.5361216730038023|               0.48|                 0.0|                 0.0|               4.5|             -33.0|   0.7981469015302918|   0.7543572870419344|                   0|                    1|                    0|                   0|                    1|                    0|                 0.5576923076923077|                 0.5116279069767442|\n",
      "|      1|         2|                0|                  0|         0|                0|                  0|       788|       797|                0|                0|                0.55|                0.45|0.5361216730038023|0.44047619047619047|                 0.0|                 0.0|              -3.0|              61.5|   0.7981469015302918|   0.6719467245748496|                   0|                    1|                    0|                   0|                    1|                    0|                 0.5576923076923077|                 0.4838709677419355|\n",
      "|      1|         2|                0|                  0|         0|                0|                  0|       788|       794|                0|                0|                 0.5|                 0.4|0.5361216730038023| 0.5476190476190477|                 0.0|                 0.0|              -6.5|              38.0|   0.7981469015302918|   0.5825842452160127|                   0|                    1|                    0|                   0|                    1|                    0|                 0.5576923076923077|                 0.6060606060606061|\n",
      "|      0|         0|                0|                  0|         0|                0|                  0|       630|       620|                9|                4|                0.52|                0.52|0.4827586206896552|0.47392290249433106|                 0.0|                 0.0|              -2.5|             -12.0|   0.8299668018747322|   0.9526182317210732|                   1|                    0|                    0|                   1|                    0|                    0|                               0.64|                 0.4925373134328358|\n",
      "|      1|         0|                0|                  0|         1|                0|                  0|       630|       629|                2|                4|                0.48|                0.65|0.4827586206896552|0.48839285714285713|                 0.0|                 0.0|              -2.0|             -79.0|   0.8299668018747322|   0.6214598829694488|                   1|                    0|                    0|                   1|                    0|                    0|                               0.64|                0.43478260869565216|\n",
      "|      0|         2|                0|                  0|         1|                0|                  0|       243|       241|               10|                9|                0.43|                0.52|0.5899705014749262|0.49387755102040815|                 0.0|                 0.0| 4.599999999999994|              43.0|   0.7974545661640821|   0.6808568860790961|                   0|                    1|                    0|                   0|                    1|                    0|                 0.5966850828729282|                               0.53|\n",
      "|      1|         2|                0|                  0|         0|                0|                  0|       513|       520|                5|                3|                0.52|                0.43|0.5361216730038023| 0.4844124700239808|                 0.0|                 0.0|              -3.5|              15.5|   0.7981469015302918|   0.8437934763215617|                   0|                    1|                    0|                   0|                    1|                    0|                 0.5576923076923077|                0.48314606741573035|\n",
      "|      1|         0|                0|                  0|         1|                0|                  0|       630|       628|                2|                4|                0.55|                0.39|0.4827586206896552| 0.5583596214511041|                 0.0|                 0.0|              -8.5|-41.69999999999999|   0.8299668018747322|   0.7818834611662426|                   1|                    0|                    0|                   1|                    0|                    0|                               0.64|                0.49264705882352944|\n",
      "|      0|         2|                0|                  0|         0|                0|                  0|       225|       223|                8|                7|                0.45|                0.61|0.5899705014749262| 0.5142857142857142|                 0.0|                 0.0|              -3.0|              35.5|   0.7974545661640821|   0.8696468480889976|                   0|                    1|                    0|                   0|                    1|                    0|                 0.5966850828729282|                               0.52|\n",
      "|      0|         2|                0|                  0|         0|                0|                  0|       977|       965|                6|                1|                0.48|                 1.0|0.5361216730038023| 0.5147392290249433|                 0.0|                 0.0|              -7.5|              23.5|   0.7981469015302918|   0.5888690278191818|                   0|                    1|                    0|                   0|                    1|                    0|                 0.5576923076923077|                 0.5508771929824562|\n",
      "|      0|         0|                0|                  0|         1|                4|                  1|      1065|      1064|                0|                1|                0.43|                0.53|0.4827586206896552| 0.5094527363184079|                 0.0|                 4.0|              -6.5|-32.69999999999999|   0.8299668018747322|   0.8403267661259142|                   1|                    0|                    0|                   1|                    0|                    0|                               0.64|                   0.54292343387471|\n",
      "|      1|         2|                0|                  0|         0|                0|                  0|       788|       789|                1|                0|                 0.5|                0.32|0.5361216730038023| 0.4194528875379939|                 0.0|                 0.0|               4.5|              40.5|   0.7981469015302918|   0.9206269549741114|                   0|                    1|                    0|                   0|                    1|                    0|                 0.5576923076923077|                 0.4069264069264069|\n",
      "|      1|         0|                0|                  0|         0|                0|                  0|       671|       669|                5|                4|                0.48|                0.45|0.4827586206896552| 0.5093167701863354|                 0.0|                 0.0|-7.199999999999989|               3.5|   0.8299668018747322|   0.7826821705486271|                   1|                    0|                    0|                   0|                    1|                    0|                           0.390625|                 0.5238095238095238|\n",
      "|      1|         0|                0|                  0|         0|                0|                  0|       893|       897|                1|                1|                0.45|                0.32|0.4146341463414634|0.43548387096774194|                 0.0|                 0.0|               0.0|              10.0|   0.8014687253625812|  0.42584844923858145|                   0|                    1|                    0|                   0|                    1|                    0|                 0.3869346733668342|                 0.4367816091954023|\n",
      "|      1|         2|                0|                  0|         1|                0|                  0|       227|       233|                7|                7|                0.67|                0.48|0.5899705014749262|                0.5|                 0.0|                 0.0|               6.0|              -5.0|   0.7974545661640821|   0.6982901000358838|                   0|                    1|                    0|                   1|                    0|                    0|                 0.5377358490566038|                0.47174447174447176|\n",
      "|      1|         2|                0|                  0|         0|                0|                  0|       227|       229|                6|                7|                0.67|                0.52|0.5899705014749262| 0.5253456221198156|                 0.0|                 0.0|               6.0|              32.0|   0.7974545661640821|    0.926506603289533|                   0|                    1|                    0|                   0|                    1|                    0|                 0.5966850828729282|                 0.5344827586206896|\n",
      "|      0|         2|                0|                  0|         0|                0|                  0|       788|       784|                3|                0|                0.44|                0.56|0.5361216730038023| 0.5136186770428015|                 0.0|                 0.0|              -5.0|               2.5|   0.7981469015302918|   0.7576860246370761|                   0|                    1|                    0|                   1|                    0|                    0|                                0.5|                                0.5|\n",
      "|      1|         0|                0|                  0|         0|                0|                  0|       977|       980|                1|                0|                0.45|                0.41|0.4827586206896552|0.48412698412698413|                 0.0|                 0.0|              -3.5|              -7.0|   0.8299668018747322|   0.8039229423235075|                   1|                    0|                    0|                   0|                    1|                    0|                           0.390625|                 0.4793388429752066|\n",
      "|      1|         2|                0|                  0|         0|                0|                  0|       339|       338|                7|                6|                0.73|                0.55|0.5899705014749262| 0.5166666666666667|                 0.0|                 0.0|               5.0|              37.0|   0.7974545661640821|   0.5430622210086464|                   0|                    1|                    0|                   1|                    0|                    0|                 0.5377358490566038|                  0.509009009009009|\n",
      "|      1|         2|                0|                  0|         0|                0|                  0|       977|       990|                1|                1|                0.48|                0.48|0.5361216730038023|0.49714285714285716|                 0.0|                 0.0|              -5.5|              15.5|   0.7981469015302918|   0.6115499396682464|                   0|                    1|                    0|                   1|                    0|                    0|                                0.5|                 0.5197568389057751|\n",
      "+-------+----------+-----------------+-------------------+----------+-----------------+-------------------+----------+----------+-----------------+-----------------+--------------------+--------------------+------------------+-------------------+--------------------+--------------------+------------------+------------------+---------------------+---------------------+--------------------+---------------------+---------------------+--------------------+---------------------+---------------------+-----------------------------------+-----------------------------------+\n",
      "only showing top 20 rows\n",
      "\n"
     ]
    },
    {
     "name": "stderr",
     "output_type": "stream",
     "text": [
      "                                                                                "
     ]
    }
   ],
   "source": [
    "main.show()"
   ]
  },
  {
   "cell_type": "code",
   "execution_count": null,
   "id": "34fc328c",
   "metadata": {},
   "outputs": [
    {
     "name": "stderr",
     "output_type": "stream",
     "text": [
      "C:\\Users\\Ryan Jewik\\AppData\\Local\\Temp\\ipykernel_16252\\1171872252.py:18: FutureWarning: \n",
      "\n",
      "Passing `palette` without assigning `hue` is deprecated and will be removed in v0.14.0. Assign the `y` variable to `hue` and set `legend=False` for the same effect.\n",
      "\n",
      "  sns.barplot(data=corr_df, x=\"correlation\", y=\"feature\", palette=\"coolwarm\")\n"
     ]
    },
    {
     "data": {
      "image/png": "[encoded data removed]",
      "text/plain": [
       "<Figure size 800x600 with 1 Axes>"
      ]
     },
     "metadata": {},
     "output_type": "display_data"
    }
   ],
   "source": [
    "numeric_cols = [f.name for f in main.schema.fields if isinstance(f.dataType, NumericType)]\n",
    "numeric_cols.remove(\"westWin\")  # we’ll treat westWin as the target\n",
    "\n",
    "correlations = []\n",
    "for col in numeric_cols:\n",
    "    corr_val = main.stat.corr(\"westWin\", col)\n",
    "    correlations.append((col, corr_val))\n",
    "\n",
    "from math import fabs\n",
    "correlations = sorted(correlations, key=lambda x: fabs(x[1]), reverse=True)\n",
    "corr_df = pd.DataFrame(correlations, columns=[\"feature\", \"correlation\"])\n",
    "\n",
    "plt.figure(figsize=(8, 6))\n",
    "sns.barplot(data=corr_df, x=\"correlation\", y=\"feature\", palette=\"coolwarm\")\n",
    "plt.axvline(0, color=\"black\", linewidth=0.8)\n",
    "plt.title(\"Correlation with westWin\")\n",
    "plt.show()"
   ]
  },
  {
   "cell_type": "markdown",
   "id": "a9aba89c",
   "metadata": {},
   "source": [
    "MACHINE LEARNING"
   ]
  },
  {
   "cell_type": "code",
   "execution_count": 154,
   "id": "74c2601f",
   "metadata": {},
   "outputs": [
    {
     "name": "stdout",
     "output_type": "stream",
     "text": [
      "root\n",
      " |-- westWin: integer (nullable = true)\n",
      " |-- west_yusho: long (nullable = true)\n",
      " |-- west_makuuchiWins: long (nullable = true)\n",
      " |-- west_Makuuchi_basho: long (nullable = true)\n",
      " |-- east_yusho: long (nullable = true)\n",
      " |-- east_makuuchiWins: long (nullable = true)\n",
      " |-- east_Makuuchi_basho: long (nullable = true)\n",
      " |-- west_order: integer (nullable = true)\n",
      " |-- east_order: integer (nullable = true)\n",
      " |-- east_years_active: long (nullable = true)\n",
      " |-- west_years_active: long (nullable = true)\n",
      " |-- rolling_winloss_west: double (nullable = false)\n",
      " |-- rolling_winloss_east: double (nullable = false)\n",
      " |-- west_winRate: double (nullable = false)\n",
      " |-- east_winRate: double (nullable = false)\n",
      " |-- west_makuuchiWinRate: double (nullable = false)\n",
      " |-- east_makuuchiWinRate: double (nullable = false)\n",
      " |-- height_difference: double (nullable = false)\n",
      " |-- weight_difference: double (nullable = false)\n",
      " |-- west_kimarite_entropy: double (nullable = false)\n",
      " |-- east_kimarite_entropy: double (nullable = false)\n",
      " |-- west_specialist_oshi: integer (nullable = true)\n",
      " |-- west_specialist_yotsu: integer (nullable = true)\n",
      " |-- west_specialist_other: integer (nullable = true)\n",
      " |-- east_specialist_oshi: integer (nullable = true)\n",
      " |-- east_specialist_yotsu: integer (nullable = true)\n",
      " |-- east_specialist_other: integer (nullable = true)\n",
      " |-- west_winrate_vs_opponent_specialist: double (nullable = false)\n",
      " |-- east_winrate_vs_opponent_specialist: double (nullable = false)\n",
      "\n"
     ]
    }
   ],
   "source": [
    "main.printSchema()"
   ]
  },
  {
   "cell_type": "code",
   "execution_count": null,
   "id": "747d80de",
   "metadata": {},
   "outputs": [
    {
     "name": "stdout",
     "output_type": "stream",
     "text": [
      "AUC:  0.6168\n",
      "AUPR: 0.6084\n",
      "ACC:  0.5806\n",
      "+----------+-------+-----+\n",
      "|prediction|westWin|count|\n",
      "+----------+-------+-----+\n",
      "|       0.0|      0|42392|\n",
      "|       0.0|      1|30295|\n",
      "|       1.0|      0|31557|\n",
      "|       1.0|      1|43232|\n",
      "+----------+-------+-----+\n",
      "\n"
     ]
    }
   ],
   "source": []
  },
  {
   "cell_type": "code",
   "execution_count": 206,
   "id": "ef43f0bf",
   "metadata": {},
   "outputs": [],
   "source": [
    "feature_cols = [\n",
    "    \"west_yusho\",\n",
    "    \"west_makuuchiWins\", \"west_Makuuchi_basho\",\n",
    "    \"east_yusho\", \"east_makuuchiWins\",\n",
    "    \"east_Makuuchi_basho\", \"west_order\", \"east_order\", \"east_years_active\",\n",
    "    \"west_years_active\", \"rolling_winloss_west\", \"rolling_winloss_east\",\n",
    "    \"west_winRate\", \"east_winRate\", \"west_makuuchiWinRate\",\n",
    "    \"east_makuuchiWinRate\", \"height_difference\", \"weight_difference\", \"west_kimarite_entropy\", \"east_kimarite_entropy\", \"west_specialist_oshi\",\n",
    "    \"east_specialist_oshi\", \"west_specialist_yotsu\", \"east_specialist_yotsu\", \"west_specialist_other\", \"east_specialist_other\", \"west_winrate_vs_opponent_specialist\",\n",
    "    \"east_winrate_vs_opponent_specialist\"\n",
    "]"
   ]
  },
  {
   "cell_type": "code",
   "execution_count": 207,
   "id": "0fc97bff",
   "metadata": {},
   "outputs": [],
   "source": [
    "from pyspark.ml.feature import VectorAssembler\n",
    "from pyspark.ml.classification import LogisticRegression\n",
    "from pyspark.ml.tuning import ParamGridBuilder, CrossValidator\n",
    "from pyspark.ml.evaluation import BinaryClassificationEvaluator\n",
    "from pyspark.ml.feature import StandardScaler\n",
    "from pyspark.ml import Pipeline\n",
    "\n",
    "\n",
    "assembler = VectorAssembler(\n",
    "    inputCols=feature_cols,\n",
    "    outputCol=\"raw_features\"\n",
    ")\n",
    "\n",
    "scaler = StandardScaler(\n",
    "    inputCol=\"raw_features\",\n",
    "    outputCol=\"features\",\n",
    "    withMean=True,   # center to mean 0\n",
    "    withStd=True     # scale to unit variance\n",
    ")\n",
    "\n",
    "lr = LogisticRegression(\n",
    "    featuresCol=\"features\",\n",
    "    labelCol=\"westWin\",\n",
    "    predictionCol=\"prediction\",\n",
    "    probabilityCol=\"probability\"\n",
    ")\n",
    "\n",
    "pipeline = Pipeline(stages=[assembler, scaler, lr])"
   ]
  },
  {
   "cell_type": "code",
   "execution_count": 61,
   "id": "82e9574d",
   "metadata": {},
   "outputs": [],
   "source": [
    "paramGrid = (\n",
    "    ParamGridBuilder()\n",
    "    .addGrid(lr.regParam, [0.01, 0.1, 1.0])       # try different strengths\n",
    "    .addGrid(lr.elasticNetParam, [0.0, 0.5, 1.0]) # ridge, elasticnet, lasso\n",
    "    .addGrid(lr.maxIter, [50, 100])               # more iterations\n",
    "    .build()\n",
    ")\n",
    "evaluator = BinaryClassificationEvaluator(\n",
    "    labelCol=\"westWin\",\n",
    "    rawPredictionCol=\"rawPrediction\",\n",
    "    metricName=\"areaUnderROC\"\n",
    ")\n",
    "cv = CrossValidator(\n",
    "    estimator=pipeline,\n",
    "    estimatorParamMaps=paramGrid,\n",
    "    evaluator=evaluator,\n",
    "    numFolds=5,\n",
    "    parallelism=2  # use 2 cores in parallel if available\n",
    ")"
   ]
  },
  {
   "cell_type": "code",
   "execution_count": 62,
   "id": "14ed9844",
   "metadata": {},
   "outputs": [],
   "source": [
    "train, test = main.randomSplit([0.8, 0.2], seed=42)\n",
    "train.cache()\n",
    "test.cache()\n",
    "\n",
    "cv_model = cv.fit(train)\n",
    "\n",
    "# Best model\n",
    "best_model = cv_model.bestModel"
   ]
  },
  {
   "cell_type": "code",
   "execution_count": 33,
   "id": "b2e2dd78",
   "metadata": {},
   "outputs": [
    {
     "name": "stdout",
     "output_type": "stream",
     "text": [
      "Test AUC: 0.7536857979667799\n",
      "Test Accuracy: 0.6845769053493479\n"
     ]
    }
   ],
   "source": [
    "predictions = best_model.transform(test)\n",
    "auc = evaluator.evaluate(predictions)\n",
    "print(\"Test AUC:\", auc)\n",
    "\n",
    "accuracy = predictions.filter(predictions.westWin == predictions.prediction).count() / float(test.count())\n",
    "print(\"Test Accuracy:\", accuracy)"
   ]
  },
  {
   "cell_type": "code",
   "execution_count": 63,
   "id": "d454b08a",
   "metadata": {},
   "outputs": [
    {
     "name": "stdout",
     "output_type": "stream",
     "text": [
      "Test AUC: 0.7533406002397924\n",
      "Test Accuracy: 0.6834110565843342\n"
     ]
    }
   ],
   "source": [
    "predictions = best_model.transform(test)\n",
    "auc = evaluator.evaluate(predictions)\n",
    "print(\"Test AUC:\", auc)\n",
    "accuracy = predictions.filter(predictions.westWin == predictions.prediction).count() / float(test.count())\n",
    "print(\"Test Accuracy:\", accuracy)"
   ]
  },
  {
   "cell_type": "code",
   "execution_count": 65,
   "id": "f64ed7ac",
   "metadata": {},
   "outputs": [
    {
     "name": "stderr",
     "output_type": "stream",
     "text": [
      "C:\\Users\\Ryan Jewik\\AppData\\Local\\Temp\\ipykernel_27156\\1435396052.py:13: FutureWarning: \n",
      "\n",
      "Passing `palette` without assigning `hue` is deprecated and will be removed in v0.14.0. Assign the `y` variable to `hue` and set `legend=False` for the same effect.\n",
      "\n",
      "  sns.barplot(data=coef_df.head(20), x=\"coefficient\", y=\"feature\", palette=\"coolwarm\")\n"
     ]
    },
    {
     "data": {
      "image/png": "[encoded data removed]",
      "text/plain": [
       "<Figure size 1000x800 with 1 Axes>"
      ]
     },
     "metadata": {},
     "output_type": "display_data"
    }
   ],
   "source": [
    "import pandas as pd\n",
    "import seaborn as sns\n",
    "import matplotlib.pyplot as plt\n",
    "\n",
    "best_lr_model = cv_model.bestModel.stages[-1]  # LogisticRegressionModel\n",
    "\n",
    "coef = best_lr_model.coefficients.toArray()\n",
    "coef_df = pd.DataFrame({\"feature\": feature_cols, \"coefficient\": coef})\n",
    "coef_df[\"abs_coeff\"] = coef_df[\"coefficient\"].abs()\n",
    "coef_df = coef_df.sort_values(by=\"abs_coeff\", ascending=False)\n",
    "\n",
    "plt.figure(figsize=(10, 8))\n",
    "sns.barplot(data=coef_df.head(20), x=\"coefficient\", y=\"feature\", palette=\"coolwarm\")\n",
    "plt.axvline(0, color=\"black\", linewidth=0.8)\n",
    "plt.title(\"Top 20 Feature Importances (Logistic Regression w/ StandardScaler)\")\n",
    "plt.show()\n"
   ]
  },
  {
   "cell_type": "markdown",
   "id": "3f5f4600",
   "metadata": {},
   "source": [
    "save and load model"
   ]
  },
  {
   "cell_type": "code",
   "execution_count": 75,
   "id": "172e732f",
   "metadata": {},
   "outputs": [],
   "source": [
    "from datetime import datetime\n",
    "\n",
    "\n",
    "timestamp = datetime.now().strftime(\"%Y%m%d_%H%M%S\")\n",
    "path = f\"s3a://ryans-sumo-bucket/models/sumo_westwin_best_pipeline/logistic_regression/{timestamp}\""
   ]
  },
  {
   "cell_type": "code",
   "execution_count": 77,
   "id": "a055deee",
   "metadata": {},
   "outputs": [],
   "source": [
    "best_pipeline_model = cv_model.bestModel\n",
    "best_pipeline_model.save(path)\n"
   ]
  },
  {
   "cell_type": "code",
   "execution_count": 78,
   "id": "75afa89c",
   "metadata": {},
   "outputs": [],
   "source": [
    "from pyspark.ml import PipelineModel\n",
    "\n",
    "loaded_best_pipeline = PipelineModel.load(path)"
   ]
  },
  {
   "cell_type": "code",
   "execution_count": 79,
   "id": "1eb2297d",
   "metadata": {},
   "outputs": [
    {
     "name": "stdout",
     "output_type": "stream",
     "text": [
      "+-------+----------------------------------------+----------+\n",
      "|westWin|probability                             |prediction|\n",
      "+-------+----------------------------------------+----------+\n",
      "|0      |[0.5931467274037444,0.4068532725962556] |0.0       |\n",
      "|0      |[0.3062816457243944,0.6937183542756056] |1.0       |\n",
      "|0      |[0.7102630090674096,0.2897369909325904] |0.0       |\n",
      "|0      |[0.7141213931516447,0.2858786068483553] |0.0       |\n",
      "|0      |[0.5501504335323276,0.4498495664676724] |0.0       |\n",
      "|0      |[0.8109977938297473,0.18900220617025265]|0.0       |\n",
      "|0      |[0.29194496796515934,0.7080550320348407]|1.0       |\n",
      "|0      |[0.6838772760834023,0.3161227239165977] |0.0       |\n",
      "|0      |[0.8006780426989845,0.19932195730101554]|0.0       |\n",
      "|0      |[0.8520957692490413,0.1479042307509587] |0.0       |\n",
      "+-------+----------------------------------------+----------+\n",
      "only showing top 10 rows\n"
     ]
    }
   ],
   "source": [
    "predictions = loaded_best_pipeline.transform(test)\n",
    "predictions.select(\"westWin\", \"probability\", \"prediction\").show(10, truncate=False)"
   ]
  },
  {
   "cell_type": "code",
   "execution_count": 80,
   "id": "85e5ad0e",
   "metadata": {},
   "outputs": [
    {
     "name": "stdout",
     "output_type": "stream",
     "text": [
      "Quick Accuracy: 0.6834110565843342\n"
     ]
    }
   ],
   "source": [
    "accuracy = predictions.filter(predictions.westWin == predictions.prediction).count() / float(predictions.count())\n",
    "print(\"Quick Accuracy:\", accuracy)\n"
   ]
  },
  {
   "cell_type": "code",
   "execution_count": 26,
   "id": "3ffe3dd2",
   "metadata": {},
   "outputs": [
    {
     "ename": "NameError",
     "evalue": "name 'loaded_best_pipeline' is not defined",
     "output_type": "error",
     "traceback": [
      "\u001b[0;31m---------------------------------------------------------------------------\u001b[0m",
      "\u001b[0;31mNameError\u001b[0m                                 Traceback (most recent call last)",
      "Cell \u001b[0;32mIn[26], line 19\u001b[0m\n\u001b[1;32m     16\u001b[0m new_df \u001b[38;5;241m=\u001b[39m spark\u001b[38;5;241m.\u001b[39mcreateDataFrame([new_match])\n\u001b[1;32m     18\u001b[0m \u001b[38;5;66;03m# Predict\u001b[39;00m\n\u001b[0;32m---> 19\u001b[0m result \u001b[38;5;241m=\u001b[39m \u001b[43mloaded_best_pipeline\u001b[49m\u001b[38;5;241m.\u001b[39mtransform(new_df)\n\u001b[1;32m     20\u001b[0m result\u001b[38;5;241m.\u001b[39mselect(\u001b[38;5;124m\"\u001b[39m\u001b[38;5;124mprobability\u001b[39m\u001b[38;5;124m\"\u001b[39m, \u001b[38;5;124m\"\u001b[39m\u001b[38;5;124mprediction\u001b[39m\u001b[38;5;124m\"\u001b[39m)\u001b[38;5;241m.\u001b[39mshow(truncate\u001b[38;5;241m=\u001b[39m\u001b[38;5;28;01mFalse\u001b[39;00m)\n",
      "\u001b[0;31mNameError\u001b[0m: name 'loaded_best_pipeline' is not defined"
     ]
    }
   ],
   "source": [
    "from pyspark.sql import Row\n",
    "\n",
    "# Example new match (fill in with realistic values)\n",
    "new_match = Row(\n",
    "    west_height=185.0, west_weight=150.0, west_yusho=2, west_makuuchi_yusho=1,\n",
    "    west_makuuchiWins=120, west_Makuuchi_basho=20, west_Gino_sho=0,\n",
    "    west_Kanto_sho=1, west_Shukun_sho=0, east_height=190.0, east_weight=160.0,\n",
    "    east_yusho=1, east_makuuchi_yusho=0, east_makuuchiWins=85,\n",
    "    east_Makuuchi_basho=15, east_Gino_sho=0, east_Kanto_sho=0, east_Shukun_sho=0,\n",
    "    west_order=5, east_order=7, east_years_active=6, west_years_active=8,\n",
    "    rolling_winloss_west=0.62, rolling_winloss_east=0.55,\n",
    "    west_winRate=0.65, east_winRate=0.60,\n",
    "    west_makuuchiWinRate=0.61, east_makuuchiWinRate=0.59\n",
    ")\n",
    "\n",
    "new_df = spark.createDataFrame([new_match])\n",
    "\n",
    "# Predict\n",
    "result = loaded_best_pipeline.transform(new_df)\n",
    "result.select(\"probability\", \"prediction\").show(truncate=False)\n"
   ]
  },
  {
   "cell_type": "code",
   "execution_count": 27,
   "id": "7f25d0c1",
   "metadata": {},
   "outputs": [
    {
     "name": "stdout",
     "output_type": "stream",
     "text": [
      "c:\\Users\\Ryan Jewik\\Desktop\\sumo_app\\venv\\lib\\site-packages\\pyspark\\__init__.py\n"
     ]
    }
   ],
   "source": [
    "import pyspark\n",
    "print(pyspark.__file__)\n"
   ]
  },
  {
   "cell_type": "code",
   "execution_count": 208,
   "id": "d2aa2bfc",
   "metadata": {},
   "outputs": [],
   "source": [
    "from pyspark.ml.feature import VectorAssembler\n",
    "from xgboost.spark import SparkXGBClassifier\n",
    "from pyspark.ml.evaluation import BinaryClassificationEvaluator\n",
    "\n",
    "# Assemble features\n",
    "assembler = VectorAssembler(inputCols=feature_cols, outputCol=\"features\")\n",
    "\n",
    "# Define XGBoost model\n",
    "xgb = SparkXGBClassifier(\n",
    "    features_col=\"features\",\n",
    "    label_col=\"westWin\",\n",
    "    prediction_col=\"prediction\",\n",
    "    probability_col=\"probability\",\n",
    "    eval_metric=\"auc\",\n",
    "    max_depth=6,\n",
    "    eta=0.1,\n",
    "    subsample=0.8,\n",
    "    colsample_bytree=0.8,\n",
    "    num_workers=8,\n",
    "    missing = -999.0\n",
    ")\n",
    "\n",
    "# Build pipeline\n",
    "pipeline = Pipeline(stages=[assembler, xgb])\n"
   ]
  },
  {
   "cell_type": "code",
   "execution_count": null,
   "id": "7ae29dfa",
   "metadata": {
    "scrolled": true
   },
   "outputs": [
    {
     "name": "stderr",
     "output_type": "stream",
     "text": [
      "2025-09-30 17:25:37,981 INFO XGBoost-PySpark: predict_udf Do the inference on the CPUs\n",
      "[Stage 7613:>(6 + 8) / 14][Stage 7614:>(0 + 8) / 14][Stage 7615:(0 + 0) / 200]] ]"
     ]
    }
   ],
   "source": [
    "paramGrid = (\n",
    "    ParamGridBuilder()\n",
    "      .addGrid(xgb.max_depth, [4, 6, 8])\n",
    "      .addGrid(xgb.learning_rate, [0.05, 0.1, 0.2])\n",
    "      .addGrid(xgb.subsample, [0.8, 1.0])\n",
    "      .addGrid(xgb.colsample_bytree, [0.8, 1.0])\n",
    "      .build()\n",
    ")\n",
    "\n",
    "evaluator = BinaryClassificationEvaluator(\n",
    "    labelCol=\"westWin\",\n",
    "    rawPredictionCol=\"rawPrediction\",\n",
    "    metricName=\"areaUnderROC\"\n",
    ")\n",
    "\n",
    "cv = CrossValidator(\n",
    "    estimator=pipeline,\n",
    "    estimatorParamMaps=paramGrid,\n",
    "    evaluator=evaluator,\n",
    "    numFolds=3,      # consider 3 folds locally; XGB can be heavy\n",
    "    parallelism=2\n",
    ")\n",
    "\n",
    "train, test = main.randomSplit([0.8, 0.2], seed=42)\n",
    "cv_model = cv.fit(train)\n",
    "preds = cv_model.transform(test)\n",
    "\n",
    "\n"
   ]
  },
  {
   "cell_type": "code",
   "execution_count": null,
   "id": "13fb998b-872c-4f54-8671-3493e5059a6b",
   "metadata": {},
   "outputs": [],
   "source": [
    "print(\"AUC:\", evaluator.evaluate(preds))\n",
    "acc = preds.filter(preds.westWin == preds.prediction).count() / float(preds.count())\n",
    "print(\"Accuracy:\", acc)"
   ]
  },
  {
   "cell_type": "code",
   "execution_count": null,
   "id": "3a1a3373-6466-4588-a49a-2b73e3b22a50",
   "metadata": {},
   "outputs": [],
   "source": [
    "from pyspark.sql import functions as F\n",
    "\n",
    "PRED_DF = preds  # <- replace with your DF that has ground truth + predictions\n",
    "LABEL_COL = \"westWin\"        # ground-truth: 1 = west won, 0 = east won\n",
    "PRED_COL  = \"prediction\"     # model prediction in {0,1}\n",
    "\n",
    "# Confusion matrix table (pivoted)\n",
    "cm = (\n",
    "    PRED_DF\n",
    "    .select(F.col(LABEL_COL).cast(\"int\").alias(\"y\"),\n",
    "            F.col(PRED_COL).cast(\"int\").alias(\"yhat\"))\n",
    "    .groupBy(\"y\",\"yhat\").count()\n",
    "    .groupBy(\"y\")\n",
    "    .pivot(\"yhat\", [0,1])  # columns: pred=0, pred=1\n",
    "    .sum(\"count\")\n",
    "    .na.fill(0)\n",
    "    .orderBy(\"y\")\n",
    ")\n",
    "# cm schema: y, 0, 1  (rows: actual 0 then 1; cols: pred 0, pred 1)\n",
    "\n",
    "# Pull named cells: TN, FP, FN, TP\n",
    "cells = (\n",
    "    PRED_DF.select(\n",
    "        F.sum(F.when((F.col(LABEL_COL)==0) & (F.col(PRED_COL)==0), 1).otherwise(0)).alias(\"TN\"),\n",
    "        F.sum(F.when((F.col(LABEL_COL)==0) & (F.col(PRED_COL)==1), 1).otherwise(0)).alias(\"FP\"),\n",
    "        F.sum(F.when((F.col(LABEL_COL)==1) & (F.col(PRED_COL)==0), 1).otherwise(0)).alias(\"FN\"),\n",
    "        F.sum(F.when((F.col(LABEL_COL)==1) & (F.col(PRED_COL)==1), 1).otherwise(0)).alias(\"TP\"),\n",
    "    )\n",
    ")\n",
    "\n",
    "metrics = (\n",
    "    cells.select(\n",
    "        \"TP\",\"FP\",\"FN\",\"TN\",\n",
    "        ((F.col(\"TP\")+F.col(\"TN\")) / (F.col(\"TP\")+F.col(\"TN\")+F.col(\"FP\")+F.col(\"FN\"))).alias(\"accuracy\"),\n",
    "        (F.col(\"TP\") / F.when((F.col(\"TP\")+F.col(\"FP\"))>0, F.col(\"TP\")+F.col(\"FP\")).otherwise(None)).alias(\"precision_pos\"),\n",
    "        (F.col(\"TP\") / F.when((F.col(\"TP\")+F.col(\"FN\"))>0, F.col(\"TP\")+F.col(\"FN\")).otherwise(None)).alias(\"recall_pos\"),\n",
    "        (F.col(\"TN\") / F.when((F.col(\"TN\")+F.col(\"FP\"))>0, F.col(\"TN\")+F.col(\"FP\")).otherwise(None)).alias(\"specificity\"),\n",
    "        (2*F.col(\"TP\") / F.when((2*F.col(\"TP\")+F.col(\"FP\")+F.col(\"FN\"))>0, 2*F.col(\"TP\")+F.col(\"FP\")+F.col(\"FN\")).otherwise(None)).alias(\"f1_pos\"),\n",
    "    )\n",
    ")\n",
    "\n",
    "# Show\n",
    "cm.show(truncate=False)\n",
    "metrics.show(truncate=False)\n"
   ]
  },
  {
   "cell_type": "code",
   "execution_count": null,
   "id": "b711b7e5",
   "metadata": {},
   "outputs": [],
   "source": [
    "best_xgb = cv_model.bestModel.stages[-1]  # SparkXGBClassifierModel\n",
    "\n",
    "# Print all params as a dict\n",
    "#print(best_xgb.extractParamMap())\n",
    "\n",
    "# Get the underlying XGBoost booster object\n",
    "booster = best_xgb.get_booster()\n",
    "booster.feature_names = feature_cols  # your input features\n",
    "imp = booster.get_score(importance_type=\"gain\")\n",
    "\n",
    "imp_df = (\n",
    "    pd.DataFrame(list(imp.items()), columns=[\"feature\", \"importance\"])\n",
    "      .sort_values(\"importance\", ascending=False)\n",
    ")\n",
    "\n",
    "plt.figure(figsize=(10,6))\n",
    "plt.barh(imp_df[\"feature\"], imp_df[\"importance\"])\n",
    "plt.gca().invert_yaxis()\n",
    "plt.xlabel(\"Importance (gain)\")\n",
    "plt.title(\"XGBoost Feature Importance\")\n",
    "plt.show()"
   ]
  },
  {
   "cell_type": "code",
   "execution_count": null,
   "id": "4859cd57",
   "metadata": {},
   "outputs": [],
   "source": [
    "spark.stop()"
   ]
  },
  {
   "cell_type": "code",
   "execution_count": null,
   "id": "d9586dab",
   "metadata": {},
   "outputs": [],
   "source": [
    "from datetime import datetime\n",
    "\n",
    "\n",
    "timestamp = datetime.now().strftime(\"%Y%m%d_%H%M%S\")\n",
    "path = f\"s3a://ryans-sumo-bucket/models/sumo_westwin_best_pipeline/xgboost_tree/{timestamp}\""
   ]
  },
  {
   "cell_type": "code",
   "execution_count": null,
   "id": "56094193-36c7-4e0e-9004-407eea04f890",
   "metadata": {},
   "outputs": [],
   "source": [
    "best_pipeline_model = best_xgb\n",
    "best_pipeline_model.save(path)\n"
   ]
  },
  {
   "cell_type": "code",
   "execution_count": null,
   "id": "20f57b76-02df-4689-9c9b-97bb70e0be37",
   "metadata": {},
   "outputs": [],
   "source": [
    "from pyspark.ml import PipelineModel\n",
    "\n",
    "loaded_best_pipeline = PipelineModel.load(path)"
   ]
  },
  {
   "cell_type": "code",
   "execution_count": null,
   "id": "221213a9-dcc0-4d64-8e1e-b4e3b488ca8b",
   "metadata": {},
   "outputs": [],
   "source": []
  }
 ],
 "metadata": {
  "kernelspec": {
   "display_name": "Python 3 (ipykernel)",
   "language": "python",
   "name": "python3"
  },
  "language_info": {
   "codemirror_mode": {
    "name": "ipython",
    "version": 3
   },
   "file_extension": ".py",
   "mimetype": "text/x-python",
   "name": "python",
   "nbconvert_exporter": "python",
   "pygments_lexer": "ipython3",
   "version": "3.10.12"
  }
 },
 "nbformat": 4,
 "nbformat_minor": 5
}
