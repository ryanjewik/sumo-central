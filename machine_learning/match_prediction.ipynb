{
 "cells": [
  {
   "cell_type": "code",
   "execution_count": 59,
   "id": "4de30427",
   "metadata": {},
   "outputs": [],
   "source": [
    "from pyspark.sql import SparkSession, functions as F, Window\n",
    "from pyspark.sql.functions import to_date, col, explode\n",
    "from pyspark.sql.types import *\n",
    "from pyspark.sql.functions import collect_list"
   ]
  },
  {
   "cell_type": "code",
   "execution_count": null,
   "id": "a0b2898a",
   "metadata": {},
   "outputs": [],
   "source": [
    "import os, pathlib, shutil\n",
    "os.environ[\"HADOOP_HOME\"] = r\"C:\\hadoop\"\n",
    "os.environ[\"PATH\"]       = r\"C:\\hadoop\\bin;\" + os.environ[\"PATH\"]\n",
    "os.environ[\"AWS_PROFILE\"] = \"ryanj\"\n",
    "os.environ[\"AWS_REGION\"]  = \"us-west-2\"\n",
    "os.environ[\"HADOOP_HOME\"] = r\"C:\\hadoop\"\n",
    "os.environ[\"PATH\"] = rf'{os.environ[\"HADOOP_HOME\"]}\\bin;' + os.environ[\"PATH\"]\n",
    "os.environ[\"AWS_ACCESS_KEY_ID\"] = \"\"\n",
    "os.environ[\"AWS_SECRET_ACCESS_KEY\"] = \"\"\n",
    "os.environ[\"PYSPARK_SUBMIT_ARGS\"] = (\n",
    "    \"--packages org.apache.hadoop:hadoop-aws:3.3.6 \"\n",
    "    \"--conf spark.hadoop.fs.s3a.impl=org.apache.hadoop.fs.s3a.S3AFileSystem \"\n",
    "    \"--conf spark.hadoop.fs.s3a.aws.region=us-west-2 \"\n",
    "    \"--conf spark.hadoop.fs.s3a.aws.credentials.provider=com.amazonaws.auth.DefaultAWSCredentialsProviderChain \"\n",
    "    \"--conf spark.hadoop.io.native.lib.available=false \"\n",
    "    \"--conf spark.hadoop.fs.s3a.fast.upload=true \"\n",
    "    \"--conf spark.hadoop.fs.s3a.fast.upload.buffer=bytebuffer \"\n",
    "    \"pyspark-shell\"\n",
    ")"
   ]
  },
  {
   "cell_type": "code",
   "execution_count": 3,
   "id": "cca6ff7e",
   "metadata": {
    "scrolled": false
   },
   "outputs": [
    {
     "name": "stderr",
     "output_type": "stream",
     "text": [
      "C:\\Users\\Ryan Jewik\\AppData\\Roaming\\Python\\Python39\\site-packages\\pandas\\core\\computation\\expressions.py:21: UserWarning: Pandas requires version '2.8.4' or newer of 'numexpr' (version '2.8.3' currently installed).\n",
      "  from pandas.core.computation.check import NUMEXPR_INSTALLED\n",
      "C:\\Users\\Ryan Jewik\\AppData\\Roaming\\Python\\Python39\\site-packages\\pandas\\core\\arrays\\masked.py:60: UserWarning: Pandas requires version '1.3.6' or newer of 'bottleneck' (version '1.3.5' currently installed).\n",
      "  from pandas.core import (\n"
     ]
    }
   ],
   "source": [
    "spark = (SparkSession.builder\n",
    "         .appName(\"sumo-s3a\")\n",
    "         # make sure S3A is wired up; you can keep these if they helped earlier\n",
    "         .config(\"spark.hadoop.fs.s3a.impl\", \"org.apache.hadoop.fs.s3a.S3AFileSystem\")\n",
    "         .config(\"spark.hadoop.fs.s3a.aws.credentials.provider\", \"com.amazonaws.auth.profile.ProfileCredentialsProvider\")\n",
    "         .config(\"spark.hadoop.fs.s3a.aws.region\", \"us-west-2\")\n",
    "         .getOrCreate())"
   ]
  },
  {
   "cell_type": "code",
   "execution_count": 4,
   "id": "334da550",
   "metadata": {},
   "outputs": [
    {
     "name": "stdout",
     "output_type": "stream",
     "text": [
      "S3A impl: org.apache.hadoop.fs.s3a.S3AFileSystem\n"
     ]
    }
   ],
   "source": [
    "hc = spark.sparkContext._jsc.hadoopConfiguration()\n",
    "print(\"S3A impl:\", hc.get(\"fs.s3a.impl\")) "
   ]
  },
  {
   "cell_type": "code",
   "execution_count": 5,
   "id": "85b39845",
   "metadata": {},
   "outputs": [],
   "source": [
    "# make a writable local temp dir\n",
    "spark_local = r\"C:\\tmp\\spark\"\n",
    "pathlib.Path(spark_local).mkdir(parents=True, exist_ok=True)"
   ]
  },
  {
   "cell_type": "code",
   "execution_count": 6,
   "id": "cdc35f23",
   "metadata": {},
   "outputs": [
    {
     "name": "stdout",
     "output_type": "stream",
     "text": [
      "Spark: 4.0.1\n",
      "Hadoop: 3.4.1\n"
     ]
    }
   ],
   "source": [
    "print(\"Spark:\", spark.version)\n",
    "print(\"Hadoop:\", spark.sparkContext._jvm.org.apache.hadoop.util.VersionInfo.getVersion())"
   ]
  },
  {
   "cell_type": "code",
   "execution_count": 7,
   "id": "29b07e50",
   "metadata": {},
   "outputs": [],
   "source": [
    "spark.conf.set(\"spark.hadoop.fs.s3a.connection.establish.timeout\", \"30000\")   # 30s\n",
    "spark.conf.set(\"spark.hadoop.fs.s3a.threads.keepalivetime\",        \"60000\")   # 60s\n",
    "spark.conf.set(\"spark.hadoop.fs.s3a.connection.ttl\",              \"300000\")   # 5m\n",
    "spark.conf.set(\"spark.hadoop.fs.s3a.retry.interval\",                 \"500\")   # 500ms\n",
    "spark.conf.set(\"spark.hadoop.fs.s3a.retry.throttle.interval\",        \"100\")   # 100ms"
   ]
  },
  {
   "cell_type": "code",
   "execution_count": 8,
   "id": "ea81d742",
   "metadata": {},
   "outputs": [
    {
     "name": "stdout",
     "output_type": "stream",
     "text": [
      "keepalive: 60000\n"
     ]
    }
   ],
   "source": [
    "# convert human-friendly durations to plain integers (milliseconds)\n",
    "hconf = spark.sparkContext._jsc.hadoopConfiguration()\n",
    "\n",
    "fixes = {\n",
    "    \"fs.s3a.connection.establish.timeout\": \"30000\",    # 30s\n",
    "    \"fs.s3a.threads.keepalivetime\": \"60000\",           # 60s\n",
    "    \"fs.s3a.retry.interval\": \"500\",                    # 500ms\n",
    "    \"fs.s3a.retry.throttle.interval\": \"100\",           # 100ms\n",
    "    \"fs.s3a.connection.ttl\": \"300000\",                 # 5m\n",
    "    \"fs.s3a.assumed.role.session.duration\": \"1800000\"  # 30m\n",
    "}\n",
    "for k, v in fixes.items():\n",
    "    hconf.set(k, v)\n",
    "\n",
    "# (optional) double-check one\n",
    "print(\"keepalive:\", hconf.get(\"fs.s3a.threads.keepalivetime\"))\n"
   ]
  },
  {
   "cell_type": "code",
   "execution_count": 9,
   "id": "5136993d",
   "metadata": {},
   "outputs": [
    {
     "name": "stdout",
     "output_type": "stream",
     "text": [
      "Offenders before fix:\n",
      "  fs.s3a.vectored.read.max.merged.size = 2M\n",
      "  yarn.router.subcluster.cleaner.interval.time = 60s\n",
      "  yarn.resourcemanager.delegation.token.remove-scan-interval = 1h\n",
      "  yarn.router.interceptor.user-thread-pool.keep-alive-time = 30s\n",
      "  fs.s3a.multipart.purge.age = 24h\n",
      "  yarn.federation.state-store.heartbeat.initial-delay = 30s\n",
      "  hadoop.security.groups.shell.command.timeout = 0s\n",
      "  hadoop.service.shutdown.timeout = 30s\n",
      "  yarn.federation.state-store.clean-up-retry-sleep-time = 1s\n",
      "  fs.s3a.multipart.threshold = 128M\n",
      "  yarn.router.subcluster.heartbeat.expiration.time = 30m\n",
      "  yarn.resourcemanager.delegation-token-renewer.thread-retry-interval = 60s\n",
      "  fs.s3a.block.size = 32M\n",
      "  yarn.router.submit.interval.time = 10ms\n",
      "  yarn.federation.gpg.webapp.connect-timeout = 30s\n",
      "  yarn.federation.state-store.sql.max-life-time = 30m\n",
      "  fs.s3a.multipart.size = 64M\n",
      "  yarn.federation.state-store.sql.conn-time-out = 10s\n",
      "  fs.azure.sas.expiry.period = 90d\n",
      "  yarn.resourcemanager.delegation-token-renewer.thread-timeout = 60s\n",
      "  yarn.dispatcher.print-thread-pool.keep-alive-time = 10s\n",
      "  yarn.federation.gpg.webapp.read-timeout = 30s\n",
      "  yarn.apps.cache.expire = 30s\n",
      "  yarn.federation.amrmproxy.register.uam.interval = 100ms\n",
      "  fs.s3a.connection.timeout = 200s\n",
      "  yarn.federation.state-store.sql.idle-time-out = 10m\n",
      "  yarn.federation.gpg.policy.generator.interval = 1h\n",
      "  yarn.federation.gpg.subcluster.heartbeat.expiration-ms = 30m\n",
      "\n",
      "Normalized to milliseconds:\n",
      "  fs.s3a.vectored.read.max.merged.size: 2M -> 120000\n",
      "  yarn.router.subcluster.cleaner.interval.time: 60s -> 60000\n",
      "  yarn.resourcemanager.delegation.token.remove-scan-interval: 1h -> 3600000\n",
      "  yarn.router.interceptor.user-thread-pool.keep-alive-time: 30s -> 30000\n",
      "  fs.s3a.multipart.purge.age: 24h -> 86400000\n",
      "  yarn.federation.state-store.heartbeat.initial-delay: 30s -> 30000\n",
      "  hadoop.security.groups.shell.command.timeout: 0s -> 0\n",
      "  hadoop.service.shutdown.timeout: 30s -> 30000\n",
      "  yarn.federation.state-store.clean-up-retry-sleep-time: 1s -> 1000\n",
      "  fs.s3a.multipart.threshold: 128M -> 7680000\n",
      "  yarn.router.subcluster.heartbeat.expiration.time: 30m -> 1800000\n",
      "  yarn.resourcemanager.delegation-token-renewer.thread-retry-interval: 60s -> 60000\n",
      "  fs.s3a.block.size: 32M -> 1920000\n",
      "  yarn.router.submit.interval.time: 10ms -> 10\n",
      "  yarn.federation.gpg.webapp.connect-timeout: 30s -> 30000\n",
      "  yarn.federation.state-store.sql.max-life-time: 30m -> 1800000\n",
      "  fs.s3a.multipart.size: 64M -> 3840000\n",
      "  yarn.federation.state-store.sql.conn-time-out: 10s -> 10000\n",
      "  fs.azure.sas.expiry.period: 90d -> 7776000000\n",
      "  yarn.resourcemanager.delegation-token-renewer.thread-timeout: 60s -> 60000\n",
      "  yarn.dispatcher.print-thread-pool.keep-alive-time: 10s -> 10000\n",
      "  yarn.federation.gpg.webapp.read-timeout: 30s -> 30000\n",
      "  yarn.apps.cache.expire: 30s -> 30000\n",
      "  yarn.federation.amrmproxy.register.uam.interval: 100ms -> 100\n",
      "  fs.s3a.connection.timeout: 200s -> 200000\n",
      "  yarn.federation.state-store.sql.idle-time-out: 10m -> 600000\n",
      "  yarn.federation.gpg.policy.generator.interval: 1h -> 3600000\n",
      "  yarn.federation.gpg.subcluster.heartbeat.expiration-ms: 30m -> 1800000\n",
      "\n",
      "Remaining with units (should be empty): []\n"
     ]
    }
   ],
   "source": [
    "import re\n",
    "\n",
    "hconf = spark.sparkContext._jsc.hadoopConfiguration()\n",
    "\n",
    "# report any time-looking values with units\n",
    "offenders = []\n",
    "it = hconf.iterator()\n",
    "pairs = []\n",
    "while it.hasNext():\n",
    "    e = it.next()\n",
    "    pairs.append((e.getKey(), e.getValue()))\n",
    "\n",
    "r_time = re.compile(r\"^\\s*\\d+\\s*(ms|s|m|h|d)\\s*$\", re.I)\n",
    "\n",
    "for k, v in pairs:\n",
    "    if r_time.match(str(v)):\n",
    "        offenders.append((k, v))\n",
    "\n",
    "print(\"Offenders before fix:\")\n",
    "for k, v in offenders:\n",
    "    print(f\"  {k} = {v}\")\n",
    "\n",
    "# convert unit-suffixed durations to milliseconds\n",
    "UNIT_MS = {\"ms\":1, \"s\":1000, \"m\":60_000, \"h\":3_600_000, \"d\":86_400_000}\n",
    "\n",
    "def to_ms_str(val):\n",
    "    m = re.fullmatch(r\"\\s*(\\d+)\\s*(ms|s|m|h|d)\\s*\", str(val).lower())\n",
    "    if not m: \n",
    "        return None\n",
    "    n = int(m.group(1)); u = m.group(2)\n",
    "    return str(n * UNIT_MS[u])\n",
    "\n",
    "changed = []\n",
    "for k, v in pairs:\n",
    "    ms = to_ms_str(v)\n",
    "    if ms and ms != v:\n",
    "        hconf.set(k, ms)\n",
    "        changed.append((k, v, ms))\n",
    "\n",
    "print(\"\\nNormalized to milliseconds:\")\n",
    "for k, old, new in changed:\n",
    "    print(f\"  {k}: {old} -> {new}\")\n",
    "\n",
    "# show any stragglers still using units\n",
    "left = []\n",
    "it = hconf.iterator()\n",
    "while it.hasNext():\n",
    "    e = it.next()\n",
    "    if r_time.match(str(e.getValue())):\n",
    "        left.append((e.getKey(), e.getValue()))\n",
    "print(\"\\nRemaining with units (should be empty):\", left)\n"
   ]
  },
  {
   "cell_type": "code",
   "execution_count": 10,
   "id": "35fba13b",
   "metadata": {},
   "outputs": [],
   "source": [
    "spark.conf.set(\"spark.sql.files.ignoreCorruptFiles\", \"true\")  # avoids choking on stray files"
   ]
  },
  {
   "cell_type": "markdown",
   "id": "3ae3a4fc",
   "metadata": {},
   "source": [
    "# bronze reads and silver writes"
   ]
  },
  {
   "cell_type": "code",
   "execution_count": 10,
   "id": "215e87da",
   "metadata": {
    "scrolled": false
   },
   "outputs": [],
   "source": [
    "\n",
    "\n",
    "df = (spark.read\n",
    "      .option(\"multiLine\", \"true\")                # set to \"false\" if you have JSON Lines\n",
    "      .option(\"mode\", \"PERMISSIVE\")               # or \"FAILFAST\"\n",
    "      .option(\"recursiveFileLookup\", \"true\")\n",
    "      .option(\"pathGlobFilter\", \"*.json\")         # only JSON files\n",
    "      .json(\"s3a://ryans-sumo-bucket/sumo-api-calls/rikishi_matches/\"))\n"
   ]
  },
  {
   "cell_type": "code",
   "execution_count": 11,
   "id": "d25aa43d",
   "metadata": {
    "collapsed": true
   },
   "outputs": [
    {
     "name": "stdout",
     "output_type": "stream",
     "text": [
      "root\n",
      " |-- limit: long (nullable = true)\n",
      " |-- records: array (nullable = true)\n",
      " |    |-- element: struct (containsNull = true)\n",
      " |    |    |-- bashoId: string (nullable = true)\n",
      " |    |    |-- day: long (nullable = true)\n",
      " |    |    |-- division: string (nullable = true)\n",
      " |    |    |-- eastId: long (nullable = true)\n",
      " |    |    |-- eastRank: string (nullable = true)\n",
      " |    |    |-- eastShikona: string (nullable = true)\n",
      " |    |    |-- kimarite: string (nullable = true)\n",
      " |    |    |-- matchNo: long (nullable = true)\n",
      " |    |    |-- westId: long (nullable = true)\n",
      " |    |    |-- westRank: string (nullable = true)\n",
      " |    |    |-- westShikona: string (nullable = true)\n",
      " |    |    |-- winnerEn: string (nullable = true)\n",
      " |    |    |-- winnerId: long (nullable = true)\n",
      " |    |    |-- winnerJp: string (nullable = true)\n",
      " |-- skip: long (nullable = true)\n",
      " |-- total: long (nullable = true)\n",
      "\n",
      "+-------+---+--------+------+------------------+-----------+-----------+-------+------+------------------+-----------+-----------+--------+--------+\n",
      "|bashoId|day|division|eastId|eastRank          |eastShikona|kimarite   |matchNo|westId|westRank          |westShikona|winnerEn   |winnerId|winnerJp|\n",
      "+-------+---+--------+------+------------------+-----------+-----------+-------+------+------------------+-----------+-----------+--------+--------+\n",
      "|201507 |15 |Makuuchi|43    |Maegashira 1 East |Tochinoshin|yorikiri   |13     |3835  |Maegashira 11 West|Kyokutenho |Tochinoshin|43      |        |\n",
      "|201507 |14 |Makuuchi|3247  |Maegashira 4 East |Aminishiki |yorikiri   |9      |3835  |Maegashira 11 West|Kyokutenho |Aminishiki |3247    |        |\n",
      "|201507 |13 |Makuuchi|3835  |Maegashira 11 West|Kyokutenho |yorikiri   |7      |3222  |Maegashira 6 West |Gagamaru   |Gagamaru   |3222    |        |\n",
      "|201507 |12 |Makuuchi|3399  |Maegashira 9 East |Sadanofuji |yorikiri   |4      |3835  |Maegashira 11 West|Kyokutenho |Sadanofuji |3399    |        |\n",
      "|201507 |11 |Makuuchi|3255  |Maegashira 16 East|Takanoiwa  |yorikiri   |4      |3835  |Maegashira 11 West|Kyokutenho |Takanoiwa  |3255    |        |\n",
      "|201507 |10 |Makuuchi|3352  |Maegashira 10 East|Kitataiki  |yorikiri   |5      |3835  |Maegashira 11 West|Kyokutenho |Kyokutenho |3835    |        |\n",
      "|201507 |9  |Makuuchi|3835  |Maegashira 11 West|Kyokutenho |yorikiri   |8      |3204  |Maegashira 7 West |Toyonoshima|Toyonoshima|3204    |        |\n",
      "|201507 |8  |Makuuchi|60    |Maegashira 13 East|Hidenoumi  |uwatenage  |4      |3835  |Maegashira 11 West|Kyokutenho |Kyokutenho |3835    |        |\n",
      "|201507 |7  |Makuuchi|3272  |Maegashira 15 West|Satoyama   |yorikiri   |5      |3835  |Maegashira 11 West|Kyokutenho |Satoyama   |3272    |        |\n",
      "|201507 |6  |Makuuchi|3221  |Maegashira 15 East|Seiro      |yorikiri   |6      |3835  |Maegashira 11 West|Kyokutenho |Seiro      |3221    |        |\n",
      "|201507 |5  |Makuuchi|3140  |Maegashira 14 East|Toyohibiki |sukuinage  |5      |3835  |Maegashira 11 West|Kyokutenho |Kyokutenho |3835    |        |\n",
      "|201507 |4  |Makuuchi|637   |Maegashira 13 West|Chiyotairyu|yorikiri   |6      |3835  |Maegashira 11 West|Kyokutenho |Chiyotairyu|637     |        |\n",
      "|201507 |3  |Makuuchi|4126  |Maegashira 11 East|Tokitenku  |yorikiri   |6      |3835  |Maegashira 11 West|Kyokutenho |Tokitenku  |4126    |        |\n",
      "|201507 |2  |Makuuchi|3158  |Maegashira 12 West|Kotoyuki   |oshidashi  |5      |3835  |Maegashira 11 West|Kyokutenho |Kotoyuki   |3158    |        |\n",
      "|201507 |1  |Makuuchi|17    |Maegashira 12 East|Endo       |yorikiri   |5      |3835  |Maegashira 11 West|Kyokutenho |Endo       |17      |        |\n",
      "|201505 |15 |Makuuchi|3835  |Maegashira 14 West|Kyokutenho |yorikiri   |4      |17    |Maegashira 9 West |Endo       |Endo       |17      |        |\n",
      "|201505 |14 |Makuuchi|3835  |Maegashira 14 West|Kyokutenho |katasukashi|6      |3399  |Maegashira 7 West |Sadanofuji |Kyokutenho |3835    |        |\n",
      "|201505 |13 |Makuuchi|3222  |Maegashira 6 East |Gagamaru   |katasukashi|8      |3835  |Maegashira 14 West|Kyokutenho |Kyokutenho |3835    |        |\n",
      "|201505 |12 |Makuuchi|3248  |Maegashira 14 East|Yoshikaze  |tsukiotoshi|1      |3835  |Maegashira 14 West|Kyokutenho |Yoshikaze  |3248    |        |\n",
      "|201505 |11 |Makuuchi|3246  |Maegashira 12 East|Arawashi   |yorikiri   |2      |3835  |Maegashira 14 West|Kyokutenho |Kyokutenho |3835    |        |\n",
      "+-------+---+--------+------+------------------+-----------+-----------+-------+------+------------------+-----------+-----------+--------+--------+\n",
      "only showing top 20 rows\n",
      "root\n",
      " |-- bashoId: string (nullable = true)\n",
      " |-- day: long (nullable = true)\n",
      " |-- division: string (nullable = true)\n",
      " |-- eastId: long (nullable = true)\n",
      " |-- eastRank: string (nullable = true)\n",
      " |-- eastShikona: string (nullable = true)\n",
      " |-- kimarite: string (nullable = true)\n",
      " |-- matchNo: long (nullable = true)\n",
      " |-- westId: long (nullable = true)\n",
      " |-- westRank: string (nullable = true)\n",
      " |-- westShikona: string (nullable = true)\n",
      " |-- winnerEn: string (nullable = true)\n",
      " |-- winnerId: long (nullable = true)\n",
      " |-- winnerJp: string (nullable = true)\n",
      "\n"
     ]
    }
   ],
   "source": [
    "\n",
    "# After your JSON read\n",
    "df.printSchema()\n",
    "# You'll likely see: root\n",
    "#  |-- 0: array (nullable = true)\n",
    "#  |    |-- element: struct (contains your fields)\n",
    "\n",
    "rows = df.select(explode(col(\"records\")).alias(\"match\"))\n",
    "flat = rows.select(\"match.*\")   # expand struct into columns\n",
    "flat.show(20, truncate=False)\n",
    "flat.printSchema()"
   ]
  },
  {
   "cell_type": "markdown",
   "id": "19bfe81e",
   "metadata": {},
   "source": [
    "convert to parquet"
   ]
  },
  {
   "cell_type": "code",
   "execution_count": 12,
   "id": "4d7d0086",
   "metadata": {},
   "outputs": [],
   "source": [
    "silver = (flat\n",
    "          .dropDuplicates())          # typical dedupe key"
   ]
  },
  {
   "cell_type": "code",
   "execution_count": 13,
   "id": "13a8886a",
   "metadata": {},
   "outputs": [],
   "source": [
    "silver = (silver\n",
    "         .withColumn(\"year\", F.col(\"bashoId\").cast(\"string\").substr(1,4))\n",
    "          .withColumn(\"month\", F.col(\"bashoId\").cast(\"string\").substr(5,2))\n",
    "          .withColumn(\"match_date\",\n",
    "                     F.to_date(\n",
    "                         F.concat_ws(\"-\", F.col(\"year\"), F.col(\"month\"), F.lpad(F.col(\"day\"), 2, \"0\")),\n",
    "                             \"yyyy-MM-dd\"\n",
    "                         )\n",
    "                     )\n",
    "          .withColumn(\n",
    "              \"match_id\",\n",
    "              F.concat_ws(\"\", F.date_format(F.col(\"match_date\"), \"yyyyMMdd\"), F.col(\"matchNo\").cast(\"string\")).cast(\"long\")\n",
    "          )\n",
    "          .drop(\"year\", \"month\")\n",
    "         )"
   ]
  },
  {
   "cell_type": "code",
   "execution_count": 14,
   "id": "8fc4331d",
   "metadata": {
    "collapsed": true
   },
   "outputs": [
    {
     "name": "stdout",
     "output_type": "stream",
     "text": [
      "+-------+---+--------+------+------------------+-----------+-----------+-------+------+------------------+-----------+-----------+--------+--------+----------+----------+\n",
      "|bashoId|day|division|eastId|          eastRank|eastShikona|   kimarite|matchNo|westId|          westRank|westShikona|   winnerEn|winnerId|winnerJp|match_date|  match_id|\n",
      "+-------+---+--------+------+------------------+-----------+-----------+-------+------+------------------+-----------+-----------+--------+--------+----------+----------+\n",
      "| 201501|  1|Makuuchi|  3835| Maegashira 7 East| Kyokutenho|   yorikiri|     10|   670| Maegashira 7 West| Chiyootori| Kyokutenho|    3835|        |2015-01-01|2015010110|\n",
      "| 201407| 15|Makuuchi|  3835|Maegashira 12 East| Kyokutenho|   yorikiri|      2|  4126|Maegashira 15 West|  Tokitenku|  Tokitenku|    4126|        |2014-07-15| 201407152|\n",
      "| 201309| 10|Makuuchi|  4177|Maegashira 13 West|    Homasho|   yorikiri|     10|  3835| Maegashira 6 West| Kyokutenho|    Homasho|    4177|        |2013-09-10|2013091010|\n",
      "| 201211|  2|Makuuchi|  3835| Maegashira 6 East| Kyokutenho|   yorikiri|     10|  3222| Maegashira 7 East|   Gagamaru| Kyokutenho|    3835|        |2012-11-02|2012110210|\n",
      "| 201005| 10|Makuuchi|  3352| Maegashira 4 East|  Kitataiki|  oshidashi|     10|  3835| Maegashira 7 West| Kyokutenho|  Kitataiki|    3352|        |2010-05-10|2010051010|\n",
      "| 200907| 10|Makuuchi|  3835|   Komusubi 1 East| Kyokutenho|  uwatenage|     15|  3195| Maegashira 2 East|  Tochiozan| Kyokutenho|    3835|        |2009-07-10|2009071015|\n",
      "| 200709|  1|Makuuchi|  3648|Maegashira 13 East|       Ryuo|   yorikiri|      5|  3835|Maegashira 12 West| Kyokutenho| Kyokutenho|    3835|        |2007-09-01| 200709015|\n",
      "| 200611|  1|Makuuchi|  3835| Maegashira 6 East| Kyokutenho|shitatenage|     11|  3847| Maegashira 5 West|Tochinonada|Tochinonada|    3847|        |2006-11-01|2006110111|\n",
      "| 200609| 14|Makuuchi|  3835| Maegashira 4 West| Kyokutenho|katasukashi|     15|  4126| Maegashira 2 West|  Tokitenku|  Tokitenku|    4126|        |2006-09-14|2006091415|\n",
      "| 200411| 10|Makuuchi|  3851|   Sekiwake 1 East| Wakanosato|   yorikiri|     16|  3835| Maegashira 3 West| Kyokutenho| Wakanosato|    3851|        |2004-11-10|2004111016|\n",
      "+-------+---+--------+------+------------------+-----------+-----------+-------+------+------------------+-----------+-----------+--------+--------+----------+----------+\n",
      "only showing top 10 rows\n"
     ]
    }
   ],
   "source": [
    "silver.show(10)"
   ]
  },
  {
   "cell_type": "code",
   "execution_count": 15,
   "id": "e024d01c",
   "metadata": {},
   "outputs": [
    {
     "name": "stdout",
     "output_type": "stream",
     "text": [
      "io.native.lib.available = false\n",
      "fs.s3a.fast.upload = true\n",
      "fs.s3a.fast.upload.buffer = bytebuffer\n"
     ]
    }
   ],
   "source": [
    "# optional sanity checks:\n",
    "hc = spark.sparkContext._jsc.hadoopConfiguration()\n",
    "print(\"io.native.lib.available =\", hc.get(\"io.native.lib.available\"))\n",
    "print(\"fs.s3a.fast.upload =\", hc.get(\"fs.s3a.fast.upload\"))\n",
    "print(\"fs.s3a.fast.upload.buffer =\", hc.get(\"fs.s3a.fast.upload.buffer\"))"
   ]
  },
  {
   "cell_type": "code",
   "execution_count": 16,
   "id": "15710f2b",
   "metadata": {
    "scrolled": true
   },
   "outputs": [],
   "source": [
    "(silver.write\n",
    " .mode(\"overwrite\")\n",
    " .option(\"compression\", \"snappy\")\n",
    " .partitionBy(\"bashoId\")                        # or by year/month/day\n",
    " .parquet(\"s3a://ryans-sumo-bucket/silver/rikishi_matches/\"))"
   ]
  },
  {
   "cell_type": "code",
   "execution_count": 28,
   "id": "d264f556",
   "metadata": {},
   "outputs": [],
   "source": [
    "df = (spark.read\n",
    "      .option(\"multiLine\", \"true\")                # set to \"false\" if you have JSON Lines\n",
    "      .option(\"mode\", \"PERMISSIVE\")               # or \"FAILFAST\"\n",
    "      .option(\"recursiveFileLookup\", \"true\")\n",
    "      .option(\"pathGlobFilter\", \"*.json\")         # only JSON files\n",
    "      .json(\"s3a://ryans-sumo-bucket/sumo-api-calls/rikishis/\"))"
   ]
  },
  {
   "cell_type": "code",
   "execution_count": 30,
   "id": "6bf199db",
   "metadata": {},
   "outputs": [
    {
     "name": "stdout",
     "output_type": "stream",
     "text": [
      "+--------------------+-----------------+------+------+-----------+----+--------------------+-----+--------------------+----------------------+--------------------+--------+------+\n",
      "|           birthDate|      currentRank| debut|height|       heya|  id|               intai|nskId|           shikonaEn|             shikonaJp|            shusshin|sumodbId|weight|\n",
      "+--------------------+-----------------+------+------+-----------+----+--------------------+-----+--------------------+----------------------+--------------------+--------+------+\n",
      "|1975-08-22T00:00:00Z|             NULL|199103| 187.5|   Kasugano|3739|2011-01-01T00:00:00Z|    0|Kasuganishiki Tak...|                  NULL|Chiba-ken, Isumi-...|     107| 146.3|\n",
      "|2000-10-21T00:00:00Z|   Jonidan 3 East|201903| 176.0|Shikoroyama| 279|2025-03-26T00:00:00Z| 3959|           Kawabuchi|        川渕(かわぶち)|Ishikawa-ken, Kan...|   12568| 118.0|\n",
      "|1977-04-15T00:00:00Z| Jonidan 100 West|199601| 170.3|  Isegahama| 460|2025-05-28T00:00:00Z| 1407|          Satonofuji|  聡ノ富士(さとのふじ)|Gunma-ken, Kitagu...|     383| 109.0|\n",
      "|1999-08-17T00:00:00Z|Makushita 44 West|201503| 180.0|       Kise|  90|                NULL| 3617|           Higonoumi|  肥後ノ海(ひごのうみ)|Kumamoto-ken, Kik...|   12227| 139.0|\n",
      "|1993-06-03T00:00:00Z| Sandanme 76 West|200903| 180.0|  Dewanoumi| 358|                NULL| 3189|            Oginosho|小城ノ正(おぎのしょう)|Osaka-fu, Ikeda-s...|   11767| 125.0|\n",
      "|1984-05-04T00:00:00Z| Sandanme 57 East|200301| 182.5|  Sakaigawa| 203|                NULL| 2522|         Katsunofuji|  克乃富士(かつのふじ)|Aomori-ken, Nishi...|    2836| 138.0|\n",
      "|1996-09-11T00:00:00Z|   Jonidan 5 West|201511| 180.0|Musashigawa| 341|2025-03-26T00:00:00Z| 3662|           Goshimaru|    剛士丸(ごうしまる)|Kanagawa-ken, Miu...|   12271| 112.0|\n",
      "|2001-05-11T00:00:00Z|  Jonidan 79 West|201703| 179.0|  Asakayama| 475|2025-05-28T00:00:00Z| 3802|             Kaitoma|    魁當真(かいとうま)|Kanagawa-ken, Yok...|   12411| 135.0|\n",
      "|1995-10-19T00:00:00Z|   Jonidan 9 East|201801| 172.0|    Kokonoe| 344|2025-03-26T00:00:00Z| 3848|         Chiyohokkai|千代北海(ちよほっかい)|Hokkaido, Sapporo...|   12457| 127.0|\n",
      "|1994-06-09T00:00:00Z| Sandanme 57 East|201301| 180.0|   Ikazuchi| 259|2025-03-26T00:00:00Z| 3432|            Saidaiji|    西大司(さいだいじ)|Okayama-ken, Okay...|   12041| 182.0|\n",
      "+--------------------+-----------------+------+------+-----------+----+--------------------+-----+--------------------+----------------------+--------------------+--------+------+\n",
      "only showing top 10 rows\n"
     ]
    }
   ],
   "source": [
    "df.show(10)"
   ]
  },
  {
   "cell_type": "code",
   "execution_count": 31,
   "id": "71c67a44",
   "metadata": {},
   "outputs": [],
   "source": [
    "(df.write\n",
    " .mode(\"overwrite\")\n",
    " .option(\"compression\", \"snappy\")\n",
    " .parquet(\"s3a://ryans-sumo-bucket/silver/rikishis/\"))"
   ]
  },
  {
   "cell_type": "code",
   "execution_count": 32,
   "id": "c42e7c15",
   "metadata": {},
   "outputs": [],
   "source": [
    "df = (spark.read\n",
    "      .option(\"multiLine\", \"true\")                # set to \"false\" if you have JSON Lines\n",
    "      .option(\"mode\", \"PERMISSIVE\")               # or \"FAILFAST\"\n",
    "      .option(\"recursiveFileLookup\", \"true\")\n",
    "      .option(\"pathGlobFilter\", \"*.json\")         # only JSON files\n",
    "      .json(\"s3a://ryans-sumo-bucket/sumo-api-calls/rikishi_stats/\"))\n",
    "\n",
    "df = df.withColumn(\n",
    "    \"rikishi_id\",\n",
    "    F.regexp_extract(F.input_file_name(), r\"rikishi_(\\d+)\\.json\", 1)\n",
    ")\n",
    "\n",
    "(df.write\n",
    " .mode(\"overwrite\")\n",
    " .option(\"compression\", \"snappy\")\n",
    " .parquet(\"s3a://ryans-sumo-bucket/silver/rikishi_stats/\"))"
   ]
  },
  {
   "cell_type": "code",
   "execution_count": 33,
   "id": "38ab3068",
   "metadata": {},
   "outputs": [],
   "source": [
    "df = (spark.read\n",
    "      .option(\"multiLine\", \"true\")                # set to \"false\" if you have JSON Lines\n",
    "      .option(\"mode\", \"PERMISSIVE\")               # or \"FAILFAST\"\n",
    "      .option(\"recursiveFileLookup\", \"true\")\n",
    "      .option(\"pathGlobFilter\", \"*.json\")         # only JSON files\n",
    "      .json(\"s3a://ryans-sumo-bucket/sumo-api-calls/basho/\"))\n",
    "(df.write\n",
    " .mode(\"overwrite\")\n",
    " .option(\"compression\", \"snappy\")\n",
    " .partitionBy(\"location\")\n",
    " .parquet(\"s3a://ryans-sumo-bucket/silver/bashos/\"))"
   ]
  },
  {
   "cell_type": "markdown",
   "id": "cdce13f0",
   "metadata": {},
   "source": [
    "# silvers have been written"
   ]
  },
  {
   "cell_type": "code",
   "execution_count": 11,
   "id": "cebd6c98",
   "metadata": {},
   "outputs": [],
   "source": [
    "df = (spark.read\n",
    "      .option(\"multiLine\", \"true\")                # set to \"false\" if you have JSON Lines\n",
    "      .option(\"mode\", \"PERMISSIVE\")               # or \"FAILFAST\"\n",
    "      .option(\"recursiveFileLookup\", \"true\")\n",
    "      .option(\"pathGlobFilter\", \"*.parquet\")         # only JSON files\n",
    "      .parquet(\"s3a://ryans-sumo-bucket/silver/rikishi_matches/\"))"
   ]
  },
  {
   "cell_type": "code",
   "execution_count": 12,
   "id": "ffeef6af",
   "metadata": {},
   "outputs": [
    {
     "name": "stdout",
     "output_type": "stream",
     "text": [
      "+---+---------+------+------------------+--------------+-----------+-------+------+------------------+-----------+-----------+--------+--------+----------+----------+\n",
      "|day| division|eastId|          eastRank|   eastShikona|   kimarite|matchNo|westId|          westRank|westShikona|   winnerEn|winnerId|winnerJp|match_date|  match_id|\n",
      "+---+---------+------+------------------+--------------+-----------+-------+------+------------------+-----------+-----------+--------+--------+----------+----------+\n",
      "|  8| Makuuchi|   794| Maegashira 3 East|         Terao|   yorikiri|     14|  4071|   Sekiwake 1 West|       Kaio|       Kaio|    4071|        |1996-05-08|1996050814|\n",
      "|  4|Makushita|  3827| Makushita 17 East|   Chiyotenzan|shitatenage|     24|  3837| Makushita 15 East| Kitazakura|Chiyotenzan|    3827|        |1996-05-04|1996050424|\n",
      "|  3|    Juryo|  3835|      Juryo 7 West|    Kyokutenho|   yorikiri|     12|  5078|      Juryo 1 West|Tokitsunada| Kyokutenho|    3835|        |1996-05-03|1996050312|\n",
      "|  9| Makuuchi|  3833| Maegashira 2 East|    Akinoshima|  uwatenage|     11|  3857| Maegashira 1 West|  Tosanoumi| Akinoshima|    3833|        |1996-05-09|1996050911|\n",
      "| 13| Sandanme|   644|  Sandanme 44 West|Tatsuyamaguchi|   yorikiri|     19|  5187|  Sandanme 41 West|Chiyonokuni|Chiyonokuni|    5187|        |1996-05-13|1996051319|\n",
      "| 14| Makuuchi|  4071|   Sekiwake 1 West|          Kaio|   yorikiri|     19|  3853|      Ozeki 1 West| Takanonami| Takanonami|    3853|        |1996-05-14|1996051419|\n",
      "| 15|Makushita|  3851| Makushita 30 West|        Kogawa|   yorikiri|     12|  3657| Makushita 25 West|  Takanosho|  Takanosho|    3657|        |1996-05-15|1996051512|\n",
      "|  7| Makuuchi|  5370| Maegashira 5 West|         Kenko|  oshidashi|     11|  3857| Maegashira 1 West|  Tosanoumi|  Tosanoumi|    3857|        |1996-05-07|1996050711|\n",
      "| 11| Makuuchi|  1560|Maegashira 10 East|     Mitoizumi|   yorikiri|      4|  4889|Maegashira 15 East| Shikishima| Shikishima|    4889|        |1996-05-11| 199605114|\n",
      "|  1|Makushita|  3860| Makushita 31 East|    Tokitsuumi|shitatenage|     15|  3851| Makushita 30 West|     Kogawa| Tokitsuumi|    3860|        |1996-05-01|1996050115|\n",
      "+---+---------+------+------------------+--------------+-----------+-------+------+------------------+-----------+-----------+--------+--------+----------+----------+\n",
      "only showing top 10 rows\n"
     ]
    }
   ],
   "source": [
    "df.show(10)"
   ]
  },
  {
   "cell_type": "code",
   "execution_count": 13,
   "id": "21d7c414",
   "metadata": {},
   "outputs": [
    {
     "data": {
      "text/plain": [
       "738480"
      ]
     },
     "execution_count": 13,
     "metadata": {},
     "output_type": "execute_result"
    }
   ],
   "source": [
    "df.count()"
   ]
  },
  {
   "cell_type": "code",
   "execution_count": 104,
   "id": "0b61853c",
   "metadata": {},
   "outputs": [],
   "source": [
    "matches = (df\n",
    "      .withColumn(\n",
    "        \"westWin\",\n",
    "        F.when(F.col(\"winnerId\") == F.col(\"westId\"), F.lit(1)).otherwise(F.lit(0))\n",
    "        )\n",
    "     )"
   ]
  },
  {
   "cell_type": "code",
   "execution_count": 15,
   "id": "1f44f4de",
   "metadata": {},
   "outputs": [],
   "source": [
    "rikishis = (spark.read\n",
    "      .option(\"multiLine\", \"true\")                # set to \"false\" if you have JSON Lines\n",
    "      .option(\"mode\", \"PERMISSIVE\")               # or \"FAILFAST\"\n",
    "      .option(\"recursiveFileLookup\", \"true\")\n",
    "      .option(\"pathGlobFilter\", \"*.parquet\")         # only JSON files\n",
    "      .parquet(\"s3a://ryans-sumo-bucket/silver/rikishis/\"))\n",
    "\n",
    "rikishi_stats = (spark.read\n",
    "      .option(\"multiLine\", \"true\")                # set to \"false\" if you have JSON Lines\n",
    "      .option(\"mode\", \"PERMISSIVE\")               # or \"FAILFAST\"\n",
    "      .option(\"recursiveFileLookup\", \"true\")\n",
    "      .option(\"pathGlobFilter\", \"*.parquet\")         # only JSON files\n",
    "      .parquet(\"s3a://ryans-sumo-bucket/silver/rikishi_stats/\"))\n",
    "\n",
    "\n",
    "bashos = (spark.read\n",
    "      .option(\"multiLine\", \"true\")                # set to \"false\" if you have JSON Lines\n",
    "      .option(\"mode\", \"PERMISSIVE\")               # or \"FAILFAST\"\n",
    "      .option(\"recursiveFileLookup\", \"true\")\n",
    "      .option(\"pathGlobFilter\", \"*.parquet\")         # only JSON files\n",
    "      .parquet(\"s3a://ryans-sumo-bucket/silver/bashos/\"))"
   ]
  },
  {
   "cell_type": "code",
   "execution_count": 16,
   "id": "68a8b39b",
   "metadata": {},
   "outputs": [
    {
     "name": "stdout",
     "output_type": "stream",
     "text": [
      "+---+---------+------+------------------+--------------+-----------+-------+------+------------------+-----------+-----------+--------+--------+----------+----------+-------+\n",
      "|day| division|eastId|          eastRank|   eastShikona|   kimarite|matchNo|westId|          westRank|westShikona|   winnerEn|winnerId|winnerJp|match_date|  match_id|westWin|\n",
      "+---+---------+------+------------------+--------------+-----------+-------+------+------------------+-----------+-----------+--------+--------+----------+----------+-------+\n",
      "|  8| Makuuchi|   794| Maegashira 3 East|         Terao|   yorikiri|     14|  4071|   Sekiwake 1 West|       Kaio|       Kaio|    4071|        |1996-05-08|1996050814|      1|\n",
      "|  4|Makushita|  3827| Makushita 17 East|   Chiyotenzan|shitatenage|     24|  3837| Makushita 15 East| Kitazakura|Chiyotenzan|    3827|        |1996-05-04|1996050424|      0|\n",
      "|  3|    Juryo|  3835|      Juryo 7 West|    Kyokutenho|   yorikiri|     12|  5078|      Juryo 1 West|Tokitsunada| Kyokutenho|    3835|        |1996-05-03|1996050312|      0|\n",
      "|  9| Makuuchi|  3833| Maegashira 2 East|    Akinoshima|  uwatenage|     11|  3857| Maegashira 1 West|  Tosanoumi| Akinoshima|    3833|        |1996-05-09|1996050911|      0|\n",
      "| 13| Sandanme|   644|  Sandanme 44 West|Tatsuyamaguchi|   yorikiri|     19|  5187|  Sandanme 41 West|Chiyonokuni|Chiyonokuni|    5187|        |1996-05-13|1996051319|      1|\n",
      "| 14| Makuuchi|  4071|   Sekiwake 1 West|          Kaio|   yorikiri|     19|  3853|      Ozeki 1 West| Takanonami| Takanonami|    3853|        |1996-05-14|1996051419|      1|\n",
      "| 15|Makushita|  3851| Makushita 30 West|        Kogawa|   yorikiri|     12|  3657| Makushita 25 West|  Takanosho|  Takanosho|    3657|        |1996-05-15|1996051512|      1|\n",
      "|  7| Makuuchi|  5370| Maegashira 5 West|         Kenko|  oshidashi|     11|  3857| Maegashira 1 West|  Tosanoumi|  Tosanoumi|    3857|        |1996-05-07|1996050711|      1|\n",
      "| 11| Makuuchi|  1560|Maegashira 10 East|     Mitoizumi|   yorikiri|      4|  4889|Maegashira 15 East| Shikishima| Shikishima|    4889|        |1996-05-11| 199605114|      1|\n",
      "|  1|Makushita|  3860| Makushita 31 East|    Tokitsuumi|shitatenage|     15|  3851| Makushita 30 West|     Kogawa| Tokitsuumi|    3860|        |1996-05-01|1996050115|      0|\n",
      "+---+---------+------+------------------+--------------+-----------+-------+------+------------------+-----------+-----------+--------+--------+----------+----------+-------+\n",
      "only showing top 10 rows\n"
     ]
    }
   ],
   "source": [
    "matches.show(10)"
   ]
  },
  {
   "cell_type": "code",
   "execution_count": 17,
   "id": "41e4b5f9",
   "metadata": {},
   "outputs": [
    {
     "name": "stdout",
     "output_type": "stream",
     "text": [
      "+--------------------+-----------------+------+------+-----------+----+--------------------+-----+--------------------+----------------------+--------------------+--------+------+\n",
      "|           birthDate|      currentRank| debut|height|       heya|  id|               intai|nskId|           shikonaEn|             shikonaJp|            shusshin|sumodbId|weight|\n",
      "+--------------------+-----------------+------+------+-----------+----+--------------------+-----+--------------------+----------------------+--------------------+--------+------+\n",
      "|1975-08-22T00:00:00Z|             NULL|199103| 187.5|   Kasugano|3739|2011-01-01T00:00:00Z|    0|Kasuganishiki Tak...|                  NULL|Chiba-ken, Isumi-...|     107| 146.3|\n",
      "|2000-10-21T00:00:00Z|   Jonidan 3 East|201903| 176.0|Shikoroyama| 279|2025-03-26T00:00:00Z| 3959|           Kawabuchi|        川渕(かわぶち)|Ishikawa-ken, Kan...|   12568| 118.0|\n",
      "|1977-04-15T00:00:00Z| Jonidan 100 West|199601| 170.3|  Isegahama| 460|2025-05-28T00:00:00Z| 1407|          Satonofuji|  聡ノ富士(さとのふじ)|Gunma-ken, Kitagu...|     383| 109.0|\n",
      "|1999-08-17T00:00:00Z|Makushita 44 West|201503| 180.0|       Kise|  90|                NULL| 3617|           Higonoumi|  肥後ノ海(ひごのうみ)|Kumamoto-ken, Kik...|   12227| 139.0|\n",
      "|1993-06-03T00:00:00Z| Sandanme 76 West|200903| 180.0|  Dewanoumi| 358|                NULL| 3189|            Oginosho|小城ノ正(おぎのしょう)|Osaka-fu, Ikeda-s...|   11767| 125.0|\n",
      "|1984-05-04T00:00:00Z| Sandanme 57 East|200301| 182.5|  Sakaigawa| 203|                NULL| 2522|         Katsunofuji|  克乃富士(かつのふじ)|Aomori-ken, Nishi...|    2836| 138.0|\n",
      "|1996-09-11T00:00:00Z|   Jonidan 5 West|201511| 180.0|Musashigawa| 341|2025-03-26T00:00:00Z| 3662|           Goshimaru|    剛士丸(ごうしまる)|Kanagawa-ken, Miu...|   12271| 112.0|\n",
      "|2001-05-11T00:00:00Z|  Jonidan 79 West|201703| 179.0|  Asakayama| 475|2025-05-28T00:00:00Z| 3802|             Kaitoma|    魁當真(かいとうま)|Kanagawa-ken, Yok...|   12411| 135.0|\n",
      "|1995-10-19T00:00:00Z|   Jonidan 9 East|201801| 172.0|    Kokonoe| 344|2025-03-26T00:00:00Z| 3848|         Chiyohokkai|千代北海(ちよほっかい)|Hokkaido, Sapporo...|   12457| 127.0|\n",
      "|1994-06-09T00:00:00Z| Sandanme 57 East|201301| 180.0|   Ikazuchi| 259|2025-03-26T00:00:00Z| 3432|            Saidaiji|    西大司(さいだいじ)|Okayama-ken, Okay...|   12041| 182.0|\n",
      "+--------------------+-----------------+------+------+-----------+----+--------------------+-----+--------------------+----------------------+--------------------+--------+------+\n",
      "only showing top 10 rows\n"
     ]
    }
   ],
   "source": [
    "rikishis.show(10)"
   ]
  },
  {
   "cell_type": "code",
   "execution_count": 20,
   "id": "5b08df41",
   "metadata": {},
   "outputs": [
    {
     "name": "stdout",
     "output_type": "stream",
     "text": [
      "root\n",
      " |-- date: string (nullable = true)\n",
      " |-- endDate: string (nullable = true)\n",
      " |-- specialPrizes: array (nullable = true)\n",
      " |    |-- element: struct (containsNull = true)\n",
      " |    |    |-- rikishiId: long (nullable = true)\n",
      " |    |    |-- shikonaEn: string (nullable = true)\n",
      " |    |    |-- shikonaJp: string (nullable = true)\n",
      " |    |    |-- type: string (nullable = true)\n",
      " |-- startDate: string (nullable = true)\n",
      " |-- yusho: array (nullable = true)\n",
      " |    |-- element: struct (containsNull = true)\n",
      " |    |    |-- rikishiId: long (nullable = true)\n",
      " |    |    |-- shikonaEn: string (nullable = true)\n",
      " |    |    |-- shikonaJp: string (nullable = true)\n",
      " |    |    |-- type: string (nullable = true)\n",
      "\n"
     ]
    }
   ],
   "source": [
    "bashos.printSchema()"
   ]
  },
  {
   "cell_type": "code",
   "execution_count": 21,
   "id": "45d22263",
   "metadata": {},
   "outputs": [],
   "source": [
    "# Rename `date` → `bashoId`, and keep start/end date\n",
    "base = bashos.select(\n",
    "    col(\"date\").alias(\"bashoId\"),\n",
    "    col(\"startDate\"),\n",
    "    col(\"endDate\")\n",
    ")\n",
    "\n",
    "yusho_flat = (\n",
    "    bashos.withColumn(\"y\", explode(col(\"yusho\")))\n",
    "      .select(\n",
    "          col(\"date\").alias(\"bashoId\"),\n",
    "          col(\"y.type\").alias(\"yusho_type\"),\n",
    "          col(\"y.rikishiId\").alias(\"rikishiId\")\n",
    "      )\n",
    ")\n",
    "\n",
    "# Pivot so each yusho_type becomes its own column\n",
    "yusho_pivot = (\n",
    "    yusho_flat.groupBy(\"bashoId\")\n",
    "              .pivot(\"yusho_type\")\n",
    "              .agg(collect_list(\"rikishiId\"))\n",
    "              .withColumnRenamed(\"Makuuchi\", \"Makuuchi_yusho\")\n",
    "              .withColumnRenamed(\"Juryo\", \"Juryo_yusho\")\n",
    ")\n",
    "prizes_flat = (\n",
    "    bashos.withColumn(\"p\", explode(col(\"specialPrizes\")))\n",
    "      .select(\n",
    "          col(\"date\").alias(\"bashoId\"),\n",
    "          col(\"p.type\").alias(\"prize_type\"),\n",
    "          col(\"p.rikishiId\").alias(\"rikishiId\")\n",
    "      )\n",
    ")\n",
    "\n",
    "\n",
    "prizes_pivot = (\n",
    "    prizes_flat.groupBy(\"bashoId\")\n",
    "               .pivot(\"prize_type\")\n",
    "               .agg(collect_list(\"rikishiId\"))   # array of rikishiIds\n",
    "               .withColumnRenamed(\"Shukun-sho\", \"Shukun_sho\")\n",
    "               .withColumnRenamed(\"Kanto-sho\", \"Kanto_sho\")\n",
    "               .withColumnRenamed(\"Gino-sho\", \"Gino_sho\")\n",
    ")\n",
    "result = (base\n",
    "          .join(yusho_pivot, on=\"bashoId\", how=\"left\")\n",
    "          .join(prizes_pivot, on=\"bashoId\", how=\"left\"))"
   ]
  },
  {
   "cell_type": "code",
   "execution_count": 22,
   "id": "c183fbc2",
   "metadata": {},
   "outputs": [
    {
     "name": "stdout",
     "output_type": "stream",
     "text": [
      "+-------+--------------------+--------------------+-------+---------+-----------+---------+--------------+--------+------------+-------------+------------+\n",
      "|bashoId|           startDate|             endDate|Jonidan|Jonokuchi|Juryo_yusho|Makushita|Makuuchi_yusho|Sandanme|    Gino_sho|    Kanto_sho|  Shukun_sho|\n",
      "+-------+--------------------+--------------------+-------+---------+-----------+---------+--------------+--------+------------+-------------+------------+\n",
      "| 202501|2025-01-12T00:00:00Z|2025-01-26T00:00:00Z|  [106]|    [159]|       [86]|     [91]|          [19]|  [8869]|        [41]|      [7, 50]|          []|\n",
      "| 202305|2023-05-14T00:00:00Z|2023-05-28T00:00:00Z|  [609]|   [8862]|       [56]|    [110]|          [45]|   [219]|     [13, 7]|           []|        [38]|\n",
      "| 201801|2018-01-14T00:00:00Z|2018-01-28T00:00:00Z|  [336]|     [81]|       [36]|     [12]|          [43]|    [69]|        [43]|     [15, 22]|        [43]|\n",
      "| 201705|2017-05-14T00:00:00Z|2017-05-28T00:00:00Z|  [354]|     [62]|       [16]|   [3330]|        [3081]|    [12]|  [3248, 44]|         [10]|        [26]|\n",
      "| 201805|2018-05-13T00:00:00Z|2018-05-27T00:00:00Z|   [19]|    [233]|       [10]|      [7]|        [3181]|  [3114]|        [43]|[377, 43, 51]|       [673]|\n",
      "| 201701|2017-01-08T00:00:00Z|2017-01-22T00:00:00Z|   [40]|   [3172]|        [9]|      [2]|        [3285]|  [3130]|  [26, 3223]|         [44]|      [3255]|\n",
      "| 199201|1992-01-12T00:00:00Z|1992-01-26T00:00:00Z| [5186]|   [4617]|     [5145]|   [4889]|        [4789]|  [5457]|[4789, 4997]| [4913, 4789]|[4913, 4789]|\n",
      "| 201709|2017-09-10T00:00:00Z|2017-09-24T00:00:00Z|  [144]|    [334]|       [22]|    [627]|        [3363]|    [62]|      [3248]|      [10, 2]|         [1]|\n",
      "| 202009|2020-09-13T00:00:00Z|2020-09-27T00:00:00Z|   [53]|   [3144]|       [51]|    [150]|          [33]|    [93]|          []|     [21, 33]|        [33]|\n",
      "| 199805|1998-05-10T00:00:00Z|1998-05-24T00:00:00Z| [5139]|   [3725]|     [3745]|   [3669]|        [4997]|  [3911]|      [3833]| [3851, 3852]|[3830, 4912]|\n",
      "+-------+--------------------+--------------------+-------+---------+-----------+---------+--------------+--------+------------+-------------+------------+\n",
      "only showing top 10 rows\n"
     ]
    }
   ],
   "source": [
    "result.show(10)"
   ]
  },
  {
   "cell_type": "code",
   "execution_count": 23,
   "id": "61db014e",
   "metadata": {},
   "outputs": [
    {
     "name": "stdout",
     "output_type": "stream",
     "text": [
      "root\n",
      " |-- bashoId: string (nullable = true)\n",
      " |-- startDate: string (nullable = true)\n",
      " |-- endDate: string (nullable = true)\n",
      " |-- Jonidan: array (nullable = true)\n",
      " |    |-- element: long (containsNull = false)\n",
      " |-- Jonokuchi: array (nullable = true)\n",
      " |    |-- element: long (containsNull = false)\n",
      " |-- Juryo_yusho: array (nullable = true)\n",
      " |    |-- element: long (containsNull = false)\n",
      " |-- Makushita: array (nullable = true)\n",
      " |    |-- element: long (containsNull = false)\n",
      " |-- Makuuchi_yusho: array (nullable = true)\n",
      " |    |-- element: long (containsNull = false)\n",
      " |-- Sandanme: array (nullable = true)\n",
      " |    |-- element: long (containsNull = false)\n",
      " |-- Gino_sho: array (nullable = true)\n",
      " |    |-- element: long (containsNull = false)\n",
      " |-- Kanto_sho: array (nullable = true)\n",
      " |    |-- element: long (containsNull = false)\n",
      " |-- Shukun_sho: array (nullable = true)\n",
      " |    |-- element: long (containsNull = false)\n",
      "\n"
     ]
    }
   ],
   "source": [
    "result.printSchema()"
   ]
  },
  {
   "cell_type": "code",
   "execution_count": 24,
   "id": "c15969f0",
   "metadata": {},
   "outputs": [
    {
     "name": "stdout",
     "output_type": "stream",
     "text": [
      "root\n",
      " |-- absenceByDivision: struct (nullable = true)\n",
      " |    |-- Jonidan: long (nullable = true)\n",
      " |    |-- Jonokuchi: long (nullable = true)\n",
      " |    |-- Juryo: long (nullable = true)\n",
      " |    |-- Makushita: long (nullable = true)\n",
      " |    |-- Makuuchi: long (nullable = true)\n",
      " |    |-- Sandanme: long (nullable = true)\n",
      " |-- basho: long (nullable = true)\n",
      " |-- bashoByDivision: struct (nullable = true)\n",
      " |    |-- Jonidan: long (nullable = true)\n",
      " |    |-- Jonokuchi: long (nullable = true)\n",
      " |    |-- Juryo: long (nullable = true)\n",
      " |    |-- Makushita: long (nullable = true)\n",
      " |    |-- Makuuchi: long (nullable = true)\n",
      " |    |-- Sandanme: long (nullable = true)\n",
      " |-- lossByDivision: struct (nullable = true)\n",
      " |    |-- Jonidan: long (nullable = true)\n",
      " |    |-- Jonokuchi: long (nullable = true)\n",
      " |    |-- Juryo: long (nullable = true)\n",
      " |    |-- Makushita: long (nullable = true)\n",
      " |    |-- Makuuchi: long (nullable = true)\n",
      " |    |-- Sandanme: long (nullable = true)\n",
      " |-- sansho: struct (nullable = true)\n",
      " |    |-- Gino-sho: long (nullable = true)\n",
      " |    |-- Kanto-sho: long (nullable = true)\n",
      " |    |-- Shukun-sho: long (nullable = true)\n",
      " |-- totalAbsences: long (nullable = true)\n",
      " |-- totalByDivision: struct (nullable = true)\n",
      " |    |-- Jonidan: long (nullable = true)\n",
      " |    |-- Jonokuchi: long (nullable = true)\n",
      " |    |-- Juryo: long (nullable = true)\n",
      " |    |-- Makushita: long (nullable = true)\n",
      " |    |-- Makuuchi: long (nullable = true)\n",
      " |    |-- Sandanme: long (nullable = true)\n",
      " |-- totalLosses: long (nullable = true)\n",
      " |-- totalMatches: long (nullable = true)\n",
      " |-- totalWins: long (nullable = true)\n",
      " |-- winsByDivision: struct (nullable = true)\n",
      " |    |-- Jonidan: long (nullable = true)\n",
      " |    |-- Jonokuchi: long (nullable = true)\n",
      " |    |-- Juryo: long (nullable = true)\n",
      " |    |-- Makushita: long (nullable = true)\n",
      " |    |-- Makuuchi: long (nullable = true)\n",
      " |    |-- Sandanme: long (nullable = true)\n",
      " |-- yusho: long (nullable = true)\n",
      " |-- yushoByDivision: struct (nullable = true)\n",
      " |    |-- Jonidan: long (nullable = true)\n",
      " |    |-- Jonokuchi: long (nullable = true)\n",
      " |    |-- Juryo: long (nullable = true)\n",
      " |    |-- Makushita: long (nullable = true)\n",
      " |    |-- Makuuchi: long (nullable = true)\n",
      " |    |-- Sandanme: long (nullable = true)\n",
      " |-- rikishi_id: string (nullable = true)\n",
      "\n"
     ]
    }
   ],
   "source": [
    "rikishi_stats.printSchema()"
   ]
  },
  {
   "cell_type": "code",
   "execution_count": 25,
   "id": "32f09fb2",
   "metadata": {},
   "outputs": [],
   "source": [
    "rikishi_stats = rikishi_stats.select(\n",
    "    col(\"rikishi_id\"),\n",
    "    col(\"yusho\"),\n",
    "    col(\"yushoByDivision.Makuuchi\").alias(\"makuuchi_yusho\"),\n",
    "    col(\"totalWins\"),\n",
    "    col(\"totalLosses\"),\n",
    "    col(\"totalMatches\"),\n",
    "    col(\"winsByDivision.Makuuchi\").alias(\"makuuchiWins\"),\n",
    "    col(\"basho\"),\n",
    "    col(\"bashoByDivision.Makuuchi\").alias(\"Makuuchi_basho\"),\n",
    "    col(\"sansho.Gino-sho\").alias(\"Gino_sho\"),\n",
    "    col(\"sansho.Kanto-sho\").alias(\"Kanto_sho\"),\n",
    "    col(\"sansho.Shukun-sho\").alias(\"Shukun_sho\")\n",
    ")"
   ]
  },
  {
   "cell_type": "code",
   "execution_count": 26,
   "id": "ebc1f027",
   "metadata": {},
   "outputs": [
    {
     "name": "stdout",
     "output_type": "stream",
     "text": [
      "+----------+-----+--------------+---------+-----------+------------+------------+-----+--------------+--------+---------+----------+\n",
      "|rikishi_id|yusho|makuuchi_yusho|totalWins|totalLosses|totalMatches|makuuchiWins|basho|Makuuchi_basho|Gino_sho|Kanto_sho|Shukun_sho|\n",
      "+----------+-----+--------------+---------+-----------+------------+------------+-----+--------------+--------+---------+----------+\n",
      "|        35|    3|          NULL|      753|        765|        1518|         405|  132|            58|    NULL|        3|      NULL|\n",
      "|        44|    1|          NULL|      787|        593|        1380|         627|  120|            84|       3|        6|         4|\n",
      "|      5306|    4|          NULL|      457|        433|         890|         164|  100|            26|    NULL|        1|      NULL|\n",
      "|        16|    2|          NULL|      635|        648|        1283|         289|  114|            43|    NULL|        1|         1|\n",
      "|       794|    2|          NULL|      858|        937|        1795|         626|  139|            93|       1|        3|         3|\n",
      "|       956|    1|             1|      754|        696|        1450|         518|  126|            71|       4|        1|         3|\n",
      "|      3925|    4|          NULL|      683|        671|        1354|          97|  132|            17|    NULL|        1|      NULL|\n",
      "|      3830|    2|          NULL|      605|        585|        1190|         299|  101|            47|       2|        1|         1|\n",
      "|        13|    3|          NULL|      457|        354|         811|         185|   81|            22|       1|     NULL|         1|\n",
      "|        27|    3|          NULL|      424|        368|         792|         360|   60|            49|       2|        1|      NULL|\n",
      "+----------+-----+--------------+---------+-----------+------------+------------+-----+--------------+--------+---------+----------+\n",
      "only showing top 10 rows\n"
     ]
    }
   ],
   "source": [
    "rikishi_stats.show(10)"
   ]
  },
  {
   "cell_type": "code",
   "execution_count": 105,
   "id": "0c42553f",
   "metadata": {},
   "outputs": [],
   "source": [
    "main = matches"
   ]
  },
  {
   "cell_type": "code",
   "execution_count": 31,
   "id": "2c5c44fb",
   "metadata": {},
   "outputs": [],
   "source": [
    "rikishis = (rikishis\n",
    "       .join(rikishi_stats, rikishis.id == rikishi_stats.rikishi_id, how = \"left\"))"
   ]
  },
  {
   "cell_type": "code",
   "execution_count": 32,
   "id": "13678f27",
   "metadata": {},
   "outputs": [
    {
     "name": "stdout",
     "output_type": "stream",
     "text": [
      "+--------------------+-----------------+------+------+-----------+----+--------------------+-----+--------------------+----------------------+--------------------+--------+------+----------+-----+--------------+---------+-----------+------------+------------+-----+--------------+--------+---------+----------+\n",
      "|           birthDate|      currentRank| debut|height|       heya|  id|               intai|nskId|           shikonaEn|             shikonaJp|            shusshin|sumodbId|weight|rikishi_id|yusho|makuuchi_yusho|totalWins|totalLosses|totalMatches|makuuchiWins|basho|Makuuchi_basho|Gino_sho|Kanto_sho|Shukun_sho|\n",
      "+--------------------+-----------------+------+------+-----------+----+--------------------+-----+--------------------+----------------------+--------------------+--------+------+----------+-----+--------------+---------+-----------+------------+------------+-----+--------------+--------+---------+----------+\n",
      "|1975-08-22T00:00:00Z|             NULL|199103| 187.5|   Kasugano|3739|2011-01-01T00:00:00Z|    0|Kasuganishiki Tak...|                  NULL|Chiba-ken, Isumi-...|     107| 146.3|      3739|    0|          NULL|      611|        581|        1192|         107|  119|            20|    NULL|     NULL|      NULL|\n",
      "|2000-10-21T00:00:00Z|   Jonidan 3 East|201903| 176.0|Shikoroyama| 279|2025-03-26T00:00:00Z| 3959|           Kawabuchi|        川渕(かわぶち)|Ishikawa-ken, Kan...|   12568| 118.0|       279|    1|          NULL|      118|        114|         232|        NULL|   35|          NULL|    NULL|     NULL|      NULL|\n",
      "|1977-04-15T00:00:00Z| Jonidan 100 West|199601| 170.3|  Isegahama| 460|2025-05-28T00:00:00Z| 1407|          Satonofuji|  聡ノ富士(さとのふじ)|Gunma-ken, Kitagu...|     383| 109.0|       460|    0|          NULL|      570|        627|        1197|        NULL|  174|          NULL|    NULL|     NULL|      NULL|\n",
      "|1999-08-17T00:00:00Z|Makushita 44 West|201503| 180.0|       Kise|  90|                NULL| 3617|           Higonoumi|  肥後ノ海(ひごのうみ)|Kumamoto-ken, Kik...|   12227| 139.0|        90|    1|          NULL|      207|        148|         355|        NULL|   61|          NULL|    NULL|     NULL|      NULL|\n",
      "|1993-06-03T00:00:00Z| Sandanme 76 West|200903| 180.0|  Dewanoumi| 358|                NULL| 3189|            Oginosho|小城ノ正(おぎのしょう)|Osaka-fu, Ikeda-s...|   11767| 125.0|       358|    1|          NULL|      331|        335|         666|        NULL|   96|          NULL|    NULL|     NULL|      NULL|\n",
      "|1984-05-04T00:00:00Z| Sandanme 57 East|200301| 182.5|  Sakaigawa| 203|                NULL| 2522|         Katsunofuji|  克乃富士(かつのふじ)|Aomori-ken, Nishi...|    2836| 138.0|       203|    0|          NULL|      465|        420|         885|        NULL|  133|          NULL|    NULL|     NULL|      NULL|\n",
      "|1996-09-11T00:00:00Z|   Jonidan 5 West|201511| 180.0|Musashigawa| 341|2025-03-26T00:00:00Z| 3662|           Goshimaru|    剛士丸(ごうしまる)|Kanagawa-ken, Miu...|   12271| 112.0|       341|    0|          NULL|      192|        177|         369|        NULL|   55|          NULL|    NULL|     NULL|      NULL|\n",
      "|2001-05-11T00:00:00Z|  Jonidan 79 West|201703| 179.0|  Asakayama| 475|2025-05-28T00:00:00Z| 3802|             Kaitoma|    魁當真(かいとうま)|Kanagawa-ken, Yok...|   12411| 135.0|       475|    0|          NULL|      150|        149|         299|        NULL|   47|          NULL|    NULL|     NULL|      NULL|\n",
      "|1995-10-19T00:00:00Z|   Jonidan 9 East|201801| 172.0|    Kokonoe| 344|2025-03-26T00:00:00Z| 3848|         Chiyohokkai|千代北海(ちよほっかい)|Hokkaido, Sapporo...|   12457| 127.0|       344|    0|          NULL|      141|        146|         287|        NULL|   42|          NULL|    NULL|     NULL|      NULL|\n",
      "|1994-06-09T00:00:00Z| Sandanme 57 East|201301| 180.0|   Ikazuchi| 259|2025-03-26T00:00:00Z| 3432|            Saidaiji|    西大司(さいだいじ)|Okayama-ken, Okay...|   12041| 182.0|       259|    0|          NULL|      252|        240|         492|        NULL|   72|          NULL|    NULL|     NULL|      NULL|\n",
      "+--------------------+-----------------+------+------+-----------+----+--------------------+-----+--------------------+----------------------+--------------------+--------+------+----------+-----+--------------+---------+-----------+------------+------------+-----+--------------+--------+---------+----------+\n",
      "only showing top 10 rows\n"
     ]
    }
   ],
   "source": [
    "rikishis.show(10)"
   ]
  },
  {
   "cell_type": "code",
   "execution_count": 36,
   "id": "3f1ab943",
   "metadata": {},
   "outputs": [
    {
     "name": "stdout",
     "output_type": "stream",
     "text": [
      "root\n",
      " |-- birthDate: string (nullable = true)\n",
      " |-- currentRank: string (nullable = true)\n",
      " |-- debut: string (nullable = true)\n",
      " |-- height: double (nullable = true)\n",
      " |-- id: long (nullable = true)\n",
      " |-- intai: string (nullable = true)\n",
      " |-- weight: double (nullable = true)\n",
      " |-- rikishi_id: string (nullable = true)\n",
      " |-- yusho: long (nullable = true)\n",
      " |-- makuuchi_yusho: long (nullable = true)\n",
      " |-- totalWins: long (nullable = true)\n",
      " |-- totalLosses: long (nullable = true)\n",
      " |-- totalMatches: long (nullable = true)\n",
      " |-- makuuchiWins: long (nullable = true)\n",
      " |-- basho: long (nullable = true)\n",
      " |-- Makuuchi_basho: long (nullable = true)\n",
      " |-- Gino_sho: long (nullable = true)\n",
      " |-- Kanto_sho: long (nullable = true)\n",
      " |-- Shukun_sho: long (nullable = true)\n",
      "\n"
     ]
    }
   ],
   "source": [
    "rikishis.printSchema()"
   ]
  },
  {
   "cell_type": "code",
   "execution_count": 35,
   "id": "e1a359c1",
   "metadata": {},
   "outputs": [],
   "source": [
    "rikishis = (rikishis\n",
    "           .drop(\"shikonaEn\")\n",
    "            .drop(\"shikonaJp\")\n",
    "            .drop(\"sumodbId\")\n",
    "            .drop(\"nskId\")\n",
    "            .drop(\"shusshin\")\n",
    "            .drop(\"heya\")\n",
    "           )"
   ]
  },
  {
   "cell_type": "code",
   "execution_count": 128,
   "id": "455beacd",
   "metadata": {},
   "outputs": [
    {
     "name": "stdout",
     "output_type": "stream",
     "text": [
      "root\n",
      " |-- day: long (nullable = true)\n",
      " |-- division: string (nullable = true)\n",
      " |-- eastId: long (nullable = true)\n",
      " |-- eastRank: string (nullable = true)\n",
      " |-- eastShikona: string (nullable = true)\n",
      " |-- kimarite: string (nullable = true)\n",
      " |-- matchNo: long (nullable = true)\n",
      " |-- westId: long (nullable = true)\n",
      " |-- westRank: string (nullable = true)\n",
      " |-- westShikona: string (nullable = true)\n",
      " |-- winnerEn: string (nullable = true)\n",
      " |-- winnerId: long (nullable = true)\n",
      " |-- winnerJp: string (nullable = true)\n",
      " |-- match_date: date (nullable = true)\n",
      " |-- match_id: long (nullable = true)\n",
      " |-- westWin: integer (nullable = false)\n",
      " |-- west_birthDate: string (nullable = true)\n",
      " |-- west_currentRank: string (nullable = true)\n",
      " |-- west_debut: string (nullable = true)\n",
      " |-- west_height: double (nullable = true)\n",
      " |-- west_id: long (nullable = true)\n",
      " |-- west_intai: string (nullable = true)\n",
      " |-- west_weight: double (nullable = true)\n",
      " |-- west_rikishi_id: string (nullable = true)\n",
      " |-- west_yusho: long (nullable = true)\n",
      " |-- west_makuuchi_yusho: long (nullable = true)\n",
      " |-- west_totalWins: long (nullable = true)\n",
      " |-- west_totalLosses: long (nullable = true)\n",
      " |-- west_totalMatches: long (nullable = true)\n",
      " |-- west_makuuchiWins: long (nullable = true)\n",
      " |-- west_basho: long (nullable = true)\n",
      " |-- west_Makuuchi_basho: long (nullable = true)\n",
      " |-- west_Gino_sho: long (nullable = true)\n",
      " |-- west_Kanto_sho: long (nullable = true)\n",
      " |-- west_Shukun_sho: long (nullable = true)\n",
      " |-- east_birthDate: string (nullable = true)\n",
      " |-- east_currentRank: string (nullable = true)\n",
      " |-- east_debut: string (nullable = true)\n",
      " |-- east_height: double (nullable = true)\n",
      " |-- east_id: long (nullable = true)\n",
      " |-- east_intai: string (nullable = true)\n",
      " |-- east_weight: double (nullable = true)\n",
      " |-- east_rikishi_id: string (nullable = true)\n",
      " |-- east_yusho: long (nullable = true)\n",
      " |-- east_makuuchi_yusho: long (nullable = true)\n",
      " |-- east_totalWins: long (nullable = true)\n",
      " |-- east_totalLosses: long (nullable = true)\n",
      " |-- east_totalMatches: long (nullable = true)\n",
      " |-- east_makuuchiWins: long (nullable = true)\n",
      " |-- east_basho: long (nullable = true)\n",
      " |-- east_Makuuchi_basho: long (nullable = true)\n",
      " |-- east_Gino_sho: long (nullable = true)\n",
      " |-- east_Kanto_sho: long (nullable = true)\n",
      " |-- east_Shukun_sho: long (nullable = true)\n",
      "\n"
     ]
    }
   ],
   "source": [
    "def add_prefix(df, prefix):\n",
    "    return df.select([F.col(c).alias(f\"{prefix}_{c}\") for c in df.columns])\n",
    "\n",
    "# Add prefixes\n",
    "west = add_prefix(rikishis, \"west\")\n",
    "east = add_prefix(rikishis, \"east\")\n",
    "\n",
    "# Join with prefixed columns\n",
    "main = (\n",
    "    matches\n",
    "    .join(west, matches.westId == west.west_id, \"left\")\n",
    "    .join(east, matches.eastId == east.east_id, \"left\")\n",
    ")\n",
    "main.printSchema()"
   ]
  },
  {
   "cell_type": "code",
   "execution_count": 43,
   "id": "4da47e6a",
   "metadata": {},
   "outputs": [],
   "source": [
    "ranks = (spark.read\n",
    "      .option(\"multiLine\", \"true\")                # set to \"false\" if you have JSON Lines\n",
    "      .option(\"mode\", \"PERMISSIVE\")               # or \"FAILFAST\"\n",
    "      .option(\"recursiveFileLookup\", \"true\")\n",
    "      .option(\"pathGlobFilter\", \"*.json\")         # only JSON files\n",
    "      .json(\"s3a://ryans-sumo-bucket/sumo-api-calls/rikishi_ranks/\"))"
   ]
  },
  {
   "cell_type": "code",
   "execution_count": 63,
   "id": "6cbe128f",
   "metadata": {},
   "outputs": [],
   "source": [
    "# explode records and flatten struct fields\n",
    "rows = ranks.select(explode(col(\"records\")).alias(\"rank\"))\n",
    "flat = rows.select(\"rank.*\")   # expand struct into columns\n",
    "ranks = (flat.select(\"rank\", \"rankValue\").dropDuplicates())"
   ]
  },
  {
   "cell_type": "code",
   "execution_count": 64,
   "id": "2be4ff71",
   "metadata": {},
   "outputs": [],
   "source": [
    "from pyspark.sql import functions as F, Window\n",
    "\n",
    "# Filter out empty ranks\n",
    "filtered = ranks.filter(F.col(\"rank\") != \"\")\n",
    "\n",
    "# Add a flag: east = 0 (better), west = 1 (worse)\n",
    "with_side = filtered.withColumn(\n",
    "    \"side_flag\",\n",
    "    F.when(F.col(\"rank\").like(\"%East\"), F.lit(0))\n",
    "     .when(F.col(\"rank\").like(\"%West\"), F.lit(1))\n",
    "     .otherwise(F.lit(2))  # fallback if no side is present\n",
    ")\n",
    "\n",
    "# Window: order by rankValue asc, then side_flag asc\n",
    "w = Window.orderBy(\"rankValue\", \"side_flag\")\n",
    "\n",
    "# Assign sequential ordering\n",
    "ordered_ranks = (\n",
    "    with_side\n",
    "    .withColumn(\"order\", F.row_number().over(w))\n",
    "    .select(\"rank\", \"rankValue\", \"order\")\n",
    ")\n"
   ]
  },
  {
   "cell_type": "code",
   "execution_count": 65,
   "id": "72ec74c9",
   "metadata": {},
   "outputs": [
    {
     "name": "stdout",
     "output_type": "stream",
     "text": [
      "+-----------------+---------+-----+\n",
      "|             rank|rankValue|order|\n",
      "+-----------------+---------+-----+\n",
      "|  Yokozuna 1 East|      101|    1|\n",
      "|  Yokozuna 1 West|      101|    2|\n",
      "|  Yokozuna 2 East|      102|    3|\n",
      "|  Yokozuna 2 West|      102|    4|\n",
      "|     Ozeki 1 East|      201|    5|\n",
      "|     Ozeki 1 West|      201|    6|\n",
      "|     Ozeki 2 East|      202|    7|\n",
      "|     Ozeki 2 West|      202|    8|\n",
      "|     Ozeki 3 East|      203|    9|\n",
      "|     Ozeki 3 West|      203|   10|\n",
      "|  Sekiwake 1 East|      301|   11|\n",
      "|  Sekiwake 1 West|      301|   12|\n",
      "|  Sekiwake 2 East|      302|   13|\n",
      "|  Sekiwake 2 West|      302|   14|\n",
      "|  Sekiwake 3 East|      303|   15|\n",
      "|  Komusubi 1 East|      401|   16|\n",
      "|  Komusubi 1 West|      401|   17|\n",
      "|  Komusubi 2 East|      402|   18|\n",
      "|  Komusubi 2 West|      402|   19|\n",
      "|Maegashira 1 East|      501|   20|\n",
      "+-----------------+---------+-----+\n",
      "only showing top 20 rows\n"
     ]
    }
   ],
   "source": [
    "ordered_ranks.show(20)"
   ]
  },
  {
   "cell_type": "code",
   "execution_count": 129,
   "id": "d41d73fb",
   "metadata": {},
   "outputs": [],
   "source": [
    "# Add prefixes\n",
    "west = add_prefix(ordered_ranks, \"west\")\n",
    "east = add_prefix(ordered_ranks, \"east\")\n",
    "\n",
    "main = (main\n",
    "       .join(west, main.westRank == west.west_rank, \"left\")\n",
    "       .join(east, main.eastRank == east.east_rank, \"left\")\n",
    "       )"
   ]
  },
  {
   "cell_type": "code",
   "execution_count": 130,
   "id": "08c87e33",
   "metadata": {},
   "outputs": [],
   "source": [
    "# 1️⃣ Create new parsed date columns safely\n",
    "main = main.withColumn(\n",
    "    \"east_birthdate_parsed\",\n",
    "    F.to_date(F.regexp_replace(F.col(\"east_birthdate\"), \"T.*Z\", \"\"), \"yyyy-MM-dd\")\n",
    ").withColumn(\n",
    "    \"west_birthdate_parsed\",\n",
    "    F.to_date(F.regexp_replace(F.col(\"west_birthdate\"), \"T.*Z\", \"\"), \"yyyy-MM-dd\")\n",
    ").withColumn(\n",
    "    \"match_date_parsed\",\n",
    "    F.to_date(F.col(\"match_date\"), \"yyyy-MM-dd\")\n",
    ")\n",
    "\n",
    "# 2️⃣ Drop original ISO 8601 string columns to avoid automatic timestamp parsing\n",
    "main = main.drop(\"east_birthdate\", \"west_birthdate\", \"match_date\")\n",
    "\n",
    "# 3️⃣ Calculate ages based on parsed dates\n",
    "main = main.withColumn(\n",
    "    \"east_age\",\n",
    "    F.floor(F.months_between(F.col(\"match_date_parsed\"), F.col(\"east_birthdate_parsed\")) / 12)\n",
    ").withColumn(\n",
    "    \"west_age\",\n",
    "    F.floor(F.months_between(F.col(\"match_date_parsed\"), F.col(\"west_birthdate_parsed\")) / 12)\n",
    ")\n",
    "\n",
    "# ✅ Optional: rename parsed match date to original name if needed\n",
    "main = main.withColumnRenamed(\"match_date_parsed\", \"match_date\")"
   ]
  },
  {
   "cell_type": "code",
   "execution_count": 131,
   "id": "4d933e1c",
   "metadata": {},
   "outputs": [],
   "source": [
    "# 1️⃣ Normalize debut strings: handle YYYYMM format\n",
    "main = main.withColumn(\n",
    "    \"east_debut_clean\",\n",
    "    F.when(F.length(\"east_debut\") == 6,\n",
    "           F.concat_ws(\"-\", F.col(\"east_debut\").substr(1,4), F.col(\"east_debut\").substr(5,2), F.lit(\"01\"))\n",
    "          ).otherwise(F.col(\"east_debut\"))\n",
    ").withColumn(\n",
    "    \"west_debut_clean\",\n",
    "    F.when(F.length(\"west_debut\") == 6,\n",
    "           F.concat_ws(\"-\", F.col(\"west_debut\").substr(1,4), F.col(\"west_debut\").substr(5,2), F.lit(\"01\"))\n",
    "          ).otherwise(F.col(\"west_debut\"))\n",
    ")\n",
    "\n",
    "# 2️⃣ Strip ISO 8601 T/Z if present and parse to date\n",
    "main = main.withColumn(\n",
    "    \"east_debut_parsed\",\n",
    "    F.to_date(F.regexp_replace(\"east_debut_clean\", \"T.*Z\", \"\"), \"yyyy-MM-dd\")\n",
    ").withColumn(\n",
    "    \"west_debut_parsed\",\n",
    "    F.to_date(F.regexp_replace(\"west_debut_clean\", \"T.*Z\", \"\"), \"yyyy-MM-dd\")\n",
    ")\n",
    "\n",
    "# 3️⃣ Calculate years active\n",
    "main = main.withColumn(\n",
    "    \"east_years_active\",\n",
    "    F.floor(F.months_between(\"match_date\", \"east_debut_parsed\") / 12)\n",
    ").withColumn(\n",
    "    \"west_years_active\",\n",
    "    F.floor(F.months_between(\"match_date\", \"west_debut_parsed\") / 12)\n",
    ")"
   ]
  },
  {
   "cell_type": "code",
   "execution_count": 142,
   "id": "27b9cb0f",
   "metadata": {},
   "outputs": [],
   "source": [
    "main = main.drop('winnerEn', 'winnerJp', 'kimarite', 'division', 'day', 'matchNo', 'match_id', 'west_intai', 'east_intai', 'west_rankValue', 'east_rankValue', 'eastRank', 'westRank', 'westId', 'eastId', 'eastShikona', 'westShikona', 'east_birthdate_parsed', 'west_birthdate_parsed', 'match_date', 'winnerId', 'west_id', 'east_id', 'west_debut', 'east_debut', 'west_debut_parsed', 'east_debut_parsed', 'east_debut_clean', 'west_debut_clean', 'west_rikishi_id', 'east_rikishi_id', 'west_currentRank', 'east_currentRank', 'west_rank', 'east_rank')"
   ]
  },
  {
   "cell_type": "code",
   "execution_count": 136,
   "id": "d9cad467",
   "metadata": {},
   "outputs": [
    {
     "name": "stdout",
     "output_type": "stream",
     "text": [
      "+-------+----------------+-----------+-----------+---------------+----------+-------------------+--------------+----------------+-----------------+-----------------+----------+-------------------+-------------+--------------+---------------+----------------+-----------+-----------+---------------+----------+-------------------+--------------+----------------+-----------------+-----------------+----------+-------------------+-------------+--------------+---------------+-----------------+----------+-----------------+----------+--------+--------+-----------------+-----------------+\n",
      "|westWin|west_currentRank|west_height|west_weight|west_rikishi_id|west_yusho|west_makuuchi_yusho|west_totalWins|west_totalLosses|west_totalMatches|west_makuuchiWins|west_basho|west_Makuuchi_basho|west_Gino_sho|west_Kanto_sho|west_Shukun_sho|east_currentRank|east_height|east_weight|east_rikishi_id|east_yusho|east_makuuchi_yusho|east_totalWins|east_totalLosses|east_totalMatches|east_makuuchiWins|east_basho|east_Makuuchi_basho|east_Gino_sho|east_Kanto_sho|east_Shukun_sho|        west_rank|west_order|        east_rank|east_order|east_age|west_age|east_years_active|west_years_active|\n",
      "+-------+----------------+-----------+-----------+---------------+----------+-------------------+--------------+----------------+-----------------+-----------------+----------+-------------------+-------------+--------------+---------------+----------------+-----------+-----------+---------------+----------+-------------------+--------------+----------------+-----------------+-----------------+----------+-------------------+-------------+--------------+---------------+-----------------+----------+-----------------+----------+--------+--------+-----------------+-----------------+\n",
      "|      0|            NULL|      174.5|      133.5|           4823|         2|               NULL|           141|             122|              263|             NULL|        44|               NULL|         NULL|          NULL|           NULL|            NULL|      170.0|      166.5|           3781|         0|               NULL|           216|             234|              450|             NULL|        65|               NULL|         NULL|          NULL|           NULL| Jonidan 153 West|       994| Jonidan 154 West|       997|      20|      18|                1|                0|\n",
      "|      1|            NULL|      174.5|      133.5|           4823|         2|               NULL|           141|             122|              263|             NULL|        44|               NULL|         NULL|          NULL|           NULL|            NULL|      177.5|       72.0|           5726|         0|               NULL|            37|              47|               84|             NULL|        14|               NULL|         NULL|          NULL|           NULL| Jonokuchi 2 East|       788| Jonokuchi 4 West|       797|      18|      18|                0|                0|\n",
      "|      1|            NULL|      174.5|      133.5|           4823|         2|               NULL|           141|             122|              263|             NULL|        44|               NULL|         NULL|          NULL|           NULL|            NULL|      181.0|       95.5|           6043|         0|               NULL|            23|              19|               42|             NULL|         8|               NULL|         NULL|          NULL|           NULL| Jonokuchi 2 East|       788| Jonokuchi 3 West|       794|      19|      18|                0|                0|\n",
      "|      0|            NULL|      173.5|      105.0|           5385|         0|               NULL|            98|             105|              203|             NULL|        30|               NULL|         NULL|          NULL|           NULL|            NULL|      176.0|      117.0|           5220|         0|               NULL|           209|             232|              441|             NULL|        64|               NULL|         NULL|          NULL|           NULL|  Jonidan 25 West|       630|  Jonidan 20 West|       620|      25|      21|                9|                4|\n",
      "|      1|            NULL|      173.5|      105.0|           5385|         0|               NULL|            98|             105|              203|             NULL|        30|               NULL|         NULL|          NULL|           NULL|            NULL|      175.5|      184.0|            483|         1|               NULL|           547|             573|             1120|             NULL|       165|               NULL|         NULL|          NULL|           NULL|  Jonidan 25 West|       630|  Jonidan 25 East|       629|      18|      21|                2|                4|\n",
      "|      0|            NULL|      185.0|      169.0|           5409|         2|               NULL|           200|             139|              339|             NULL|        58|               NULL|         NULL|          NULL|           NULL|            NULL|      180.4|      126.0|           3672|         1|               NULL|           363|             372|              735|             NULL|       106|               NULL|         NULL|          NULL|           NULL|Makushita 58 East|       243|Makushita 57 East|       241|      25|      26|               10|                9|\n",
      "|      1|            NULL|      174.5|      133.5|           4823|         2|               NULL|           141|             122|              263|             NULL|        44|               NULL|         NULL|          NULL|           NULL|            NULL|      178.0|      118.0|           4021|         0|               NULL|           202|             215|              417|             NULL|        60|               NULL|         NULL|          NULL|           NULL| Sandanme 87 West|       513| Sandanme 91 East|       520|      20|      21|                5|                3|\n",
      "|      1|            NULL|      173.5|      105.0|           5385|         0|               NULL|            98|             105|              203|             NULL|        30|               NULL|         NULL|          NULL|           NULL|            NULL|      182.0|      146.7|           3666|         1|               NULL|           177|             140|              317|             NULL|        54|               NULL|         NULL|          NULL|           NULL|  Jonidan 25 West|       630|  Jonidan 24 West|       628|      17|      21|                2|                4|\n",
      "|      0|            NULL|      185.0|      169.0|           5409|         2|               NULL|           200|             139|              339|             NULL|        58|               NULL|         NULL|          NULL|           NULL|            NULL|      188.0|      133.5|           3726|         0|               NULL|           360|             340|              700|             NULL|       101|               NULL|         NULL|          NULL|           NULL|Makushita 49 West|       225|Makushita 48 West|       223|      23|      24|                8|                7|\n",
      "|      0|            NULL|      174.5|      133.5|           4823|         2|               NULL|           141|             122|              263|             NULL|        44|               NULL|         NULL|          NULL|           NULL|            NULL|      182.0|      110.0|           5068|         0|               NULL|           227|             214|              441|             NULL|        67|               NULL|         NULL|          NULL|           NULL| Jonidan 149 West|       977| Jonidan 146 West|       965|      24|      19|                6|                1|\n",
      "+-------+----------------+-----------+-----------+---------------+----------+-------------------+--------------+----------------+-----------------+-----------------+----------+-------------------+-------------+--------------+---------------+----------------+-----------+-----------+---------------+----------+-------------------+--------------+----------------+-----------------+-----------------+----------+-------------------+-------------+--------------+---------------+-----------------+----------+-----------------+----------+--------+--------+-----------------+-----------------+\n",
      "only showing top 10 rows\n"
     ]
    }
   ],
   "source": [
    "main.show(10)"
   ]
  },
  {
   "cell_type": "code",
   "execution_count": 143,
   "id": "f604406f",
   "metadata": {},
   "outputs": [
    {
     "name": "stdout",
     "output_type": "stream",
     "text": [
      "root\n",
      " |-- westWin: integer (nullable = false)\n",
      " |-- west_height: double (nullable = true)\n",
      " |-- west_weight: double (nullable = true)\n",
      " |-- west_yusho: long (nullable = true)\n",
      " |-- west_makuuchi_yusho: long (nullable = true)\n",
      " |-- west_totalWins: long (nullable = true)\n",
      " |-- west_totalLosses: long (nullable = true)\n",
      " |-- west_totalMatches: long (nullable = true)\n",
      " |-- west_makuuchiWins: long (nullable = true)\n",
      " |-- west_basho: long (nullable = true)\n",
      " |-- west_Makuuchi_basho: long (nullable = true)\n",
      " |-- west_Gino_sho: long (nullable = true)\n",
      " |-- west_Kanto_sho: long (nullable = true)\n",
      " |-- west_Shukun_sho: long (nullable = true)\n",
      " |-- east_height: double (nullable = true)\n",
      " |-- east_weight: double (nullable = true)\n",
      " |-- east_yusho: long (nullable = true)\n",
      " |-- east_makuuchi_yusho: long (nullable = true)\n",
      " |-- east_totalWins: long (nullable = true)\n",
      " |-- east_totalLosses: long (nullable = true)\n",
      " |-- east_totalMatches: long (nullable = true)\n",
      " |-- east_makuuchiWins: long (nullable = true)\n",
      " |-- east_basho: long (nullable = true)\n",
      " |-- east_Makuuchi_basho: long (nullable = true)\n",
      " |-- east_Gino_sho: long (nullable = true)\n",
      " |-- east_Kanto_sho: long (nullable = true)\n",
      " |-- east_Shukun_sho: long (nullable = true)\n",
      " |-- west_order: integer (nullable = true)\n",
      " |-- east_order: integer (nullable = true)\n",
      " |-- east_age: long (nullable = true)\n",
      " |-- west_age: long (nullable = true)\n",
      " |-- east_years_active: long (nullable = true)\n",
      " |-- west_years_active: long (nullable = true)\n",
      "\n"
     ]
    }
   ],
   "source": [
    "main.printSchema()"
   ]
  },
  {
   "cell_type": "code",
   "execution_count": null,
   "id": "8bd28166",
   "metadata": {
    "scrolled": false
   },
   "outputs": [],
   "source": [
    "from pyspark.sql import functions as F\n",
    "from pyspark.sql import types as T\n",
    "from pyspark.ml import Pipeline\n",
    "from pyspark.ml.feature import Imputer, VectorAssembler, StandardScaler\n",
    "from pyspark.ml.classification import LogisticRegression  # try GBTClassifier later\n",
    "from pyspark.ml.evaluation import BinaryClassificationEvaluator, MulticlassClassificationEvaluator\n",
    "\n",
    "df0 = main  # your input DataFrame with the schema you posted\n",
    "\n",
    "# 1) Drop IDs & duplicate string ranks; prefer the numeric order columns if present\n",
    "cols_to_drop = [\"west_rikishi_id\", \"east_rikishi_id\", \"west_rank\", \"east_rank\", \"west_currentRank\", \"east_currentRank\"]\n",
    "df1 = df0.drop(*[c for c in cols_to_drop if c in df0.columns])\n",
    "\n",
    "# 2) Safe ratio helper (avoid division by 0)\n",
    "def safe_ratio(numer, denom, default=F.lit(None)):\n",
    "    return F.when(denom.isNull() | (denom == 0), default).otherwise(numer / denom)\n",
    "\n",
    "# 3) Core win-rate features for both sides\n",
    "df2 = (\n",
    "    df1\n",
    "    .withColumn(\"west_winRate\", safe_ratio(F.col(\"west_totalWins\").cast(\"double\"), F.col(\"west_totalMatches\").cast(\"double\")))\n",
    "    .withColumn(\"east_winRate\", safe_ratio(F.col(\"east_totalWins\").cast(\"double\"), F.col(\"east_totalMatches\").cast(\"double\")))\n",
    "    .withColumn(\"west_makuuchiWinRate\", safe_ratio(F.col(\"west_makuuchiWins\").cast(\"double\"), F.col(\"west_Makuuchi_basho\").cast(\"double\")))\n",
    "    .withColumn(\"east_makuuchiWinRate\", safe_ratio(F.col(\"east_makuuchiWins\").cast(\"double\"), F.col(\"east_Makuuchi_basho\").cast(\"double\")))\n",
    ")\n",
    "\n",
    "# 4) Relative (west - east) deltas—these are often the most predictive\n",
    "delta_pairs = [\n",
    "    (\"height\", \"double\"),\n",
    "    (\"weight\", \"double\"),\n",
    "    (\"age\", \"double\"),\n",
    "    (\"years_active\", \"double\"),\n",
    "    (\"winRate\", \"double\"),\n",
    "    (\"makuuchiWinRate\", \"double\"),\n",
    "    (\"yusho\", \"double\"),\n",
    "    (\"makuuchi_yusho\", \"double\"),\n",
    "    (\"totalWins\", \"double\"),\n",
    "    (\"totalLosses\", \"double\"),\n",
    "    (\"totalMatches\", \"double\"),\n",
    "    (\"Makuuchi_basho\", \"double\"),\n",
    "    (\"Gino_sho\", \"double\"),\n",
    "    (\"Kanto_sho\", \"double\"),\n",
    "    (\"Shukun_sho\", \"double\"),\n",
    "    (\"order\", \"double\"),  # ordinal rank (lower is better)\n",
    "]\n",
    "\n",
    "df3 = df2\n",
    "for base, _ in delta_pairs:\n",
    "    w = F.col(f\"west_{base}\").cast(\"double\")\n",
    "    e = F.col(f\"east_{base}\").cast(\"double\")\n",
    "    if f\"west_{base}\" in df2.columns and f\"east_{base}\" in df2.columns:\n",
    "        df3 = df3.withColumn(f\"d_{base}\", w - e)\n",
    "\n",
    "# 5) Choose model features\n",
    "side_feats = [\n",
    "    # side-specific numeric stats you want to keep in addition to deltas\n",
    "    \"west_order\", \"east_order\",\n",
    "    \"west_basho\", \"east_basho\",\n",
    "    \"west_Makuuchi_basho\", \"east_Makuuchi_basho\",\n",
    "    \"west_Gino_sho\", \"east_Gino_sho\",\n",
    "    \"west_Kanto_sho\", \"east_Kanto_sho\",\n",
    "    \"west_Shukun_sho\", \"east_Shukun_sho\",\n",
    "    \"west_winRate\", \"east_winRate\",\n",
    "    \"west_makuuchiWinRate\", \"east_makuuchiWinRate\",\n",
    "    \"west_height\", \"east_height\",\n",
    "    \"west_weight\", \"east_weight\",\n",
    "    \"west_age\", \"east_age\",\n",
    "    \"west_years_active\", \"east_years_active\",\n",
    "    \"west_totalMatches\", \"east_totalMatches\",\n",
    "]\n",
    "\n",
    "delta_feats = [f\"d_{b}\" for (b, _) in delta_pairs if f\"d_{b}\" in df3.columns]\n",
    "\n",
    "all_features = [c for c in side_feats + delta_feats if c in df3.columns]\n",
    "\n",
    "# 6) Impute missing numeric values\n",
    "imputer = Imputer(\n",
    "    inputCols=all_features,\n",
    "    outputCols=[c + \"_imp\" for c in all_features]\n",
    ").setStrategy(\"median\")\n",
    "\n",
    "imp_features = [c + \"_imp\" for c in all_features]\n",
    "\n",
    "# 7) Assemble & (for linear model) scale\n",
    "assembler = VectorAssembler(inputCols=imp_features, outputCol=\"features_raw\")\n",
    "scaler = StandardScaler(inputCol=\"features_raw\", outputCol=\"features\", withMean=True, withStd=True)\n",
    "\n",
    "# 8) Class imbalance: weightCol\n",
    "# weight = (neg_count / pos_count) for positive class; 1.0 for negative class\n",
    "label_col = \"westWin\"\n",
    "counts = df3.groupBy(label_col).count().collect()\n",
    "count_map = {row[label_col]: row[\"count\"] for row in counts}\n",
    "pos = count_map.get(1, 1)\n",
    "neg = count_map.get(0, 1)\n",
    "pos_weight = float(neg) / float(max(pos, 1))\n",
    "\n",
    "df4 = df3.withColumn(\n",
    "    \"classWeight\",\n",
    "    F.when(F.col(label_col) == 1, F.lit(pos_weight)).otherwise(F.lit(1.0))\n",
    ")\n",
    "\n",
    "# 9) Train/validation split (start with random; consider time-based by basho later)\n",
    "train, test = df4.randomSplit([0.8, 0.2], seed=42)\n",
    "\n",
    "# 10) Baseline model\n",
    "lr = LogisticRegression(\n",
    "    labelCol=label_col,\n",
    "    featuresCol=\"features\",\n",
    "    weightCol=\"classWeight\",\n",
    "    maxIter=100,\n",
    "    elasticNetParam=0.0,   # L2 baseline; try a grid later\n",
    "    regParam=0.01\n",
    ")\n",
    "\n",
    "pipeline = Pipeline(stages=[imputer, assembler, scaler, lr])\n",
    "model = pipeline.fit(train)\n",
    "\n",
    "pred = model.transform(test)\n",
    "\n",
    "# 11) Evaluation\n",
    "auc = BinaryClassificationEvaluator(\n",
    "    labelCol=label_col,\n",
    "    rawPredictionCol=\"rawPrediction\",\n",
    "    metricName=\"areaUnderROC\"\n",
    ").evaluate(pred)\n",
    "\n",
    "aupr = BinaryClassificationEvaluator(\n",
    "    labelCol=label_col,\n",
    "    rawPredictionCol=\"rawPrediction\",\n",
    "    metricName=\"areaUnderPR\"\n",
    ").evaluate(pred)\n",
    "\n",
    "acc = MulticlassClassificationEvaluator(\n",
    "    labelCol=label_col,\n",
    "    predictionCol=\"prediction\",\n",
    "    metricName=\"accuracy\"\n",
    ").evaluate(pred)\n",
    "\n",
    "print(f\"AUC:  {auc:.4f}\")\n",
    "print(f\"AUPR: {aupr:.4f}\")\n",
    "print(f\"ACC:  {acc:.4f}\")\n",
    "\n",
    "# Optional: confusion matrix quick view\n",
    "cm = (pred\n",
    "      .groupBy(\"prediction\", label_col)\n",
    "      .count()\n",
    "      .orderBy(\"prediction\", label_col))\n",
    "cm.show()\n",
    "\n",
    "# 12) Save the model for later scoring\n",
    "# model.write().overwrite().save(\"models/sumo_westwin_lr_pipeline\")\n"
   ]
  },
  {
   "cell_type": "code",
   "execution_count": null,
   "id": "cf459a19",
   "metadata": {},
   "outputs": [],
   "source": []
  }
 ],
 "metadata": {
  "kernelspec": {
   "display_name": "venv (3.10.11)",
   "language": "python",
   "name": "python3"
  },
  "language_info": {
   "codemirror_mode": {
    "name": "ipython",
    "version": 3
   },
   "file_extension": ".py",
   "mimetype": "text/x-python",
   "name": "python",
   "nbconvert_exporter": "python",
   "pygments_lexer": "ipython3",
   "version": "3.10.11"
  }
 },
 "nbformat": 4,
 "nbformat_minor": 5
}
